{
 "cells": [
  {
   "cell_type": "markdown",
   "id": "fdc7b345-a624-48c1-8249-bc20792e1afd",
   "metadata": {},
   "source": [
    "# MM Homework 2\n",
    "\n",
    "**FBA Quant 이의형**"
   ]
  },
  {
   "cell_type": "markdown",
   "id": "e7012b31-6005-481a-b87f-d48cda5ebe80",
   "metadata": {},
   "source": [
    "---"
   ]
  },
  {
   "cell_type": "code",
   "execution_count": 1,
   "id": "06c61b91-a5c5-414b-8f36-55d03112431f",
   "metadata": {
    "execution": {
     "iopub.execute_input": "2025-03-09T15:27:44.819474Z",
     "iopub.status.busy": "2025-03-09T15:27:44.819474Z",
     "iopub.status.idle": "2025-03-09T15:27:44.822788Z",
     "shell.execute_reply": "2025-03-09T15:27:44.822788Z",
     "shell.execute_reply.started": "2025-03-09T15:27:44.819474Z"
    }
   },
   "outputs": [],
   "source": [
    "DATA_PATH = 'data/'"
   ]
  },
  {
   "cell_type": "markdown",
   "id": "87aab113-65a5-48d4-9ca6-5fb79618291e",
   "metadata": {},
   "source": [
    "### Problem 1. Quoted spread for different trade sizes\n",
    "\n",
    "Consider the following LOB. (This data is in the file with its name as ch2_ex1.xlsx)\n",
    "\n",
    "From the data in this table, compute the weighted average quoted spread (in absolute and relative terms) for 100, 500, 1,000 and 2,000 shares.  \n",
    "Which side of the LOB is deeper for transactions of 2,000 shares or more?"
   ]
  },
  {
   "cell_type": "code",
   "execution_count": 2,
   "id": "080c5be8-45ec-4cd3-87f5-9fa0142d4f2d",
   "metadata": {
    "execution": {
     "iopub.execute_input": "2025-03-09T15:27:44.823793Z",
     "iopub.status.busy": "2025-03-09T15:27:44.822788Z",
     "iopub.status.idle": "2025-03-09T15:27:45.369006Z",
     "shell.execute_reply": "2025-03-09T15:27:45.369006Z",
     "shell.execute_reply.started": "2025-03-09T15:27:44.823793Z"
    },
    "scrolled": true
   },
   "outputs": [
    {
     "data": {
      "text/html": [
       "<div>\n",
       "<style scoped>\n",
       "    .dataframe tbody tr th:only-of-type {\n",
       "        vertical-align: middle;\n",
       "    }\n",
       "\n",
       "    .dataframe tbody tr th {\n",
       "        vertical-align: top;\n",
       "    }\n",
       "\n",
       "    .dataframe thead th {\n",
       "        text-align: right;\n",
       "    }\n",
       "</style>\n",
       "<table border=\"1\" class=\"dataframe\">\n",
       "  <thead>\n",
       "    <tr style=\"text-align: right;\">\n",
       "      <th></th>\n",
       "      <th>Price</th>\n",
       "      <th>Size</th>\n",
       "      <th>Time</th>\n",
       "      <th>Side</th>\n",
       "    </tr>\n",
       "  </thead>\n",
       "  <tbody>\n",
       "    <tr>\n",
       "      <th>11</th>\n",
       "      <td>78.60</td>\n",
       "      <td>375</td>\n",
       "      <td>08:01:31.987000</td>\n",
       "      <td>Ask</td>\n",
       "    </tr>\n",
       "    <tr>\n",
       "      <th>12</th>\n",
       "      <td>78.64</td>\n",
       "      <td>500</td>\n",
       "      <td>09:30:04.032000</td>\n",
       "      <td>Ask</td>\n",
       "    </tr>\n",
       "    <tr>\n",
       "      <th>13</th>\n",
       "      <td>78.87</td>\n",
       "      <td>20</td>\n",
       "      <td>07:01:01.027000</td>\n",
       "      <td>Ask</td>\n",
       "    </tr>\n",
       "    <tr>\n",
       "      <th>14</th>\n",
       "      <td>78.95</td>\n",
       "      <td>200</td>\n",
       "      <td>08:01:35.011000</td>\n",
       "      <td>Ask</td>\n",
       "    </tr>\n",
       "    <tr>\n",
       "      <th>15</th>\n",
       "      <td>80.00</td>\n",
       "      <td>350</td>\n",
       "      <td>09:15:00.029000</td>\n",
       "      <td>Ask</td>\n",
       "    </tr>\n",
       "    <tr>\n",
       "      <th>16</th>\n",
       "      <td>74.42</td>\n",
       "      <td>300</td>\n",
       "      <td>11:49:38.957000</td>\n",
       "      <td>Bid</td>\n",
       "    </tr>\n",
       "    <tr>\n",
       "      <th>17</th>\n",
       "      <td>74.41</td>\n",
       "      <td>100</td>\n",
       "      <td>11:46:54.970000</td>\n",
       "      <td>Bid</td>\n",
       "    </tr>\n",
       "    <tr>\n",
       "      <th>18</th>\n",
       "      <td>74.36</td>\n",
       "      <td>400</td>\n",
       "      <td>11:48:30.010000</td>\n",
       "      <td>Bid</td>\n",
       "    </tr>\n",
       "    <tr>\n",
       "      <th>19</th>\n",
       "      <td>74.36</td>\n",
       "      <td>400</td>\n",
       "      <td>11:48:31.997000</td>\n",
       "      <td>Bid</td>\n",
       "    </tr>\n",
       "    <tr>\n",
       "      <th>20</th>\n",
       "      <td>74.00</td>\n",
       "      <td>13</td>\n",
       "      <td>10:56:00.038000</td>\n",
       "      <td>Bid</td>\n",
       "    </tr>\n",
       "  </tbody>\n",
       "</table>\n",
       "</div>"
      ],
      "text/plain": [
       "    Price  Size             Time Side\n",
       "11  78.60   375  08:01:31.987000  Ask\n",
       "12  78.64   500  09:30:04.032000  Ask\n",
       "13  78.87    20  07:01:01.027000  Ask\n",
       "14  78.95   200  08:01:35.011000  Ask\n",
       "15  80.00   350  09:15:00.029000  Ask\n",
       "16  74.42   300  11:49:38.957000  Bid\n",
       "17  74.41   100  11:46:54.970000  Bid\n",
       "18  74.36   400  11:48:30.010000  Bid\n",
       "19  74.36   400  11:48:31.997000  Bid\n",
       "20  74.00    13  10:56:00.038000  Bid"
      ]
     },
     "execution_count": 2,
     "metadata": {},
     "output_type": "execute_result"
    }
   ],
   "source": [
    "import pandas as pd\n",
    "\n",
    "ob = pd.read_excel(DATA_PATH + 'ch2_ex1.xlsx')\n",
    "mid = int(len(ob) / 2)\n",
    "ob.iloc[mid - 5:mid + 5]"
   ]
  },
  {
   "cell_type": "code",
   "execution_count": 3,
   "id": "0d9ce75a-d798-459d-9968-67572987d6ea",
   "metadata": {
    "execution": {
     "iopub.execute_input": "2025-03-09T15:27:45.370010Z",
     "iopub.status.busy": "2025-03-09T15:27:45.370010Z",
     "iopub.status.idle": "2025-03-09T15:27:45.375223Z",
     "shell.execute_reply": "2025-03-09T15:27:45.375223Z",
     "shell.execute_reply.started": "2025-03-09T15:27:45.370010Z"
    }
   },
   "outputs": [],
   "source": [
    "def calculate_quoted_spread(ob, tg_shares, rel=True):\n",
    "    ask_prc = calculate_avg_prc(ob, tg_shares, 'ask')\n",
    "    bid_prc = calculate_avg_prc(ob, tg_shares, 'bid')\n",
    "    abs_spread = ask_prc - bid_prc\n",
    "    if rel:\n",
    "        mid_prc = calculate_mid_prc(ob)\n",
    "        return abs_spread / mid_prc\n",
    "    return abs_spread\n",
    "\n",
    "\n",
    "def calculate_avg_prc(ob, tg_shares, side):\n",
    "    trd_val = 0\n",
    "    tg_shares = tg_shares\n",
    "    init_tg_shares = tg_shares\n",
    "    is_asc = get_sort_flag(side)\n",
    "    ob = ob[ob.Side.eq(side.capitalize())].sort_values('Price', ascending=is_asc)\n",
    "    \n",
    "    for tup in ob.itertuples():\n",
    "        trd_shares = min(tg_shares, tup.Size)\n",
    "        trd_val += trd_shares * tup.Price\n",
    "        tg_shares -= trd_shares\n",
    "        if tg_shares == 0:\n",
    "            avg_prc = trd_val / init_tg_shares\n",
    "            return avg_prc\n",
    "    raise Exception(f\"Insufficient depth in orderbook.\")\n",
    "\n",
    "\n",
    "def get_sort_flag(side):\n",
    "    match side:\n",
    "        case 'ask':\n",
    "            return True\n",
    "        case 'bid':\n",
    "            return False\n",
    "        case _:\n",
    "            raise ValueError(f\"Input 'bid' or 'ask', not {side}\")\n",
    "\n",
    "\n",
    "def calculate_mid_prc(ob):\n",
    "    ob_ask = ob[ob.Side.eq('Ask')]\n",
    "    ob_bid = ob[ob.Side.eq('Bid')]\n",
    "\n",
    "    best_ask_idx = ob_ask.Price.min()\n",
    "    best_bid_idx = ob_bid.Price.max()\n",
    "    \n",
    "    mid_prc = (best_ask_idx + best_bid_idx) / 2\n",
    "    return mid_prc"
   ]
  },
  {
   "cell_type": "code",
   "execution_count": 4,
   "id": "eb2ae0e7-5c30-4282-a998-91a3fb176344",
   "metadata": {
    "execution": {
     "iopub.execute_input": "2025-03-09T15:27:45.376230Z",
     "iopub.status.busy": "2025-03-09T15:27:45.376230Z",
     "iopub.status.idle": "2025-03-09T15:27:45.389149Z",
     "shell.execute_reply": "2025-03-09T15:27:45.389149Z",
     "shell.execute_reply.started": "2025-03-09T15:27:45.376230Z"
    }
   },
   "outputs": [
    {
     "name": "stdout",
     "output_type": "stream",
     "text": [
      "shares: 100\n",
      "- abs: 0.0600\n",
      "- rel: 0.000806\n",
      "\n",
      "shares: 500\n",
      "- abs: 0.0740\n",
      "- rel: 0.000994\n",
      "\n",
      "shares: 1,000\n",
      "- abs: 0.3750\n",
      "- rel: 0.005037\n",
      "\n",
      "shares: 2,000\n",
      "- abs: 1.8388\n",
      "- rel: 0.024699\n",
      "\n"
     ]
    }
   ],
   "source": [
    "shares = [100, 500, 1000, 2000]\n",
    "for s in shares:\n",
    "    print(f\"shares: {s:,}\")\n",
    "    print(f\"- abs: {calculate_quoted_spread(ob, s, rel=False):.4f}\")\n",
    "    print(f\"- rel: {calculate_quoted_spread(ob, s, rel=True):.6f}\")\n",
    "    print()"
   ]
  },
  {
   "cell_type": "markdown",
   "id": "7ca3acfe-e48e-4881-9921-1d244f51b365",
   "metadata": {},
   "source": [
    "---"
   ]
  },
  {
   "cell_type": "markdown",
   "id": "a3e6f546-0f0d-4a04-aa29-5e1d0b9574c5",
   "metadata": {},
   "source": [
    "### Problem 2. Measure of bid-ask spread\n",
    "\n",
    "Your fund is considering trading 10-year bonds issued by the Austrian government, and you see that at 9:30 a.m.  \n",
    "their lowest ask price is 102.31 and their highest bid price is 99.50.  \n",
    "Five seconds later a buy order for a block of 10 billion is executed at 102.76.  \n",
    "At 10:30 a.m. you check the market again and see that the lowest ask price is 102.55 and the highest bid price is 100.02."
   ]
  },
  {
   "cell_type": "code",
   "execution_count": 5,
   "id": "5ffba128-4bf4-407d-adbc-db3d944358f8",
   "metadata": {
    "execution": {
     "iopub.execute_input": "2025-03-09T15:27:45.390156Z",
     "iopub.status.busy": "2025-03-09T15:27:45.390156Z",
     "iopub.status.idle": "2025-03-09T15:27:45.392277Z",
     "shell.execute_reply": "2025-03-09T15:27:45.392277Z",
     "shell.execute_reply.started": "2025-03-09T15:27:45.390156Z"
    }
   },
   "outputs": [],
   "source": [
    "t_0930 = {\n",
    "    'ask': 102.31,\n",
    "    'bid': 99.50\n",
    "}\n",
    "t_1030 = {\n",
    "    'ask': 102.55,\n",
    "    'bid': 100.02\n",
    "}\n",
    "exec_prc = 102.76"
   ]
  },
  {
   "cell_type": "markdown",
   "id": "e8c5d77b-fe86-44cb-805e-5011001e58e7",
   "metadata": {},
   "source": [
    "**a. Compute the absolute and the relative quoted spread at 9:30 and 10:30.**"
   ]
  },
  {
   "cell_type": "code",
   "execution_count": 6,
   "id": "6339ee7e-9d6a-468c-ade3-c815c874a178",
   "metadata": {
    "execution": {
     "iopub.execute_input": "2025-03-09T15:27:45.393349Z",
     "iopub.status.busy": "2025-03-09T15:27:45.393349Z",
     "iopub.status.idle": "2025-03-09T15:27:45.396377Z",
     "shell.execute_reply": "2025-03-09T15:27:45.396377Z",
     "shell.execute_reply.started": "2025-03-09T15:27:45.393349Z"
    }
   },
   "outputs": [
    {
     "name": "stdout",
     "output_type": "stream",
     "text": [
      "- abs: 2.8100\n",
      "- rel: 0.027848\n",
      "\n",
      "- abs: 2.5300\n",
      "- rel: 0.024979\n",
      "\n"
     ]
    }
   ],
   "source": [
    "for t in [t_0930, t_1030]:\n",
    "    mid_prc = (t['ask'] + t['bid']) / 2\n",
    "    abs_spread = t['ask'] -  t['bid']\n",
    "    rel_spread = abs_spread / mid_prc\n",
    "    print(f\"- abs: {abs_spread:.4f}\\n- rel: {rel_spread:.6f}\\n\")"
   ]
  },
  {
   "cell_type": "markdown",
   "id": "35fe6bab-f61d-46d4-973c-3d7a3efd6d0e",
   "metadata": {},
   "source": [
    "**b. Compute the absolute and the relative effective ask-side half-spread at 9:30.**"
   ]
  },
  {
   "cell_type": "code",
   "execution_count": 7,
   "id": "ec037968-5305-4f22-b198-5148d3591175",
   "metadata": {
    "execution": {
     "iopub.execute_input": "2025-03-09T15:27:45.397381Z",
     "iopub.status.busy": "2025-03-09T15:27:45.397381Z",
     "iopub.status.idle": "2025-03-09T15:27:45.400396Z",
     "shell.execute_reply": "2025-03-09T15:27:45.400396Z",
     "shell.execute_reply.started": "2025-03-09T15:27:45.397381Z"
    }
   },
   "outputs": [
    {
     "name": "stdout",
     "output_type": "stream",
     "text": [
      "abs: 1.8550\n",
      "rel: 0.018384\n",
      "\n"
     ]
    }
   ],
   "source": [
    "mid_prc = (t_0930['ask'] + t_0930['bid']) / 2\n",
    "side_flag = 1\n",
    "abs_eff_spread = side_flag * (exec_prc - mid_prc)\n",
    "rel_eff_spread = abs_eff_spread / mid_prc\n",
    "print(f\"abs: {abs_eff_spread:.4f}\\nrel: {rel_eff_spread:.6f}\\n\")"
   ]
  },
  {
   "cell_type": "markdown",
   "id": "18d1844e-ae80-4f45-a286-c92a5308e08b",
   "metadata": {},
   "source": [
    "**c. Compare the quoted half-spread with the effective ask-side half-spread (both in absolute and in relative terms) at 9:30.  \n",
    "What explains the  difference between them?**"
   ]
  },
  {
   "cell_type": "markdown",
   "id": "a8cdd7bf-d2af-4c92-b479-36078336ba62",
   "metadata": {},
   "source": [
    "quoted half-spread는 1.405인 반면, effective ask-side half-spread는 2.53로 스프레드가 더 커졌음을 알 수 있다.  \n",
    "이는 매도 주문을 취한 매수 주도 거래가 유동성을 소모했다는 것을 의미한다.  \n",
    "relative spread 또한 같은 결과를 보이며, 이를 통해 매매가 가격에 미치는 영향을 알 수 있다."
   ]
  },
  {
   "cell_type": "markdown",
   "id": "bce13d97-fc28-4361-8afd-f451d83653d0",
   "metadata": {},
   "source": [
    "**d. Compute the absolute realized spread in the 9:30–10:30 interval.  \n",
    "particular, indicate the change in the bid-ask spread associated with a 1 percent increase in trading volume, according to your estimates.**"
   ]
  },
  {
   "cell_type": "code",
   "execution_count": 8,
   "id": "acc74a10-e5db-46b8-ac02-962fc2dd7c36",
   "metadata": {
    "execution": {
     "iopub.execute_input": "2025-03-09T15:27:45.402401Z",
     "iopub.status.busy": "2025-03-09T15:27:45.402401Z",
     "iopub.status.idle": "2025-03-09T15:27:45.405481Z",
     "shell.execute_reply": "2025-03-09T15:27:45.405481Z",
     "shell.execute_reply.started": "2025-03-09T15:27:45.402401Z"
    }
   },
   "outputs": [
    {
     "name": "stdout",
     "output_type": "stream",
     "text": [
      "mid_prc_0930   : 100.9050\n",
      "mid_prc_1030   : 101.2850\n",
      "exec_prc       : 102.7600\n",
      "eff_spread     : 1.8550\n",
      "realized_spread: 1.4750\n"
     ]
    }
   ],
   "source": [
    "mid_prc_0930 = (t_0930['ask'] + t_0930['bid']) / 2\n",
    "mid_prc_1030 = (t_1030['ask'] + t_1030['bid']) / 2\n",
    "\n",
    "side_flag = 1\n",
    "\n",
    "abs_eff_spread = side_flag * (exec_prc - mid_prc_0930)\n",
    "prc_chg = side_flag * (mid_prc_1030 - mid_prc_0930)\n",
    "r_spread = abs_eff_spread - prc_chg\n",
    "print(f\"mid_prc_0930   : {mid_prc_0930:.4f}\")\n",
    "print(f\"mid_prc_1030   : {mid_prc_1030:.4f}\")\n",
    "print(f\"exec_prc       : {exec_prc:.4f}\")\n",
    "print(f\"eff_spread     : {abs_eff_spread:.4f}\")\n",
    "print(f\"realized_spread: {r_spread:.4f}\")"
   ]
  },
  {
   "cell_type": "markdown",
   "id": "4a11f54e-1ed6-4fe1-9174-c0d5344db5ef",
   "metadata": {},
   "source": [
    "**e. Compare the realized spread computed under point d with the absolute effective spread at 9:30 computed under point b.  \n",
    "What explains the difference between them?**"
   ]
  },
  {
   "cell_type": "markdown",
   "id": "93146741-6193-4863-b93f-1156075c68b7",
   "metadata": {},
   "source": [
    "유동성 수요자가 소비한 유동성이 전부 유동성 공급자의 이익으로 돌아가진 않는다.  \n",
    "수요자의 소비 방향이 향후 가격에 영향을 미친다면, 실제로 공급자가 얻을 수 있는 이익은 더 적을 수 있다.  \n",
    "(거래 방향과 거래 후 mid price의 변화가 양의 상관관계가 있다면)  \n",
    "따라서 공급자가 물량을 소비한 뒤, 가격이 오르게 되면 공급자는 오른 가격만큼 더 적은 이익을 얻을 수밖에 없을 것이다.  \n",
    "만약 effective spread가 아주 작은 경우, 공급자는 손실을 볼 수 있다."
   ]
  },
  {
   "cell_type": "markdown",
   "id": "321e3c4f-846e-4149-91d3-47650eec36ca",
   "metadata": {},
   "source": [
    "---"
   ]
  },
  {
   "cell_type": "markdown",
   "id": "5d6d3386-3f09-483d-8145-2571fded0691",
   "metadata": {},
   "source": [
    "### Problem 3. Roll’s estimator and price improvements.\n",
    "\n",
    "Consider Roll’s model. All the assumptions are unchanged,  \n",
    "but we do assume that the transaction occurring at time t occurs either at the ask or bid price with probability λ, or at the midprice with probability 1-λ.  \n",
    "Thus, 1-λ can be seen as the fraction of trades that receive a price improvement or are crossed by brokers at the midprice.  \n",
    "Propose an estimator of the quoted bid-ask spread S for this case."
   ]
  },
  {
   "cell_type": "markdown",
   "id": "39e6497d-26fd-4fd7-b933-ebcbdd773b2d",
   "metadata": {},
   "source": [
    "\n"
   ]
  },
  {
   "cell_type": "markdown",
   "id": "428084d2-8f06-4c28-92dd-d5114d1e390b",
   "metadata": {},
   "source": [
    "bid, ask 체결만 있는 경우,\n",
    "\n",
    "$\n",
    "\\Delta P_t = P_t - P_{t-1}\n",
    "$\n",
    "\n",
    "$\n",
    "= m_t + \\frac{S}{2} d_t - (m_{t-1} + \\frac{S}{2} d_{t-1})\n",
    "$\n",
    "\n",
    "$\n",
    "= \\frac{S}{2} d_t - \\frac{S}{2} d_{t-1} + \\varepsilon_t\n",
    "$\n",
    "\n",
    "　\n",
    "\n",
    "bid, ask 체결확률이 $\\lambda,$ mid price 체결확률이 $1 - \\lambda$인 경우,\n",
    "\n",
    "$\n",
    "P_t = (1-\\lambda) m_t + \\lambda \\left( m_t + \\frac{S}{2} d_t \\right)\n",
    "$\n",
    "\n",
    "\n",
    "$\n",
    "\\Delta P_t = P_t - P_{t-1}\n",
    "$\n",
    "\n",
    "$\n",
    "= m_t + \\lambda \\frac{S}{2} d_t - (m_{t-1} + \\lambda \\frac{S}{2} d_{t-1})\n",
    "$\n",
    "\n",
    "$\n",
    "= \\lambda \\frac{S}{2} d_t - \\lambda \\frac{S}{2} d_{t-1} + \\varepsilon_t\n",
    "$\n",
    "\n",
    "　\n",
    "\n",
    "$\n",
    "\\displaystyle \\operatorname{Cov} (\\Delta P_t, \\Delta P_{t+1}) = \\lambda^2 \\frac{S^2}{4} \\mathbb{E} [(d_t - d_{t-1})(d_{t+1} - d_t)]\n",
    "$\n",
    "\n",
    "$\n",
    "\\displaystyle \\Rightarrow S = \\frac {2} {\\lambda} \\sqrt {\\operatorname{Cov} (\\Delta P_t, \\Delta P_{t+1})}\n",
    "$"
   ]
  },
  {
   "cell_type": "markdown",
   "id": "bda71a35-1087-4533-a34e-72ba362ca7bc",
   "metadata": {
    "execution": {
     "iopub.execute_input": "2025-02-25T15:36:02.838128Z",
     "iopub.status.busy": "2025-02-25T15:36:02.838128Z",
     "iopub.status.idle": "2025-02-25T15:36:02.844136Z",
     "shell.execute_reply": "2025-02-25T15:36:02.844136Z",
     "shell.execute_reply.started": "2025-02-25T15:36:02.838128Z"
    }
   },
   "source": [
    "---"
   ]
  },
  {
   "cell_type": "markdown",
   "id": "15dbeb9c-e28e-49bd-ab91-9702926a503d",
   "metadata": {},
   "source": [
    "### Problem 4. Empirical measurement of quoted spreads. \n",
    "The data for this exercise are contained in an Excel ﬁle, Ch2_AGF_data.xls:  \n",
    "a record of one day’s transactions in the shares of a French company, AGF, on the Paris Bourse. The data comprise:  \n",
    "\n",
    "• time of the transaction  \n",
    "• size of the transaction  \n",
    "• (average) transaction price  \n",
    "• best bid price immediately before the transaction  \n",
    "• best ask price immediately before the transaction  \n",
    "• direction of trade initiation (−1 for transactions below the midprice, + 1 above the midprice)  \n"
   ]
  },
  {
   "cell_type": "code",
   "execution_count": 9,
   "id": "a53b512f-2b69-4204-a795-a0f69afb6a57",
   "metadata": {
    "execution": {
     "iopub.execute_input": "2025-03-09T15:27:45.406485Z",
     "iopub.status.busy": "2025-03-09T15:27:45.406485Z",
     "iopub.status.idle": "2025-03-09T15:27:45.433287Z",
     "shell.execute_reply": "2025-03-09T15:27:45.433287Z",
     "shell.execute_reply.started": "2025-03-09T15:27:45.406485Z"
    }
   },
   "outputs": [
    {
     "data": {
      "text/html": [
       "<div>\n",
       "<style scoped>\n",
       "    .dataframe tbody tr th:only-of-type {\n",
       "        vertical-align: middle;\n",
       "    }\n",
       "\n",
       "    .dataframe tbody tr th {\n",
       "        vertical-align: top;\n",
       "    }\n",
       "\n",
       "    .dataframe thead th {\n",
       "        text-align: right;\n",
       "    }\n",
       "</style>\n",
       "<table border=\"1\" class=\"dataframe\">\n",
       "  <thead>\n",
       "    <tr style=\"text-align: right;\">\n",
       "      <th></th>\n",
       "      <th>Time</th>\n",
       "      <th>Trade Size (|qt|)</th>\n",
       "      <th>Price (pt)</th>\n",
       "      <th>Direction (dt)</th>\n",
       "      <th>Bid(bt)</th>\n",
       "      <th>Ask (at)</th>\n",
       "    </tr>\n",
       "  </thead>\n",
       "  <tbody>\n",
       "    <tr>\n",
       "      <th>0</th>\n",
       "      <td>09:06:04</td>\n",
       "      <td>20</td>\n",
       "      <td>66.7000</td>\n",
       "      <td>-1</td>\n",
       "      <td>66.90</td>\n",
       "      <td>67.00</td>\n",
       "    </tr>\n",
       "    <tr>\n",
       "      <th>1</th>\n",
       "      <td>09:06:11</td>\n",
       "      <td>25</td>\n",
       "      <td>66.6360</td>\n",
       "      <td>-1</td>\n",
       "      <td>66.65</td>\n",
       "      <td>66.70</td>\n",
       "    </tr>\n",
       "    <tr>\n",
       "      <th>2</th>\n",
       "      <td>09:06:26</td>\n",
       "      <td>18</td>\n",
       "      <td>66.6000</td>\n",
       "      <td>-1</td>\n",
       "      <td>66.60</td>\n",
       "      <td>66.65</td>\n",
       "    </tr>\n",
       "    <tr>\n",
       "      <th>3</th>\n",
       "      <td>09:07:18</td>\n",
       "      <td>273</td>\n",
       "      <td>66.4163</td>\n",
       "      <td>-1</td>\n",
       "      <td>66.50</td>\n",
       "      <td>66.55</td>\n",
       "    </tr>\n",
       "    <tr>\n",
       "      <th>4</th>\n",
       "      <td>09:07:36</td>\n",
       "      <td>27</td>\n",
       "      <td>66.5500</td>\n",
       "      <td>1</td>\n",
       "      <td>66.15</td>\n",
       "      <td>66.55</td>\n",
       "    </tr>\n",
       "  </tbody>\n",
       "</table>\n",
       "</div>"
      ],
      "text/plain": [
       "       Time  Trade Size (|qt|)  Price (pt)   Direction (dt)   Bid(bt)  \\\n",
       "0  09:06:04                 20      66.7000               -1    66.90   \n",
       "1  09:06:11                 25      66.6360               -1    66.65   \n",
       "2  09:06:26                 18      66.6000               -1    66.60   \n",
       "3  09:07:18                273      66.4163               -1    66.50   \n",
       "4  09:07:36                 27      66.5500                1    66.15   \n",
       "\n",
       "   Ask (at)  \n",
       "0     67.00  \n",
       "1     66.70  \n",
       "2     66.65  \n",
       "3     66.55  \n",
       "4     66.55  "
      ]
     },
     "execution_count": 9,
     "metadata": {},
     "output_type": "execute_result"
    }
   ],
   "source": [
    "import numpy as np\n",
    "import pandas as pd\n",
    "\n",
    "tr = pd.read_excel(DATA_PATH + 'Ch2_AGF_data.xlsx')\n",
    "tr.head(5)"
   ]
  },
  {
   "cell_type": "code",
   "execution_count": 10,
   "id": "071c1d42-bb75-41f5-ad1f-ff49145ec7c6",
   "metadata": {
    "execution": {
     "iopub.execute_input": "2025-03-09T15:27:45.434292Z",
     "iopub.status.busy": "2025-03-09T15:27:45.434292Z",
     "iopub.status.idle": "2025-03-09T15:27:45.439141Z",
     "shell.execute_reply": "2025-03-09T15:27:45.439141Z",
     "shell.execute_reply.started": "2025-03-09T15:27:45.434292Z"
    }
   },
   "outputs": [
    {
     "data": {
      "text/html": [
       "<div>\n",
       "<style scoped>\n",
       "    .dataframe tbody tr th:only-of-type {\n",
       "        vertical-align: middle;\n",
       "    }\n",
       "\n",
       "    .dataframe tbody tr th {\n",
       "        vertical-align: top;\n",
       "    }\n",
       "\n",
       "    .dataframe thead th {\n",
       "        text-align: right;\n",
       "    }\n",
       "</style>\n",
       "<table border=\"1\" class=\"dataframe\">\n",
       "  <thead>\n",
       "    <tr style=\"text-align: right;\">\n",
       "      <th></th>\n",
       "      <th>time</th>\n",
       "      <th>qty</th>\n",
       "      <th>avg_prc</th>\n",
       "      <th>direction</th>\n",
       "      <th>bid</th>\n",
       "      <th>ask</th>\n",
       "    </tr>\n",
       "  </thead>\n",
       "  <tbody>\n",
       "    <tr>\n",
       "      <th>0</th>\n",
       "      <td>09:06:04</td>\n",
       "      <td>20</td>\n",
       "      <td>66.7000</td>\n",
       "      <td>-1</td>\n",
       "      <td>66.90</td>\n",
       "      <td>67.00</td>\n",
       "    </tr>\n",
       "    <tr>\n",
       "      <th>1</th>\n",
       "      <td>09:06:11</td>\n",
       "      <td>25</td>\n",
       "      <td>66.6360</td>\n",
       "      <td>-1</td>\n",
       "      <td>66.65</td>\n",
       "      <td>66.70</td>\n",
       "    </tr>\n",
       "    <tr>\n",
       "      <th>2</th>\n",
       "      <td>09:06:26</td>\n",
       "      <td>18</td>\n",
       "      <td>66.6000</td>\n",
       "      <td>-1</td>\n",
       "      <td>66.60</td>\n",
       "      <td>66.65</td>\n",
       "    </tr>\n",
       "    <tr>\n",
       "      <th>3</th>\n",
       "      <td>09:07:18</td>\n",
       "      <td>273</td>\n",
       "      <td>66.4163</td>\n",
       "      <td>-1</td>\n",
       "      <td>66.50</td>\n",
       "      <td>66.55</td>\n",
       "    </tr>\n",
       "    <tr>\n",
       "      <th>4</th>\n",
       "      <td>09:07:36</td>\n",
       "      <td>27</td>\n",
       "      <td>66.5500</td>\n",
       "      <td>1</td>\n",
       "      <td>66.15</td>\n",
       "      <td>66.55</td>\n",
       "    </tr>\n",
       "  </tbody>\n",
       "</table>\n",
       "</div>"
      ],
      "text/plain": [
       "       time  qty  avg_prc  direction    bid    ask\n",
       "0  09:06:04   20  66.7000         -1  66.90  67.00\n",
       "1  09:06:11   25  66.6360         -1  66.65  66.70\n",
       "2  09:06:26   18  66.6000         -1  66.60  66.65\n",
       "3  09:07:18  273  66.4163         -1  66.50  66.55\n",
       "4  09:07:36   27  66.5500          1  66.15  66.55"
      ]
     },
     "execution_count": 10,
     "metadata": {},
     "output_type": "execute_result"
    }
   ],
   "source": [
    "tr.columns = ['time', 'qty', 'avg_prc', 'direction', 'bid', 'ask']\n",
    "tr.head(5)"
   ]
  },
  {
   "cell_type": "markdown",
   "id": "4358f436-48e2-4d38-b11f-dc6fb481a6e1",
   "metadata": {},
   "source": [
    "**a. For each transaction, compute the absolute spread S in euro (e); compute the relative spread, s and the log spread: ln(ask)—ln(bid); and compare the average of these three measures.  \n",
    "Then compute the average absolute spread for each of the 17 half-hour time periods of the trading day and plot a graph of your results showing the intraday evolution of the spread.  What kind of pattern over the day would you expect, a priori?**"
   ]
  },
  {
   "cell_type": "code",
   "execution_count": 11,
   "id": "aed7b31e-a6bd-4995-b8db-a5bf28ac160b",
   "metadata": {
    "execution": {
     "iopub.execute_input": "2025-03-09T15:27:45.440146Z",
     "iopub.status.busy": "2025-03-09T15:27:45.440146Z",
     "iopub.status.idle": "2025-03-09T15:27:45.443589Z",
     "shell.execute_reply": "2025-03-09T15:27:45.443589Z",
     "shell.execute_reply.started": "2025-03-09T15:27:45.440146Z"
    }
   },
   "outputs": [
    {
     "name": "stdout",
     "output_type": "stream",
     "text": [
      "abs_spread: 0.1062\n",
      "rel_spread: 0.0016\n",
      "log_spread: 0.0016\n"
     ]
    }
   ],
   "source": [
    "tr['mid'] = (tr.ask + tr.bid) / 2\n",
    "abs_spread = tr.ask - tr.bid\n",
    "rel_spread = abs_spread / tr['mid']\n",
    "log_spread = (tr.ask / tr.bid).apply(np.log)\n",
    "\n",
    "print(f\"abs_spread: {abs_spread.mean():.4f}\")\n",
    "print(f\"rel_spread: {rel_spread.mean():.4f}\")\n",
    "print(f\"log_spread: {log_spread.mean():.4f}\")"
   ]
  },
  {
   "cell_type": "code",
   "execution_count": 12,
   "id": "711fc21a-031a-4cd8-abbd-a525b4c6baca",
   "metadata": {
    "execution": {
     "iopub.execute_input": "2025-03-09T15:27:45.444596Z",
     "iopub.status.busy": "2025-03-09T15:27:45.444596Z",
     "iopub.status.idle": "2025-03-09T15:27:45.819270Z",
     "shell.execute_reply": "2025-03-09T15:27:45.819270Z",
     "shell.execute_reply.started": "2025-03-09T15:27:45.444596Z"
    }
   },
   "outputs": [
    {
     "data": {
      "image/png": "[encoded data removed]",
      "text/plain": [
       "<Figure size 1400x500 with 1 Axes>"
      ]
     },
     "metadata": {},
     "output_type": "display_data"
    }
   ],
   "source": [
    "spread = pd.DataFrame(index=tr.time,\n",
    "                      data={'abs': abs_spread.values,\n",
    "                            'rel': rel_spread.values,\n",
    "                            'log': log_spread.values})\n",
    "spread['abs'].plot(figsize=(14, 5), grid=True);"
   ]
  },
  {
   "cell_type": "markdown",
   "id": "4e3e5f33-de17-4f73-8a95-f0cfb965650a",
   "metadata": {},
   "source": [
    "**b. Compute and compare the average effective trading cost or “halfspread” in absolute terms, relative terms, and logs.**"
   ]
  },
  {
   "cell_type": "code",
   "execution_count": 13,
   "id": "2a0260fc-0678-4d51-87c1-cbd9fe2cd7a2",
   "metadata": {
    "execution": {
     "iopub.execute_input": "2025-03-09T15:27:45.820276Z",
     "iopub.status.busy": "2025-03-09T15:27:45.820276Z",
     "iopub.status.idle": "2025-03-09T15:27:45.824839Z",
     "shell.execute_reply": "2025-03-09T15:27:45.824839Z",
     "shell.execute_reply.started": "2025-03-09T15:27:45.820276Z"
    }
   },
   "outputs": [
    {
     "name": "stdout",
     "output_type": "stream",
     "text": [
      "abs_spread: 0.1183\n",
      "rel_spread: 0.0018\n",
      "log_spread: 0.0016\n"
     ]
    }
   ],
   "source": [
    "abs_spread = abs(tr.avg_prc - tr.mid) * 2\n",
    "rel_spread = abs_spread / tr['mid']\n",
    "log_spread = (tr.ask / tr.bid).apply(np.log)\n",
    "\n",
    "print(f\"abs_spread: {abs_spread.mean():.4f}\")\n",
    "print(f\"rel_spread: {rel_spread.mean():.4f}\")\n",
    "print(f\"log_spread: {log_spread.mean():.4f}\")"
   ]
  },
  {
   "cell_type": "raw",
   "id": "e20a10c6-be52-4c90-8c79-074b2dd43991",
   "metadata": {
    "execution": {
     "iopub.execute_input": "2025-03-02T06:08:11.218710Z",
     "iopub.status.busy": "2025-03-02T06:08:11.218710Z",
     "iopub.status.idle": "2025-03-02T06:08:11.224239Z",
     "shell.execute_reply": "2025-03-02T06:08:11.223734Z",
     "shell.execute_reply.started": "2025-03-02T06:08:11.218710Z"
    }
   },
   "source": [
    "is_ask = tr.direction.eq(-1)\n",
    "is_bid = tr.direction.eq(1)\n",
    "\n",
    "idx_ask = is_ask[is_ask].index\n",
    "idx_bid = is_bid[is_bid].index\n",
    "\n",
    "tr.loc[idx_ask, 'eff_spread'] = tr.loc[idx_ask, "
   ]
  },
  {
   "cell_type": "markdown",
   "id": "a1b47ddc-8623-4cdf-a536-af44141b3d18",
   "metadata": {},
   "source": [
    "**c. Compute the VWAP for the day. Then calculate the VWAP for buyer and seller-initiated transactions for the whole day and compare your results with the VWAP benchmark. Repeat, again separately for buyer and seller-initiated transactions, for transactions divided into three time periods: 9:00 a.m–12:00 a.m., 12:00–3:00, and 3:00–5:30 p.m**"
   ]
  },
  {
   "cell_type": "code",
   "execution_count": 14,
   "id": "6f8f01c0-4aab-4732-8621-1c3d32210fc4",
   "metadata": {
    "execution": {
     "iopub.execute_input": "2025-03-09T15:27:45.825845Z",
     "iopub.status.busy": "2025-03-09T15:27:45.825845Z",
     "iopub.status.idle": "2025-03-09T15:27:45.830239Z",
     "shell.execute_reply": "2025-03-09T15:27:45.830239Z",
     "shell.execute_reply.started": "2025-03-09T15:27:45.825845Z"
    }
   },
   "outputs": [],
   "source": [
    "def show_vwap(tr, start_time='00:00:00', end_time='23:59:59'):\n",
    "    params = dict(\n",
    "        tr=tr,\n",
    "        start_time=start_time,\n",
    "        end_time=end_time\n",
    "    )\n",
    "    vwap = calculate_vwap(**params)\n",
    "    vwap_buy = calculate_vwap(**params, initiated='buyer')\n",
    "    vwap_sell = calculate_vwap(**params, initiated='seller')\n",
    "\n",
    "    print(f\"{start_time} ~ {end_time}\")\n",
    "    print(f\"- VWAP                  : {vwap:.4f}\")\n",
    "    print(f\"- VWAP(buyer-initiated) : {vwap_buy:.4f}\")\n",
    "    print(f\"- VWAP(seller-initiated): {vwap_sell:.4f}\")\n",
    "    print()\n",
    "\n",
    "\n",
    "def calculate_vwap(tr, start_time='00:00:00', end_time='23:59:59', initiated=None):\n",
    "    if initiated is not None:\n",
    "        match initiated:\n",
    "            case 'buyer':\n",
    "                is_bid = tr.direction.eq(1)\n",
    "                idx = is_bid[is_bid].index\n",
    "            case 'seller':\n",
    "                is_ask = tr.direction.eq(-1)\n",
    "                idx = is_ask[is_ask].index\n",
    "            case _:\n",
    "                raise ValueError(f\"Input 'buyer' or 'seller', not {initiated}\")\n",
    "    else:\n",
    "        idx = tr.index\n",
    "\n",
    "    tr = tr.loc[idx]\n",
    "    tr_strtime = tr.time.astype(str)\n",
    "    tr = tr[tr_strtime.gt(start_time) & tr_strtime.le(end_time)]\n",
    "\n",
    "    w = tr.qty / tr.qty.sum()\n",
    "    return tr.avg_prc @ w"
   ]
  },
  {
   "cell_type": "code",
   "execution_count": 15,
   "id": "0e02d5e3-5a32-4337-aea9-e0cc99b6b69e",
   "metadata": {
    "execution": {
     "iopub.execute_input": "2025-03-09T15:27:45.831244Z",
     "iopub.status.busy": "2025-03-09T15:27:45.831244Z",
     "iopub.status.idle": "2025-03-09T15:27:45.841342Z",
     "shell.execute_reply": "2025-03-09T15:27:45.841342Z",
     "shell.execute_reply.started": "2025-03-09T15:27:45.831244Z"
    }
   },
   "outputs": [
    {
     "name": "stdout",
     "output_type": "stream",
     "text": [
      "09:00:00 ~ 12:00:00\n",
      "- VWAP                  : 66.0004\n",
      "- VWAP(buyer-initiated) : 66.0921\n",
      "- VWAP(seller-initiated): 65.9024\n",
      "\n",
      "12:00:00 ~ 15:00:00\n",
      "- VWAP                  : 66.0573\n",
      "- VWAP(buyer-initiated) : 66.1039\n",
      "- VWAP(seller-initiated): 65.9963\n",
      "\n",
      "15:00:00 ~ 17:30:00\n",
      "- VWAP                  : 65.9400\n",
      "- VWAP(buyer-initiated) : 66.0864\n",
      "- VWAP(seller-initiated): 65.8599\n",
      "\n"
     ]
    }
   ],
   "source": [
    "start_times = ['09:00:00', '12:00:00', '15:00:00']\n",
    "end_times = ['12:00:00', '15:00:00', '17:30:00']\n",
    "\n",
    "for start, end in zip(start_times, end_times):\n",
    "    show_vwap(tr, start, end)"
   ]
  },
  {
   "cell_type": "markdown",
   "id": "d2244e22-a8d2-444b-b338-26f96a1fc87e",
   "metadata": {},
   "source": [
    "**d. Compute Roll’s estimate of the bid-ask spread both in euro (e) and in relative terms (using the logarithm of the prices). Then repeat the computations clock time rather than transaction time: take the last transaction in every 15-minute time interval. Compare your results with those previously obtained: what explains the difference in Roll’s measure?**"
   ]
  },
  {
   "cell_type": "code",
   "execution_count": 16,
   "id": "4269641e-909a-402a-a714-40c76e1f7cd4",
   "metadata": {
    "execution": {
     "iopub.execute_input": "2025-03-09T15:27:45.842399Z",
     "iopub.status.busy": "2025-03-09T15:27:45.842399Z",
     "iopub.status.idle": "2025-03-09T15:27:45.844661Z",
     "shell.execute_reply": "2025-03-09T15:27:45.844661Z",
     "shell.execute_reply.started": "2025-03-09T15:27:45.842399Z"
    }
   },
   "outputs": [],
   "source": [
    "def calculate_roll_spread(mid_prcs):\n",
    "    delta_tm1_t = mid_prcs.diff()\n",
    "    delta_t_tp1 = delta_tm1_t.shift(1)\n",
    "    cov_prc = delta_tm1_t.cov(delta_t_tp1)\n",
    "    if cov_prc > 0:\n",
    "        raise ValueError(\"cov_prc {cov_prc} > 0\")\n",
    "    roll_spread = 2 * np.sqrt(-cov_prc)\n",
    "    return roll_spread"
   ]
  },
  {
   "cell_type": "code",
   "execution_count": 17,
   "id": "fca4e97c-c137-43cc-a60c-6f0f3c776ab2",
   "metadata": {
    "execution": {
     "iopub.execute_input": "2025-03-09T15:27:45.845666Z",
     "iopub.status.busy": "2025-03-09T15:27:45.845666Z",
     "iopub.status.idle": "2025-03-09T15:27:45.864309Z",
     "shell.execute_reply": "2025-03-09T15:27:45.863805Z",
     "shell.execute_reply.started": "2025-03-09T15:27:45.845666Z"
    }
   },
   "outputs": [
    {
     "name": "stdout",
     "output_type": "stream",
     "text": [
      "roll_spread_abs    : 0.0303\n",
      "roll_spread_rel    : 0.0005\n",
      "roll_spread_abs_15m: 0.0233\n",
      "roll_spread_rel_15m: 0.0004\n"
     ]
    }
   ],
   "source": [
    "roll_spread_abs = calculate_roll_spread(tr.mid)\n",
    "roll_spread_rel = calculate_roll_spread(tr.mid.apply(np.log))\n",
    "\n",
    "idx_dt = pd.to_datetime(tr.time.astype(str), format='%H:%M:%S')\n",
    "tr_15m = tr.set_index(idx_dt).resample('15min').last()\n",
    "roll_spread_abs_15m = calculate_roll_spread(tr_15m.mid)\n",
    "roll_spread_rel_15m = calculate_roll_spread(tr_15m.mid.apply(np.log))\n",
    "\n",
    "print(f\"roll_spread_abs    : {roll_spread_abs:.4f}\")\n",
    "print(f\"roll_spread_rel    : {roll_spread_rel:.4f}\")\n",
    "print(f\"roll_spread_abs_15m: {roll_spread_abs_15m:.4f}\")\n",
    "print(f\"roll_spread_rel_15m: {roll_spread_rel_15m:.4f}\")"
   ]
  },
  {
   "cell_type": "markdown",
   "id": "46a71949-9e6b-4055-9c68-dea9e8684bb2",
   "metadata": {},
   "source": [
    "Roll's Measure는 가격 반전에 대한 가정을 기반으로, 이전 가격 변화와 현재 가격 변화의 공분산으로 계산된다.  \n",
    "\n",
    "계산 결과, 스프레드는 15분 단위르 측정했을 때보다 거래마다 측정했을 때 더 크게 나타난다.  \n",
    "\n",
    "이는 높은 빈도의 시계열에서 가격 반전이 더 뚜렷히 나타나 음의 상관관계가 커지고, 낮은 빈도에서는 상관관계가 적다는 것을 의미한다.  \n",
    "\n",
    "또한, 다른 스프레드 추정 방법에 비해 스프레드가 낮게 나타나는데, 이에 대해 Roll's Measure가 스프레드를 과소평가한다고 생각할 수도 있다.  \n",
    "\n",
    "Roll's Measure는 다음을 가정한다.  \n",
    "- balanced order flow\n",
    "- non-autocorrelated orders\n",
    "- no effect of orders on the mid quote\n",
    "\n",
    "실제 시장에서는 이러한 가정이 성립하지 않는 경우가 많으며, 각 가정이 성립하지 않을 때 스프레드가 과소추정될 수 있다."
   ]
  },
  {
   "cell_type": "markdown",
   "id": "58e21edc-d21c-49cb-9578-ead39e85b63a",
   "metadata": {},
   "source": [
    "**e. Split the trading day into 15-minute intervals: 9:00–9:15 a.m., 9:15-9:30 a.m., …, 5:15–5:30 p.m. For each interval, compute the midprice change (from the last transaction of the previous interval to the last one of the current interval; for the ﬁrst interval take the midprice at 9:06:04 as the initial midprice) and the cumulative signed order ﬂow over the interval expressed as a fraction of the day’s total (unsigned) order ﬂow. Perform a regression analysis on the 34 data points you obtain in this way, to estimate the price impact parameter λ. Is the estimated parameter signiﬁcantly different from zero? What is the impact on the midprice of a 1% relative order ﬂow increase?**"
   ]
  },
  {
   "cell_type": "code",
   "execution_count": 18,
   "id": "aee3b4f3-2905-4ac5-b4fa-55a774a17b98",
   "metadata": {
    "execution": {
     "iopub.execute_input": "2025-03-09T15:27:45.865315Z",
     "iopub.status.busy": "2025-03-09T15:27:45.864309Z",
     "iopub.status.idle": "2025-03-09T15:27:45.873365Z",
     "shell.execute_reply": "2025-03-09T15:27:45.873365Z",
     "shell.execute_reply.started": "2025-03-09T15:27:45.865315Z"
    }
   },
   "outputs": [],
   "source": [
    "tr['order_flow'] = tr.qty * tr.direction\n",
    "\n",
    "idx_dt = pd.to_datetime(tr.time.astype(str), format='%H:%M:%S')\n",
    "tr_15m = tr.set_index(idx_dt).drop(columns='time').resample('15min').last()\n",
    "tr_15m_cum = tr.set_index(idx_dt).drop(columns='time').resample('15min').sum()"
   ]
  },
  {
   "cell_type": "code",
   "execution_count": 19,
   "id": "df88a1a4-2f0a-44bf-8211-33d1e06c1aa0",
   "metadata": {
    "execution": {
     "iopub.execute_input": "2025-03-09T15:27:45.874370Z",
     "iopub.status.busy": "2025-03-09T15:27:45.874370Z",
     "iopub.status.idle": "2025-03-09T15:27:45.880393Z",
     "shell.execute_reply": "2025-03-09T15:27:45.879878Z",
     "shell.execute_reply.started": "2025-03-09T15:27:45.874370Z"
    }
   },
   "outputs": [
    {
     "data": {
      "text/plain": [
       "array([-0.00896191, -0.0037679 , -0.00189107,  0.00189466,  0.        ,\n",
       "       -0.00642965, -0.00076132, -0.00152381,  0.00038153,  0.01067887,\n",
       "        0.00339623, -0.00639338, -0.00264951,  0.00607211, -0.00037722,\n",
       "       -0.00264151, -0.00075672, -0.0034078 ,  0.0018997 ,  0.00417141,\n",
       "       -0.00377644,  0.0015163 ,  0.        ,  0.00264951, -0.0011325 ,\n",
       "       -0.00037793, -0.00151229, -0.00530102,  0.0060906 , -0.00037836,\n",
       "        0.000757  , -0.00491679,  0.00304067,  0.01098901])"
      ]
     },
     "execution_count": 19,
     "metadata": {},
     "output_type": "execute_result"
    }
   ],
   "source": [
    "prc_diff = tr_15m.mid.pct_change()\n",
    "prc_diff.iat[0] = tr_15m.mid.iat[0] / tr.mid.iat[0] - 1\n",
    "prc_diff.values"
   ]
  },
  {
   "cell_type": "code",
   "execution_count": 20,
   "id": "719c7159-246f-4f71-ab9a-2a03d94e4e2d",
   "metadata": {
    "execution": {
     "iopub.execute_input": "2025-03-09T15:27:45.880916Z",
     "iopub.status.busy": "2025-03-09T15:27:45.880916Z",
     "iopub.status.idle": "2025-03-09T15:27:45.885055Z",
     "shell.execute_reply": "2025-03-09T15:27:45.885055Z",
     "shell.execute_reply.started": "2025-03-09T15:27:45.880916Z"
    }
   },
   "outputs": [
    {
     "data": {
      "text/plain": [
       "array([-0.00102565,  0.00144056, -0.00640619,  0.00632653,  0.0070966 ,\n",
       "       -0.00831145, -0.00973874, -0.01004411,  0.00647258,  0.00921098,\n",
       "        0.02532604, -0.01456164,  0.01096687,  0.01183984,  0.00204135,\n",
       "       -0.00119494, -0.02405144, -0.01150127,  0.0200152 ,  0.000707  ,\n",
       "       -0.00505193,  0.0188269 , -0.0096292 ,  0.01666938, -0.00318982,\n",
       "        0.01176681, -0.06550913, -0.0418726 ,  0.01947748, -0.01106313,\n",
       "       -0.05541522, -0.09263089,  0.01540805,  0.04534456])"
      ]
     },
     "execution_count": 20,
     "metadata": {},
     "output_type": "execute_result"
    }
   ],
   "source": [
    "order_flow = tr_15m_cum.order_flow / tr.qty.sum()\n",
    "order_flow.values"
   ]
  },
  {
   "cell_type": "code",
   "execution_count": 21,
   "id": "a52152b9-0164-4dd7-8770-5c37e156fee2",
   "metadata": {
    "execution": {
     "iopub.execute_input": "2025-03-09T15:27:45.886062Z",
     "iopub.status.busy": "2025-03-09T15:27:45.886062Z",
     "iopub.status.idle": "2025-03-09T15:27:46.563411Z",
     "shell.execute_reply": "2025-03-09T15:27:46.563411Z",
     "shell.execute_reply.started": "2025-03-09T15:27:45.886062Z"
    }
   },
   "outputs": [
    {
     "data": {
      "text/html": [
       "<table class=\"simpletable\">\n",
       "<caption>OLS Regression Results</caption>\n",
       "<tr>\n",
       "  <th>Dep. Variable:</th>           <td>mid</td>       <th>  R-squared:         </th> <td>   0.266</td>\n",
       "</tr>\n",
       "<tr>\n",
       "  <th>Model:</th>                   <td>OLS</td>       <th>  Adj. R-squared:    </th> <td>   0.243</td>\n",
       "</tr>\n",
       "<tr>\n",
       "  <th>Method:</th>             <td>Least Squares</td>  <th>  F-statistic:       </th> <td>   11.57</td>\n",
       "</tr>\n",
       "<tr>\n",
       "  <th>Date:</th>             <td>Mon, 10 Mar 2025</td> <th>  Prob (F-statistic):</th>  <td>0.00181</td>\n",
       "</tr>\n",
       "<tr>\n",
       "  <th>Time:</th>                 <td>00:27:46</td>     <th>  Log-Likelihood:    </th> <td>  141.87</td>\n",
       "</tr>\n",
       "<tr>\n",
       "  <th>No. Observations:</th>      <td>    34</td>      <th>  AIC:               </th> <td>  -279.7</td>\n",
       "</tr>\n",
       "<tr>\n",
       "  <th>Df Residuals:</th>          <td>    32</td>      <th>  BIC:               </th> <td>  -276.7</td>\n",
       "</tr>\n",
       "<tr>\n",
       "  <th>Df Model:</th>              <td>     1</td>      <th>                     </th>     <td> </td>   \n",
       "</tr>\n",
       "<tr>\n",
       "  <th>Covariance Type:</th>      <td>nonrobust</td>    <th>                     </th>     <td> </td>   \n",
       "</tr>\n",
       "</table>\n",
       "<table class=\"simpletable\">\n",
       "<tr>\n",
       "    <td></td>       <th>coef</th>     <th>std err</th>      <th>t</th>      <th>P>|t|</th>  <th>[0.025</th>    <th>0.975]</th>  \n",
       "</tr>\n",
       "<tr>\n",
       "  <th>const</th> <td>    0.0003</td> <td>    0.001</td> <td>    0.383</td> <td> 0.704</td> <td>   -0.001</td> <td>    0.002</td>\n",
       "</tr>\n",
       "<tr>\n",
       "  <th>x1</th>    <td>    0.0852</td> <td>    0.025</td> <td>    3.402</td> <td> 0.002</td> <td>    0.034</td> <td>    0.136</td>\n",
       "</tr>\n",
       "</table>\n",
       "<table class=\"simpletable\">\n",
       "<tr>\n",
       "  <th>Omnibus:</th>       <td> 1.400</td> <th>  Durbin-Watson:     </th> <td>   1.550</td>\n",
       "</tr>\n",
       "<tr>\n",
       "  <th>Prob(Omnibus):</th> <td> 0.497</td> <th>  Jarque-Bera (JB):  </th> <td>   0.503</td>\n",
       "</tr>\n",
       "<tr>\n",
       "  <th>Skew:</th>          <td> 0.180</td> <th>  Prob(JB):          </th> <td>   0.777</td>\n",
       "</tr>\n",
       "<tr>\n",
       "  <th>Kurtosis:</th>      <td> 3.475</td> <th>  Cond. No.          </th> <td>    38.0</td>\n",
       "</tr>\n",
       "</table><br/><br/>Notes:<br/>[1] Standard Errors assume that the covariance matrix of the errors is correctly specified."
      ],
      "text/latex": [
       "\\begin{center}\n",
       "\\begin{tabular}{lclc}\n",
       "\\toprule\n",
       "\\textbf{Dep. Variable:}    &       mid        & \\textbf{  R-squared:         } &     0.266   \\\\\n",
       "\\textbf{Model:}            &       OLS        & \\textbf{  Adj. R-squared:    } &     0.243   \\\\\n",
       "\\textbf{Method:}           &  Least Squares   & \\textbf{  F-statistic:       } &     11.57   \\\\\n",
       "\\textbf{Date:}             & Mon, 10 Mar 2025 & \\textbf{  Prob (F-statistic):} &  0.00181    \\\\\n",
       "\\textbf{Time:}             &     00:27:46     & \\textbf{  Log-Likelihood:    } &    141.87   \\\\\n",
       "\\textbf{No. Observations:} &          34      & \\textbf{  AIC:               } &    -279.7   \\\\\n",
       "\\textbf{Df Residuals:}     &          32      & \\textbf{  BIC:               } &    -276.7   \\\\\n",
       "\\textbf{Df Model:}         &           1      & \\textbf{                     } &             \\\\\n",
       "\\textbf{Covariance Type:}  &    nonrobust     & \\textbf{                     } &             \\\\\n",
       "\\bottomrule\n",
       "\\end{tabular}\n",
       "\\begin{tabular}{lcccccc}\n",
       "               & \\textbf{coef} & \\textbf{std err} & \\textbf{t} & \\textbf{P$> |$t$|$} & \\textbf{[0.025} & \\textbf{0.975]}  \\\\\n",
       "\\midrule\n",
       "\\textbf{const} &       0.0003  &        0.001     &     0.383  &         0.704        &       -0.001    &        0.002     \\\\\n",
       "\\textbf{x1}    &       0.0852  &        0.025     &     3.402  &         0.002        &        0.034    &        0.136     \\\\\n",
       "\\bottomrule\n",
       "\\end{tabular}\n",
       "\\begin{tabular}{lclc}\n",
       "\\textbf{Omnibus:}       &  1.400 & \\textbf{  Durbin-Watson:     } &    1.550  \\\\\n",
       "\\textbf{Prob(Omnibus):} &  0.497 & \\textbf{  Jarque-Bera (JB):  } &    0.503  \\\\\n",
       "\\textbf{Skew:}          &  0.180 & \\textbf{  Prob(JB):          } &    0.777  \\\\\n",
       "\\textbf{Kurtosis:}      &  3.475 & \\textbf{  Cond. No.          } &     38.0  \\\\\n",
       "\\bottomrule\n",
       "\\end{tabular}\n",
       "%\\caption{OLS Regression Results}\n",
       "\\end{center}\n",
       "\n",
       "Notes: \\newline\n",
       " [1] Standard Errors assume that the covariance matrix of the errors is correctly specified."
      ],
      "text/plain": [
       "<class 'statsmodels.iolib.summary.Summary'>\n",
       "\"\"\"\n",
       "                            OLS Regression Results                            \n",
       "==============================================================================\n",
       "Dep. Variable:                    mid   R-squared:                       0.266\n",
       "Model:                            OLS   Adj. R-squared:                  0.243\n",
       "Method:                 Least Squares   F-statistic:                     11.57\n",
       "Date:                Mon, 10 Mar 2025   Prob (F-statistic):            0.00181\n",
       "Time:                        00:27:46   Log-Likelihood:                 141.87\n",
       "No. Observations:                  34   AIC:                            -279.7\n",
       "Df Residuals:                      32   BIC:                            -276.7\n",
       "Df Model:                           1                                         \n",
       "Covariance Type:            nonrobust                                         \n",
       "==============================================================================\n",
       "                 coef    std err          t      P>|t|      [0.025      0.975]\n",
       "------------------------------------------------------------------------------\n",
       "const          0.0003      0.001      0.383      0.704      -0.001       0.002\n",
       "x1             0.0852      0.025      3.402      0.002       0.034       0.136\n",
       "==============================================================================\n",
       "Omnibus:                        1.400   Durbin-Watson:                   1.550\n",
       "Prob(Omnibus):                  0.497   Jarque-Bera (JB):                0.503\n",
       "Skew:                           0.180   Prob(JB):                        0.777\n",
       "Kurtosis:                       3.475   Cond. No.                         38.0\n",
       "==============================================================================\n",
       "\n",
       "Notes:\n",
       "[1] Standard Errors assume that the covariance matrix of the errors is correctly specified.\n",
       "\"\"\""
      ]
     },
     "execution_count": 21,
     "metadata": {},
     "output_type": "execute_result"
    }
   ],
   "source": [
    "from statsmodels.api import OLS\n",
    "\n",
    "x = order_flow.values.reshape(-1, 1)\n",
    "X = np.hstack([np.ones((x.shape[0], 1)), x])\n",
    "y = prc_diff\n",
    "\n",
    "ols = OLS(y, X).fit()\n",
    "ols.summary()"
   ]
  },
  {
   "cell_type": "markdown",
   "id": "bd420e19-6161-4219-8623-a4a149561552",
   "metadata": {
    "execution": {
     "iopub.execute_input": "2025-03-09T15:07:58.159133Z",
     "iopub.status.busy": "2025-03-09T15:07:58.159133Z",
     "iopub.status.idle": "2025-03-09T15:07:58.164158Z",
     "shell.execute_reply": "2025-03-09T15:07:58.163650Z",
     "shell.execute_reply.started": "2025-03-09T15:07:58.159133Z"
    }
   },
   "source": [
    "p-value 0.002로, 추정된 계수는 유의미하다고 볼 수 있다.  \n",
    "\n",
    "15분간 일중 거래량의 1%가 한쪽으로 움직일 때, 가격은 같은 방향으로 약 8.52bp 움직였다."
   ]
  },
  {
   "cell_type": "markdown",
   "id": "9cb20300-3780-468f-b3f0-a886ac8447fe",
   "metadata": {},
   "source": [
    "---"
   ]
  }
 ],
 "metadata": {
  "kernelspec": {
   "display_name": "Python 3 (ipykernel)",
   "language": "python",
   "name": "python3"
  },
  "language_info": {
   "codemirror_mode": {
    "name": "ipython",
    "version": 3
   },
   "file_extension": ".py",
   "mimetype": "text/x-python",
   "name": "python",
   "nbconvert_exporter": "python",
   "pygments_lexer": "ipython3",
   "version": "3.12.7"
  }
 },
 "nbformat": 4,
 "nbformat_minor": 5
}
