{
 "cells": [
  {
   "cell_type": "markdown",
   "id": "d97dd375",
   "metadata": {},
   "source": [
    "# FAI Homework 5\n",
    "\n",
    "**FBA Quant 이의형**"
   ]
  },
  {
   "cell_type": "markdown",
   "id": "ed5382ff",
   "metadata": {},
   "source": [
    "---"
   ]
  },
  {
   "cell_type": "markdown",
   "id": "c44b5606",
   "metadata": {},
   "source": [
    "## Problem 1. Empirical Research for EF, CML, and CAPM"
   ]
  },
  {
   "cell_type": "markdown",
   "id": "6954cf2e",
   "metadata": {},
   "source": [
    "---"
   ]
  },
  {
   "cell_type": "markdown",
   "id": "0403f1bb",
   "metadata": {},
   "source": [
    "**(a)** Draw an efficient frontier and capital market line using 30 stocks daily close price data.  \n",
    "(You get the close price data by using our homework 2. The KRX database crawler.)  \n",
    "Assume risk free rate is 1%."
   ]
  },
  {
   "cell_type": "code",
   "execution_count": 1,
   "id": "8d1cbbb5",
   "metadata": {},
   "outputs": [],
   "source": [
    "import numpy as np\n",
    "import pandas as pd\n",
    "import matplotlib.pyplot as plt\n",
    "\n",
    "from scipy.optimize import minimize\n",
    "\n",
    "from krx import WebSource\n",
    "\n",
    "np.random.seed(28)\n",
    "\n",
    "def filter_period_cond(universe, start, end):\n",
    "    stocks = []\n",
    "    start_list = kw.get_stocks_in_index('KOSPI', start)\n",
    "    end_list = kw.get_stocks_in_index('KOSPI', end)\n",
    "    for start_stock in start_list:\n",
    "        if start_stock in end_list:\n",
    "            stocks.append(start_stock)\n",
    "    return np.array(stocks)"
   ]
  },
  {
   "cell_type": "code",
   "execution_count": 2,
   "id": "84ebfe8d",
   "metadata": {},
   "outputs": [
    {
     "name": "stdout",
     "output_type": "stream",
     "text": [
      "Set freq: 0.1\n"
     ]
    },
    {
     "data": {
      "text/plain": [
       "array(['A034830', 'A005430', 'A002390', 'A019170', 'A042700', 'A039490',\n",
       "       'A012450', 'A020000', 'A129260', 'A015890', 'A071970', 'A001740',\n",
       "       'A000220', 'A017180', 'A012800', 'A012030', 'A009310', 'A092200',\n",
       "       'A001460', 'A000020', 'A271560', 'A011070', 'A014910', 'A024900',\n",
       "       'A014820', 'A007120', 'A002690', 'A074610', 'A000680', 'A004490'],\n",
       "      dtype='<U7')"
      ]
     },
     "execution_count": 2,
     "metadata": {},
     "output_type": "execute_result"
    }
   ],
   "source": [
    "kw = WebSource()\n",
    "kw.set_freq(0.1)\n",
    "\n",
    "start = '2020-09-01'\n",
    "end = '2023-08-31'\n",
    "num = 30\n",
    "\n",
    "universe = kw.get_stocks_in_index('KOSPI', date=end)\n",
    "stock_list = filter_period_cond(universe, start, end)\n",
    "rand_idx = np.random.randint(0, len(stock_list), num)\n",
    "stocks_30 = np.array(stock_list)[rand_idx]\n",
    "stocks_30"
   ]
  },
  {
   "cell_type": "code",
   "execution_count": 3,
   "id": "7d4c7301",
   "metadata": {},
   "outputs": [
    {
     "name": "stdout",
     "output_type": "stream",
     "text": [
      "Wall time: 59.5 s\n"
     ]
    },
    {
     "data": {
      "text/html": [
       "<div>\n",
       "<style scoped>\n",
       "    .dataframe tbody tr th:only-of-type {\n",
       "        vertical-align: middle;\n",
       "    }\n",
       "\n",
       "    .dataframe tbody tr th {\n",
       "        vertical-align: top;\n",
       "    }\n",
       "\n",
       "    .dataframe thead th {\n",
       "        text-align: right;\n",
       "    }\n",
       "</style>\n",
       "<table border=\"1\" class=\"dataframe\">\n",
       "  <thead>\n",
       "    <tr style=\"text-align: right;\">\n",
       "      <th></th>\n",
       "      <th>A034830</th>\n",
       "      <th>A005430</th>\n",
       "      <th>A002390</th>\n",
       "      <th>A019170</th>\n",
       "      <th>A042700</th>\n",
       "      <th>A039490</th>\n",
       "      <th>A012450</th>\n",
       "      <th>A020000</th>\n",
       "      <th>A129260</th>\n",
       "      <th>A015890</th>\n",
       "      <th>...</th>\n",
       "      <th>A271560</th>\n",
       "      <th>A011070</th>\n",
       "      <th>A014910</th>\n",
       "      <th>A024900</th>\n",
       "      <th>A014820</th>\n",
       "      <th>A007120</th>\n",
       "      <th>A002690</th>\n",
       "      <th>A074610</th>\n",
       "      <th>A000680</th>\n",
       "      <th>A004490</th>\n",
       "    </tr>\n",
       "    <tr>\n",
       "      <th>date</th>\n",
       "      <th></th>\n",
       "      <th></th>\n",
       "      <th></th>\n",
       "      <th></th>\n",
       "      <th></th>\n",
       "      <th></th>\n",
       "      <th></th>\n",
       "      <th></th>\n",
       "      <th></th>\n",
       "      <th></th>\n",
       "      <th></th>\n",
       "      <th></th>\n",
       "      <th></th>\n",
       "      <th></th>\n",
       "      <th></th>\n",
       "      <th></th>\n",
       "      <th></th>\n",
       "      <th></th>\n",
       "      <th></th>\n",
       "      <th></th>\n",
       "      <th></th>\n",
       "    </tr>\n",
       "  </thead>\n",
       "  <tbody>\n",
       "    <tr>\n",
       "      <th>2020-09-01</th>\n",
       "      <td>1730</td>\n",
       "      <td>30250</td>\n",
       "      <td>38750</td>\n",
       "      <td>147000</td>\n",
       "      <td>5125</td>\n",
       "      <td>112000</td>\n",
       "      <td>26700</td>\n",
       "      <td>31300</td>\n",
       "      <td>2950</td>\n",
       "      <td>5070</td>\n",
       "      <td>...</td>\n",
       "      <td>139500</td>\n",
       "      <td>153500</td>\n",
       "      <td>1600</td>\n",
       "      <td>1920</td>\n",
       "      <td>21950</td>\n",
       "      <td>1835</td>\n",
       "      <td>1873</td>\n",
       "      <td>4685</td>\n",
       "      <td>2040</td>\n",
       "      <td>27900</td>\n",
       "    </tr>\n",
       "    <tr>\n",
       "      <th>2020-09-02</th>\n",
       "      <td>1870</td>\n",
       "      <td>30750</td>\n",
       "      <td>38850</td>\n",
       "      <td>158000</td>\n",
       "      <td>5150</td>\n",
       "      <td>117500</td>\n",
       "      <td>26800</td>\n",
       "      <td>31800</td>\n",
       "      <td>2865</td>\n",
       "      <td>5090</td>\n",
       "      <td>...</td>\n",
       "      <td>139000</td>\n",
       "      <td>169000</td>\n",
       "      <td>1880</td>\n",
       "      <td>1970</td>\n",
       "      <td>22400</td>\n",
       "      <td>1835</td>\n",
       "      <td>1869</td>\n",
       "      <td>4700</td>\n",
       "      <td>2080</td>\n",
       "      <td>28750</td>\n",
       "    </tr>\n",
       "    <tr>\n",
       "      <th>2020-09-03</th>\n",
       "      <td>1830</td>\n",
       "      <td>31100</td>\n",
       "      <td>38850</td>\n",
       "      <td>156500</td>\n",
       "      <td>5350</td>\n",
       "      <td>116000</td>\n",
       "      <td>29250</td>\n",
       "      <td>32150</td>\n",
       "      <td>2830</td>\n",
       "      <td>5050</td>\n",
       "      <td>...</td>\n",
       "      <td>137000</td>\n",
       "      <td>163000</td>\n",
       "      <td>1930</td>\n",
       "      <td>1945</td>\n",
       "      <td>22400</td>\n",
       "      <td>1865</td>\n",
       "      <td>1937</td>\n",
       "      <td>4760</td>\n",
       "      <td>2110</td>\n",
       "      <td>28900</td>\n",
       "    </tr>\n",
       "    <tr>\n",
       "      <th>2020-09-04</th>\n",
       "      <td>1855</td>\n",
       "      <td>30800</td>\n",
       "      <td>37850</td>\n",
       "      <td>146000</td>\n",
       "      <td>5250</td>\n",
       "      <td>114000</td>\n",
       "      <td>29150</td>\n",
       "      <td>31300</td>\n",
       "      <td>2830</td>\n",
       "      <td>5000</td>\n",
       "      <td>...</td>\n",
       "      <td>135000</td>\n",
       "      <td>158000</td>\n",
       "      <td>1975</td>\n",
       "      <td>1880</td>\n",
       "      <td>21850</td>\n",
       "      <td>1815</td>\n",
       "      <td>2034</td>\n",
       "      <td>4615</td>\n",
       "      <td>2100</td>\n",
       "      <td>28150</td>\n",
       "    </tr>\n",
       "    <tr>\n",
       "      <th>2020-09-07</th>\n",
       "      <td>1895</td>\n",
       "      <td>31250</td>\n",
       "      <td>38050</td>\n",
       "      <td>148500</td>\n",
       "      <td>5250</td>\n",
       "      <td>114000</td>\n",
       "      <td>28800</td>\n",
       "      <td>31100</td>\n",
       "      <td>2830</td>\n",
       "      <td>5150</td>\n",
       "      <td>...</td>\n",
       "      <td>135000</td>\n",
       "      <td>158500</td>\n",
       "      <td>2080</td>\n",
       "      <td>1965</td>\n",
       "      <td>22000</td>\n",
       "      <td>1805</td>\n",
       "      <td>2056</td>\n",
       "      <td>4765</td>\n",
       "      <td>2215</td>\n",
       "      <td>28750</td>\n",
       "    </tr>\n",
       "    <tr>\n",
       "      <th>...</th>\n",
       "      <td>...</td>\n",
       "      <td>...</td>\n",
       "      <td>...</td>\n",
       "      <td>...</td>\n",
       "      <td>...</td>\n",
       "      <td>...</td>\n",
       "      <td>...</td>\n",
       "      <td>...</td>\n",
       "      <td>...</td>\n",
       "      <td>...</td>\n",
       "      <td>...</td>\n",
       "      <td>...</td>\n",
       "      <td>...</td>\n",
       "      <td>...</td>\n",
       "      <td>...</td>\n",
       "      <td>...</td>\n",
       "      <td>...</td>\n",
       "      <td>...</td>\n",
       "      <td>...</td>\n",
       "      <td>...</td>\n",
       "      <td>...</td>\n",
       "    </tr>\n",
       "    <tr>\n",
       "      <th>2023-08-25</th>\n",
       "      <td>1235</td>\n",
       "      <td>41900</td>\n",
       "      <td>13370</td>\n",
       "      <td>17170</td>\n",
       "      <td>54400</td>\n",
       "      <td>98900</td>\n",
       "      <td>110000</td>\n",
       "      <td>18180</td>\n",
       "      <td>2395</td>\n",
       "      <td>8210</td>\n",
       "      <td>...</td>\n",
       "      <td>125500</td>\n",
       "      <td>254500</td>\n",
       "      <td>1684</td>\n",
       "      <td>5610</td>\n",
       "      <td>33800</td>\n",
       "      <td>1362</td>\n",
       "      <td>1815</td>\n",
       "      <td>6800</td>\n",
       "      <td>5020</td>\n",
       "      <td>50100</td>\n",
       "    </tr>\n",
       "    <tr>\n",
       "      <th>2023-08-28</th>\n",
       "      <td>1238</td>\n",
       "      <td>42200</td>\n",
       "      <td>13380</td>\n",
       "      <td>17200</td>\n",
       "      <td>55000</td>\n",
       "      <td>101200</td>\n",
       "      <td>113100</td>\n",
       "      <td>18590</td>\n",
       "      <td>2410</td>\n",
       "      <td>8460</td>\n",
       "      <td>...</td>\n",
       "      <td>124700</td>\n",
       "      <td>257000</td>\n",
       "      <td>1707</td>\n",
       "      <td>5790</td>\n",
       "      <td>34550</td>\n",
       "      <td>1405</td>\n",
       "      <td>1833</td>\n",
       "      <td>7450</td>\n",
       "      <td>4900</td>\n",
       "      <td>50200</td>\n",
       "    </tr>\n",
       "    <tr>\n",
       "      <th>2023-08-29</th>\n",
       "      <td>1239</td>\n",
       "      <td>41700</td>\n",
       "      <td>13320</td>\n",
       "      <td>17550</td>\n",
       "      <td>55300</td>\n",
       "      <td>102300</td>\n",
       "      <td>113300</td>\n",
       "      <td>18610</td>\n",
       "      <td>2410</td>\n",
       "      <td>8130</td>\n",
       "      <td>...</td>\n",
       "      <td>122300</td>\n",
       "      <td>264500</td>\n",
       "      <td>1716</td>\n",
       "      <td>5980</td>\n",
       "      <td>34800</td>\n",
       "      <td>1415</td>\n",
       "      <td>1856</td>\n",
       "      <td>7180</td>\n",
       "      <td>4830</td>\n",
       "      <td>55000</td>\n",
       "    </tr>\n",
       "    <tr>\n",
       "      <th>2023-08-30</th>\n",
       "      <td>1244</td>\n",
       "      <td>41700</td>\n",
       "      <td>13430</td>\n",
       "      <td>17850</td>\n",
       "      <td>57100</td>\n",
       "      <td>102700</td>\n",
       "      <td>115200</td>\n",
       "      <td>18840</td>\n",
       "      <td>2410</td>\n",
       "      <td>8050</td>\n",
       "      <td>...</td>\n",
       "      <td>122500</td>\n",
       "      <td>268000</td>\n",
       "      <td>1718</td>\n",
       "      <td>6080</td>\n",
       "      <td>34700</td>\n",
       "      <td>1416</td>\n",
       "      <td>1865</td>\n",
       "      <td>7640</td>\n",
       "      <td>4725</td>\n",
       "      <td>59700</td>\n",
       "    </tr>\n",
       "    <tr>\n",
       "      <th>2023-08-31</th>\n",
       "      <td>1241</td>\n",
       "      <td>42200</td>\n",
       "      <td>13350</td>\n",
       "      <td>17980</td>\n",
       "      <td>59800</td>\n",
       "      <td>103300</td>\n",
       "      <td>114200</td>\n",
       "      <td>18980</td>\n",
       "      <td>2415</td>\n",
       "      <td>7800</td>\n",
       "      <td>...</td>\n",
       "      <td>121800</td>\n",
       "      <td>270000</td>\n",
       "      <td>1694</td>\n",
       "      <td>6010</td>\n",
       "      <td>34850</td>\n",
       "      <td>1391</td>\n",
       "      <td>1852</td>\n",
       "      <td>7990</td>\n",
       "      <td>4720</td>\n",
       "      <td>59900</td>\n",
       "    </tr>\n",
       "  </tbody>\n",
       "</table>\n",
       "<p>742 rows × 30 columns</p>\n",
       "</div>"
      ],
      "text/plain": [
       "            A034830  A005430  A002390  A019170  A042700  A039490  A012450  \\\n",
       "date                                                                        \n",
       "2020-09-01     1730    30250    38750   147000     5125   112000    26700   \n",
       "2020-09-02     1870    30750    38850   158000     5150   117500    26800   \n",
       "2020-09-03     1830    31100    38850   156500     5350   116000    29250   \n",
       "2020-09-04     1855    30800    37850   146000     5250   114000    29150   \n",
       "2020-09-07     1895    31250    38050   148500     5250   114000    28800   \n",
       "...             ...      ...      ...      ...      ...      ...      ...   \n",
       "2023-08-25     1235    41900    13370    17170    54400    98900   110000   \n",
       "2023-08-28     1238    42200    13380    17200    55000   101200   113100   \n",
       "2023-08-29     1239    41700    13320    17550    55300   102300   113300   \n",
       "2023-08-30     1244    41700    13430    17850    57100   102700   115200   \n",
       "2023-08-31     1241    42200    13350    17980    59800   103300   114200   \n",
       "\n",
       "            A020000  A129260  A015890  ...  A271560  A011070  A014910  \\\n",
       "date                                   ...                              \n",
       "2020-09-01    31300     2950     5070  ...   139500   153500     1600   \n",
       "2020-09-02    31800     2865     5090  ...   139000   169000     1880   \n",
       "2020-09-03    32150     2830     5050  ...   137000   163000     1930   \n",
       "2020-09-04    31300     2830     5000  ...   135000   158000     1975   \n",
       "2020-09-07    31100     2830     5150  ...   135000   158500     2080   \n",
       "...             ...      ...      ...  ...      ...      ...      ...   \n",
       "2023-08-25    18180     2395     8210  ...   125500   254500     1684   \n",
       "2023-08-28    18590     2410     8460  ...   124700   257000     1707   \n",
       "2023-08-29    18610     2410     8130  ...   122300   264500     1716   \n",
       "2023-08-30    18840     2410     8050  ...   122500   268000     1718   \n",
       "2023-08-31    18980     2415     7800  ...   121800   270000     1694   \n",
       "\n",
       "            A024900  A014820  A007120  A002690  A074610  A000680  A004490  \n",
       "date                                                                       \n",
       "2020-09-01     1920    21950     1835     1873     4685     2040    27900  \n",
       "2020-09-02     1970    22400     1835     1869     4700     2080    28750  \n",
       "2020-09-03     1945    22400     1865     1937     4760     2110    28900  \n",
       "2020-09-04     1880    21850     1815     2034     4615     2100    28150  \n",
       "2020-09-07     1965    22000     1805     2056     4765     2215    28750  \n",
       "...             ...      ...      ...      ...      ...      ...      ...  \n",
       "2023-08-25     5610    33800     1362     1815     6800     5020    50100  \n",
       "2023-08-28     5790    34550     1405     1833     7450     4900    50200  \n",
       "2023-08-29     5980    34800     1415     1856     7180     4830    55000  \n",
       "2023-08-30     6080    34700     1416     1865     7640     4725    59700  \n",
       "2023-08-31     6010    34850     1391     1852     7990     4720    59900  \n",
       "\n",
       "[742 rows x 30 columns]"
      ]
     },
     "execution_count": 3,
     "metadata": {},
     "output_type": "execute_result"
    }
   ],
   "source": [
    "%%time\n",
    "index = kw.get_daily_stock_info('A005930', start, end).index\n",
    "adj_close = pd.DataFrame(index=index, columns=stocks_30)\n",
    "\n",
    "for stock in stocks_30:\n",
    "    adj_close[stock] = kw.get_daily_stock_info(stock, start, end).adj_close\n",
    "    \n",
    "adj_close"
   ]
  },
  {
   "cell_type": "code",
   "execution_count": 4,
   "id": "1ddffa5f",
   "metadata": {},
   "outputs": [],
   "source": [
    "rtn_1d = adj_close.pct_change(1, axis=0)\n",
    "rtn_1d = rtn_1d.iloc[1:,:]\n",
    "annual_rtn = rtn_1d.mean(axis=0) * 252\n",
    "annual_cov = rtn_1d.cov() * 252\n",
    "\n",
    "port_rtn = []\n",
    "port_std = []\n",
    "port_weights = []"
   ]
  },
  {
   "cell_type": "code",
   "execution_count": 5,
   "id": "92706b47",
   "metadata": {},
   "outputs": [],
   "source": [
    "def calculate_portfolio_var(weights, annual_cov):\n",
    "    return np.dot(weights.T, np.dot(annual_cov, weights))\n",
    "\n",
    "initial_weights = np.array([ 1/rtn_1d.shape[1] for _ in range(rtn_1d.shape[1]) ])\n",
    "bounds = [(-1, 1)] * rtn_1d.shape[1]\n",
    "\n",
    "for target_rtn in np.linspace(0.01, 3, 100):\n",
    "    constraints = [\n",
    "        {'type': 'eq', 'fun': lambda weights: np.sum(weights) - 1},\n",
    "        {'type': 'eq', 'fun': lambda weights: np.dot(weights, annual_rtn) - target_rtn}\n",
    "    ]\n",
    "    result = minimize(\n",
    "        calculate_portfolio_var,\n",
    "        initial_weights,\n",
    "        args=annual_cov,\n",
    "        method='SLSQP',\n",
    "        bounds=bounds,\n",
    "        constraints=constraints\n",
    "    )\n",
    "    if result.success:\n",
    "        port_rtn.append(target_rtn)\n",
    "        port_std.append(np.sqrt(result.fun))\n",
    "        port_weights.append(result.x)"
   ]
  },
  {
   "cell_type": "code",
   "execution_count": 6,
   "id": "8bea4f48",
   "metadata": {},
   "outputs": [
    {
     "data": {
      "image/png": "[encoded data removed]",
      "text/plain": [
       "<Figure size 576x432 with 1 Axes>"
      ]
     },
     "metadata": {
      "needs_background": "light"
     },
     "output_type": "display_data"
    }
   ],
   "source": [
    "rf = 0.01\n",
    "pf = pd.DataFrame({'rtn': port_rtn, 'std': port_std, 'weight': port_weights})\n",
    "pf['sharpe'] = ((pf['rtn'] - rf) / pf['std'])\n",
    "\n",
    "minvar_idx = pf['std'].idxmin()\n",
    "minvar_rtn = pf.loc[minvar_idx, 'rtn']\n",
    "eff_pf = pf[pf['rtn'] > minvar_rtn]\n",
    "\n",
    "eff_pf.plot(kind = 'scatter', figsize = (8,6), xlim=(0, 1), ylim=(0, 3),\n",
    "        title = 'Risk - Return', x = 'std', y = 'rtn', grid=True);"
   ]
  },
  {
   "cell_type": "code",
   "execution_count": 7,
   "id": "b03c99a3",
   "metadata": {},
   "outputs": [
    {
     "data": {
      "image/png": "[encoded data removed]",
      "text/plain": [
       "<Figure size 576x432 with 1 Axes>"
      ]
     },
     "metadata": {
      "needs_background": "light"
     },
     "output_type": "display_data"
    }
   ],
   "source": [
    "max_sharpe_pf = eff_pf.loc[pf['sharpe'].idxmax(),:]\n",
    "max_sharpe = max_sharpe_pf.sharpe\n",
    "\n",
    "x = np.array([-0, 0.5])\n",
    "y = rf + x * max_sharpe\n",
    "cml = pd.Series(index = x, data=y)\n",
    "\n",
    "eff_pf.plot(kind='scatter', figsize=(8,6), x='std', y='rtn', grid=True);\n",
    "cml.plot(kind='line', xlim=(0, 1), ylim=(0, 3), grid=True);\n",
    "plt.scatter(max_sharpe_pf['std'], max_sharpe_pf['rtn'], c='b', marker='o', s=100)\n",
    "plt.title('CML');"
   ]
  },
  {
   "cell_type": "markdown",
   "id": "5946c560",
   "metadata": {},
   "source": [
    "---"
   ]
  },
  {
   "cell_type": "markdown",
   "id": "4110a616",
   "metadata": {},
   "source": [
    "**(b)** Calculate CAPM alpha for each stock.  \n",
    "Do you think that the alpha will last in the future? If so, why? If not so, why?"
   ]
  },
  {
   "cell_type": "code",
   "execution_count": 8,
   "id": "713dbd61",
   "metadata": {},
   "outputs": [
    {
     "data": {
      "text/plain": [
       "A034830    0.000141\n",
       "A005430    0.099867\n",
       "A002390   -0.066422\n",
       "A019170   -0.132587\n",
       "A042700    0.433820\n",
       "A039490    0.048657\n",
       "A012450    0.276614\n",
       "A020000   -0.014010\n",
       "A129260    0.054998\n",
       "A015890    0.141302\n",
       "A071970    0.315272\n",
       "A001740    0.096521\n",
       "A000220   -0.007212\n",
       "A017180   -0.072254\n",
       "A012800    0.169937\n",
       "A012030    0.209937\n",
       "A009310   -0.050122\n",
       "A092200    0.292448\n",
       "A001460    0.134906\n",
       "A000020   -0.047468\n",
       "A271560    0.032428\n",
       "A011070    0.145649\n",
       "A014910    0.092867\n",
       "A024900    0.263315\n",
       "A014820    0.146766\n",
       "A007120    0.066554\n",
       "A002690    0.084917\n",
       "A074610    0.219669\n",
       "A000680    0.233884\n",
       "A004490    0.194435\n",
       "dtype: float64"
      ]
     },
     "execution_count": 8,
     "metadata": {},
     "output_type": "execute_result"
    }
   ],
   "source": [
    "mvp_idx = eff_pf['sharpe'].idxmax()\n",
    "mk = eff_pf.loc[mvp_idx,:]\n",
    "mk_weight = mk['weight']\n",
    "\n",
    "mk_rtn_1d = rtn_1d @ mk_weight\n",
    "mk_rtn = mk_rtn_1d.mean() * 252\n",
    "mk_var = mk_rtn_1d.var() * 252\n",
    "\n",
    "stock_rtn = rtn_1d.mean(axis=0) * 252\n",
    "\n",
    "beta = pd.Series(index=stocks_30, dtype=np.float64)\n",
    "for stock in beta.index:\n",
    "    mk_stock_cov = mk_rtn_1d.cov(rtn_1d[stock]) * 252\n",
    "    beta.loc[stock] = mk_stock_cov / mk_var\n",
    "beta"
   ]
  },
  {
   "cell_type": "code",
   "execution_count": 9,
   "id": "1117425b",
   "metadata": {},
   "outputs": [
    {
     "data": {
      "text/plain": [
       "A034830   -0.087145\n",
       "A005430   -0.087372\n",
       "A002390   -0.173436\n",
       "A019170   -0.086495\n",
       "A042700   -0.086469\n",
       "A039490   -0.087166\n",
       "A012450   -0.087416\n",
       "A020000   -0.087849\n",
       "A129260   -0.087055\n",
       "A015890   -0.087048\n",
       "A071970   -0.087183\n",
       "A001740   -0.087121\n",
       "A000220   -0.087663\n",
       "A017180   -0.087619\n",
       "A012800   -0.086996\n",
       "A012030   -0.086860\n",
       "A009310   -0.087183\n",
       "A092200   -0.087264\n",
       "A001460   -0.086763\n",
       "A000020   -0.087507\n",
       "A271560   -0.087484\n",
       "A011070   -0.087090\n",
       "A014910   -0.087306\n",
       "A024900   -0.087038\n",
       "A014820   -0.087017\n",
       "A007120   -0.087421\n",
       "A002690   -0.087362\n",
       "A074610   -0.087252\n",
       "A000680   -0.086944\n",
       "A004490   -0.087067\n",
       "dtype: float64"
      ]
     },
     "execution_count": 9,
     "metadata": {},
     "output_type": "execute_result"
    }
   ],
   "source": [
    "mk_rp = mk_rtn - rf\n",
    "expected_stock_rtn = rf + beta*mk_rp\n",
    "alpha = stock_rtn - expected_stock_rtn\n",
    "alpha"
   ]
  },
  {
   "cell_type": "markdown",
   "id": "392b5b00",
   "metadata": {},
   "source": [
    "**결과의 이유**  \n",
    "\n",
    "베타가 특이하게 작고, 전부 마이너스 알파를 나타내고 있다.  \n",
    "\n",
    "먼저 이러한 결과가 나오는 이유에 대해 생각해보면, 과거 확정 수익률로 진행한 분석은 IS 최적화와 유사한 프로세스가 될 수밖에 없다.  \n",
    "\n",
    "최적화 된 포트폴리오는 실제로 해당 기간 최대의 Sharpe를 얻는 포트폴리오이다. (공매도까지 허용하기 때문에 더욱 심화)  \n",
    "\n",
    "이 포트폴리오를 시장 포트폴리오로 설정한다면, 개별종목은 시장을 따라가지 못한다. 즉, 시장의 초과 변동(beta > 1)은 불가능할 것이다.\n",
    "\n",
    "따라서 베타의 절대값도 상당히 적어지게 된다.\n",
    "\n",
    "\n",
    "**알파 지속 여부**  \n",
    "\n",
    "이와 별개로 이론적인 가정에서 알파는 지속되지 못할 것이다.  \n",
    "\n",
    "알파가 존재한다는 것을 알게 된 투자자들은 양의 알파 종목의 비중을 늘리고, 음의 알파 종목의 비중을 줄이며 시장 포트폴리오를 수정할 것이다."
   ]
  },
  {
   "cell_type": "markdown",
   "id": "cf26b16f",
   "metadata": {},
   "source": [
    "---"
   ]
  },
  {
   "cell_type": "markdown",
   "id": "20916958",
   "metadata": {},
   "source": [
    "## Problem 2. "
   ]
  },
  {
   "cell_type": "markdown",
   "id": "b4201b5b",
   "metadata": {},
   "source": [
    "---"
   ]
  },
  {
   "cell_type": "markdown",
   "id": "a97d36db",
   "metadata": {},
   "source": [
    "**(a)** Find about the 'Two Fund Theorem' and prove it mathematically."
   ]
  },
  {
   "cell_type": "markdown",
   "id": "2332c76a",
   "metadata": {},
   "source": [
    "**Two Fund Theorem**  \n",
    "\n",
    "Efficient Frontier의 모든 포트폴리오는 Efficient Frontier의 2개 개별 투자 포트폴리오 $w_1$과 $w_2$ 사이의 자산 배분을 통해 구축될 수 있다."
   ]
  },
  {
   "cell_type": "markdown",
   "id": "74c18bb5",
   "metadata": {},
   "source": [
    "Efficient Frnotier의 포트폴리오는 아래 조건을 만족한다.  \n",
    "\n",
    "$$1: \\sum_{j=1}^n \\sigma_{ij} w_j - \\lambda \\bar r_i - \\mu = 0 \\quad \\text {for}\\;\\; i = 1,2,...,n$$\n",
    "\n",
    "$$2: \\sum_{i=1}^n w_i \\bar r_i = \\bar r$$  \n",
    "\n",
    "$$3: \\sum_{i=1}^n w_i = 1$$  \n",
    "\n",
    "Efficient Frnotier의 두 포트폴리오를 각각 $w_1, w_2$라 할 때, 두 포트폴리오의 조합을 $\\alpha w_1 + (1 - \\alpha) w_2$라 할 수 있다.  \n",
    "\n",
    "두 포트폴리오는 모두 각 수익률에 대한 최소 분산 포트폴리오이므로 최적의 해(두 포트폴리오 모두 해당 식이 0)로써 1번 식을 만족한다.  \n",
    "\n",
    "$\\alpha w_1 + (1 - \\alpha) w_2$의 수익률은 $\\alpha \\bar r_1 + (1 - \\alpha) \\bar r_2$이므로 \n",
    "임의의 수익률 $\\bar r$를 만들 수 있기 때문에 2번 식을 만족한다.\n",
    "\n",
    "$w_1, w_2$는 모두 합이 1인 포트폴리오이므로 $\\alpha w_1 + (1 - \\alpha) w_2$ 역시 1이 되어 3번 식을 만족한다.  \n",
    "\n",
    "따라서 $\\alpha w_1 + (1 - \\alpha) w_2$로 만들어진 포트폴리오 또한 Efficient Frnotier의 포트폴리오이다."
   ]
  },
  {
   "attachments": {
    "image.png": {
     "image/png": "[encoded data removed]"
    }
   },
   "cell_type": "markdown",
   "id": "4a274888",
   "metadata": {},
   "source": [
    "![image.png](attachment:image.png)"
   ]
  },
  {
   "cell_type": "markdown",
   "id": "6fe00207",
   "metadata": {},
   "source": [
    "---"
   ]
  },
  {
   "cell_type": "markdown",
   "id": "89db9f12",
   "metadata": {},
   "source": [
    "**(b)** Write a python code that draws the efficient frontier with given two assets."
   ]
  },
  {
   "cell_type": "code",
   "execution_count": 10,
   "id": "20ded300",
   "metadata": {},
   "outputs": [],
   "source": [
    "rtn_1d = adj_close.pct_change(1, axis=0)  # .iloc[:,:4]\n",
    "rtn_1d = rtn_1d.iloc[1:,:]\n",
    "\n",
    "annual_rtn = rtn_1d.mean(axis=0) * 252\n",
    "annual_cov = rtn_1d.cov() * 252\n",
    "\n",
    "inv_cov = np.linalg.inv(annual_cov)\n",
    "v1 = np.ones(annual_rtn.shape[0]) @ inv_cov\n",
    "w1 = v1 / np.sum(v1)\n",
    "\n",
    "r = np.array(annual_rtn)\n",
    "v2 = r @ inv_cov\n",
    "w2 = v2 / np.sum(v2)"
   ]
  },
  {
   "cell_type": "code",
   "execution_count": 11,
   "id": "515ea332",
   "metadata": {},
   "outputs": [
    {
     "data": {
      "image/png": "[encoded data removed]",
      "text/plain": [
       "<Figure size 576x432 with 1 Axes>"
      ]
     },
     "metadata": {
      "needs_background": "light"
     },
     "output_type": "display_data"
    }
   ],
   "source": [
    "port_rtn = []\n",
    "port_std = []\n",
    "port_weights = []\n",
    "port_alpha = []\n",
    "\n",
    "for a in range(-200,201):\n",
    "    a /= 100\n",
    "    weights = a * w1 + (1-a) * w2\n",
    "\n",
    "    temp_rtn = np.dot(weights, annual_rtn) \n",
    "    temp_std = np.sqrt(np.dot(weights.T, np.dot(annual_cov, weights)))\n",
    "\n",
    "    port_rtn.append(temp_rtn)\n",
    "    port_std.append(temp_std)\n",
    "    port_weights.append(weights)\n",
    "    port_alpha.append(a)\n",
    "    \n",
    "twofund_pf = pd.DataFrame({'rtn': port_rtn, 'std': port_std, 'weight': port_weights, 'alpha': port_alpha})\n",
    "\n",
    "minvar_idx = twofund_pf['std'].idxmin()\n",
    "minvar_rtn = twofund_pf.loc[minvar_idx, 'rtn']\n",
    "eff_twofund_pf = pf[pf['rtn'] > minvar_rtn]\n",
    "\n",
    "eff_twofund_pf.plot(kind = 'scatter', figsize = (8,6), xlim=(0, 1), ylim=(0, 3),\n",
    "        title = 'Risk - Return', x = 'std', y = 'rtn', grid=True);"
   ]
  },
  {
   "cell_type": "code",
   "execution_count": 12,
   "id": "3e28ae91",
   "metadata": {},
   "outputs": [
    {
     "data": {
      "image/png": "[encoded data removed]",
      "text/plain": [
       "<Figure size 576x432 with 1 Axes>"
      ]
     },
     "metadata": {
      "needs_background": "light"
     },
     "output_type": "display_data"
    }
   ],
   "source": [
    "plt.figure(figsize=(8, 6))\n",
    "\n",
    "plt.scatter(eff_pf['std'], eff_pf['rtn'], label='MV', color='b')\n",
    "plt.scatter(eff_twofund_pf['std'], eff_twofund_pf['rtn'], label='TwoFund', color='r')\n",
    "\n",
    "plt.xlabel('std')\n",
    "plt.ylabel('rtn')\n",
    "\n",
    "plt.legend()\n",
    "plt.grid(True)\n",
    "\n",
    "plt.show()"
   ]
  },
  {
   "cell_type": "markdown",
   "id": "da070801",
   "metadata": {},
   "source": [
    "---"
   ]
  }
 ],
 "metadata": {
  "kernelspec": {
   "display_name": "Python 3 (ipykernel)",
   "language": "python",
   "name": "python3"
  },
  "language_info": {
   "codemirror_mode": {
    "name": "ipython",
    "version": 3
   },
   "file_extension": ".py",
   "mimetype": "text/x-python",
   "name": "python",
   "nbconvert_exporter": "python",
   "pygments_lexer": "ipython3",
   "version": "3.9.7"
  },
  "toc": {
   "base_numbering": 1,
   "nav_menu": {},
   "number_sections": false,
   "sideBar": true,
   "skip_h1_title": false,
   "title_cell": "Table of Contents",
   "title_sidebar": "Contents",
   "toc_cell": false,
   "toc_position": {},
   "toc_section_display": true,
   "toc_window_display": false
  }
 },
 "nbformat": 4,
 "nbformat_minor": 5
}
