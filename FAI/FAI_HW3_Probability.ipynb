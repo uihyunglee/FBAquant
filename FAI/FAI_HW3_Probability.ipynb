{
 "cells": [
  {
   "cell_type": "markdown",
   "id": "d97dd375",
   "metadata": {},
   "source": [
    "# FAI Homework 3\n",
    "\n",
    "**FBA Quant 이의형**"
   ]
  },
  {
   "cell_type": "markdown",
   "id": "ed5382ff",
   "metadata": {},
   "source": [
    "---"
   ]
  },
  {
   "cell_type": "markdown",
   "id": "c44b5606",
   "metadata": {},
   "source": [
    "## Problem 1."
   ]
  },
  {
   "cell_type": "markdown",
   "id": "0403f1bb",
   "metadata": {},
   "source": [
    "**(a)** Solve 3 problems in the book (Ace the Data Science Interview).  \n",
    "Select each one from easy, medium, and hard, respectively."
   ]
  },
  {
   "cell_type": "markdown",
   "id": "6954cf2e",
   "metadata": {},
   "source": [
    "---"
   ]
  },
  {
   "cell_type": "markdown",
   "id": "0205eff8",
   "metadata": {},
   "source": [
    "**(easy)** JP Morgan: Say you roll a die three times. What is the probability of getting two sixes in a row?"
   ]
  },
  {
   "cell_type": "code",
   "execution_count": 1,
   "id": "41f776d0",
   "metadata": {
    "scrolled": true
   },
   "outputs": [
    {
     "name": "stdout",
     "output_type": "stream",
     "text": [
      "Probability: 4.63%\n"
     ]
    }
   ],
   "source": [
    "dice_face_num = 6\n",
    "trial_num = 3\n",
    "cases_num = dice_face_num**trial_num\n",
    "\n",
    "first_six_num = 1\n",
    "second_six_num = 1\n",
    "third_six_num = 1\n",
    "\n",
    "two_six_num = (first_six_num * second_six_num * (dice_face_num-1)) + ((dice_face_num-1) * second_six_num * third_six_num)\n",
    "answer = two_six_num / cases_num\n",
    "\n",
    "print(f'Probability: {answer:.2%}')"
   ]
  },
  {
   "cell_type": "markdown",
   "id": "65e6fc50",
   "metadata": {},
   "source": [
    "---"
   ]
  },
  {
   "cell_type": "markdown",
   "id": "cffe0afe",
   "metadata": {},
   "source": [
    "**(medium)** You are given an unfair coin having an unknown bias towards heads or tails.  \n",
    "How can you generate fair odds using this coin?"
   ]
  },
  {
   "cell_type": "markdown",
   "id": "f7bd4d42",
   "metadata": {},
   "source": [
    "두 번 던져서 다른 면이 나오는 순서로 승패를 가린다.  \n",
    "\n",
    "앞면이 나오는 경우를 $H$, 뒷면이 나오는 경우를 $T$라 할 때, 경우의 수는 $HH$, $HT$, $TH$, $TT$이다.  \n",
    "\n",
    "이 때, $H$가 나올 확률을 $P_H$, $T$가 나올 확률을 $P_T$라 하면,\n",
    "- $HH = P_H P_H$\n",
    "- $HT = P_H P_T$\n",
    "- $TH = P_T P_H$\n",
    "- $TT = P_T P_T$  \n",
    "\n",
    "이다.\n",
    "\n",
    "$HT$와 $TH$의 확률은 같으므로, 두 번 던져 다른 면이 나오는 경우 중 H가 먼저나오는지, T가 먼저 나오는지로 승패를 가리면 된다.\n",
    "  "
   ]
  },
  {
   "cell_type": "markdown",
   "id": "1e2847a0",
   "metadata": {},
   "source": [
    "---"
   ]
  },
  {
   "cell_type": "markdown",
   "id": "1714383c",
   "metadata": {},
   "source": [
    "**(hard)** Say you have a jar initially containing a single amoeba in it.  \n",
    "Once eveiy minute, the amoeba has a 1 in 4 chance of doing one of four things:  \n",
    "(1) dying out, (2) doing nothing, (3) splitting into two amoebas, or (4) splitting into three amoebas.  \n",
    "What is the probability that the jar will eventually contain no living amoeba?"
   ]
  },
  {
   "cell_type": "markdown",
   "id": "f2d4a345",
   "metadata": {},
   "source": [
    "아메바의 상황을 각각 번호에 따라 $S_1, S_2, S_3, S_4$라 하고 모두 죽는 경우를 $D$라 할 때, Law of Total Probability에 따라 D의 확률은 아래와 같다.\n",
    "\n",
    "$$P(D) = P(D|S_1)\\;P(S_1) + P(D|S_2)\\;P(S_2) + P(D|S_3)\\;P(S_3) + P(D|S_4)\\;P(S_4)$$  \n",
    "\n",
    "- 4가지 경우로 갈 확률이 모두 같다면, $P(S_1), P(S_2), P(S_3), P(S_4) = 1/4$\n",
    "- $S_1$의 경우, 바로 아메바가 없어지므로 $P(D|S_1) = 1$\n",
    "- $S_2$의 경우, 아메바는 그대로 있으므로 $P(D|S_2) = P(D)$\n",
    "- $S_3$의 경우, $P(D)$의 확률을 가진 아메바가 2마리로 증식하므로 $P(D|S_3) = P(D)^2$\n",
    "- $S_4$의 경우, $P(D)$의 확률을 가진 아메바가 3마리로 증식하므로 $P(D|S_3) = P(D)^3$\n",
    "\n",
    "$$P(D) = \\frac 1 4 \\times 1 + \\frac 1 4 \\times P(D) + \\frac 1 4 \\times P(D)^2 + \\frac 1 4 \\times P(D)^3$$\n",
    "\n",
    "$$(P(D)-1)(P(D)^2 + 2P(D) - 1) = 0$$\n",
    "\n",
    "$$P(D) = -1 + \\sqrt2 \\quad\\quad (\\because 0 < P(D) < 1)$$"
   ]
  },
  {
   "cell_type": "markdown",
   "id": "cf26b16f",
   "metadata": {},
   "source": [
    "---"
   ]
  },
  {
   "cell_type": "markdown",
   "id": "20916958",
   "metadata": {},
   "source": [
    "## Problem 2. \n",
    "\n",
    "There is a fair coin that has an equal probability of landing heads or tails (50:50).  \n",
    "You are a casino manager, and you want to design a game that uses this coin.  \n",
    "The game must be slightly advantageous to the casino, with a winning ratio of each individual game not exceeding 60%."
   ]
  },
  {
   "cell_type": "markdown",
   "id": "c98b8380",
   "metadata": {},
   "source": [
    "---"
   ]
  },
  {
   "cell_type": "markdown",
   "id": "740dd08e",
   "metadata": {},
   "source": [
    "**(a)** Design a game using the fair coin that satisfies the above condition."
   ]
  },
  {
   "cell_type": "markdown",
   "id": "219f6055",
   "metadata": {},
   "source": [
    "1-(a)-(median)과 마찬가지로 코인을 두 번 던져 $HT$가 나오면 카지노의 승리, $TH$가 나오면 고객의 승리로 한다.\n",
    "\n",
    "이외의 결과가 나오면 무승부로 처리하고 배팅한 금액을 돌려준다.  \n",
    "\n",
    "고객이 승리하면 배팅한 금액의 1.95배를 제공한다."
   ]
  },
  {
   "cell_type": "markdown",
   "id": "a9db8c09",
   "metadata": {},
   "source": [
    "---"
   ]
  },
  {
   "cell_type": "markdown",
   "id": "0af53fff",
   "metadata": {},
   "source": [
    "**(b)** Unfortunately, some sneaky players want to cheat on you by using a rigged coin that has a higher probability of landing heads (55%).  \n",
    "Can you detect if they are using a cheating coin? If so, how?"
   ]
  },
  {
   "cell_type": "markdown",
   "id": "e664fefb",
   "metadata": {},
   "source": [
    "2-(a) 방식으로 진행하면 한쪽으로 확률이 기울어도 공평하다."
   ]
  },
  {
   "cell_type": "markdown",
   "id": "4d0bae50",
   "metadata": {},
   "source": [
    "---"
   ]
  },
  {
   "cell_type": "markdown",
   "id": "a1e922e6",
   "metadata": {},
   "source": [
    "**(c)** Write a Python code that simulates both problem 2-(a) and 2 -(b)."
   ]
  },
  {
   "cell_type": "code",
   "execution_count": 2,
   "id": "2884147e",
   "metadata": {},
   "outputs": [],
   "source": [
    "import numpy as np\n",
    "\n",
    "def toss_coin(cheat=False):\n",
    "    if cheat:\n",
    "        value = np.random.choice([0,1], p=[0.55, 0.45])\n",
    "    else:\n",
    "        value = np.random.randint(0,2)\n",
    "    result = {0:'H', 1:'T'}\n",
    "    return result[value]\n",
    "\n",
    "\n",
    "def get_result(cheat=False):\n",
    "    result = [toss_coin(cheat), toss_coin(cheat)]\n",
    "    if result[0] == result[1]:\n",
    "        return 'Draw'\n",
    "    elif result[0] == 'H':\n",
    "        return 'Casino Win'\n",
    "    elif result[0] == 'T':\n",
    "        return 'Player Win'"
   ]
  },
  {
   "cell_type": "code",
   "execution_count": 3,
   "id": "c1c29f56",
   "metadata": {},
   "outputs": [
    {
     "name": "stdout",
     "output_type": "stream",
     "text": [
      "Casino Win Rate: 58.40%\n"
     ]
    }
   ],
   "source": [
    "# $1000으로 고정금액 배팅을 100번 하는 고객 1000명이 있다고 가정할 때, 카지노의 승리 확률\n",
    "initial_player_money = 100_000\n",
    "betting_money = 1_000\n",
    "rtn = 0.95\n",
    "\n",
    "player_num = 1000\n",
    "betting_num = 100\n",
    "\n",
    "casino_win_cnt = 0\n",
    "\n",
    "for _ in range(player_num):\n",
    "    player_money = initial_player_money\n",
    "    for _ in range(betting_num):\n",
    "        result = get_result()\n",
    "        if result == 'Casino Win':\n",
    "            player_money += betting_money * rtn\n",
    "        elif result == 'Player Win':\n",
    "            player_money -= betting_money\n",
    "    if player_money < initial_player_money:\n",
    "        casino_win_cnt += 1\n",
    "        \n",
    "casino_win_rate = casino_win_cnt / player_num\n",
    "print(f'Casino Win Rate: {casino_win_rate:.2%}')"
   ]
  },
  {
   "cell_type": "code",
   "execution_count": 4,
   "id": "05adf290",
   "metadata": {},
   "outputs": [
    {
     "name": "stdout",
     "output_type": "stream",
     "text": [
      "Casino Win Rate: 59.50%\n"
     ]
    }
   ],
   "source": [
    "# Cheating Coin의 경우\n",
    "initial_player_money = 100_000\n",
    "betting_money = 1_000\n",
    "\n",
    "player_num = 1000\n",
    "betting_num = 100\n",
    "\n",
    "casino_win_cnt = 0\n",
    "\n",
    "for _ in range(player_num):\n",
    "    player_money = initial_player_money\n",
    "    for _ in range(betting_num):\n",
    "        result = get_result(cheat=True)\n",
    "        if result == 'Casino Win':\n",
    "            player_money += betting_money * 0.95\n",
    "        elif result == 'Player Win':\n",
    "            player_money -= betting_money\n",
    "    if player_money < initial_player_money:\n",
    "        casino_win_cnt += 1\n",
    "        \n",
    "casino_win_rate = casino_win_cnt / player_num\n",
    "print(f'Casino Win Rate: {casino_win_rate:.2%}')"
   ]
  },
  {
   "cell_type": "markdown",
   "id": "da070801",
   "metadata": {},
   "source": [
    "---"
   ]
  }
 ],
 "metadata": {
  "kernelspec": {
   "display_name": "Python 3 (ipykernel)",
   "language": "python",
   "name": "python3"
  },
  "language_info": {
   "codemirror_mode": {
    "name": "ipython",
    "version": 3
   },
   "file_extension": ".py",
   "mimetype": "text/x-python",
   "name": "python",
   "nbconvert_exporter": "python",
   "pygments_lexer": "ipython3",
   "version": "3.9.7"
  },
  "toc": {
   "base_numbering": 1,
   "nav_menu": {},
   "number_sections": false,
   "sideBar": true,
   "skip_h1_title": false,
   "title_cell": "Table of Contents",
   "title_sidebar": "Contents",
   "toc_cell": false,
   "toc_position": {},
   "toc_section_display": true,
   "toc_window_display": false
  }
 },
 "nbformat": 4,
 "nbformat_minor": 5
}
