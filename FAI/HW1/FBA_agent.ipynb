{
 "cells": [
  {
   "cell_type": "markdown",
   "id": "c5215365",
   "metadata": {},
   "source": [
    "# FAI Homework 1\n",
    "**[FBA Quant] Lee Uihyung**"
   ]
  },
  {
   "cell_type": "markdown",
   "id": "733ad8c9",
   "metadata": {},
   "source": [
    "---"
   ]
  },
  {
   "cell_type": "markdown",
   "id": "ba675c9d",
   "metadata": {},
   "source": [
    "## Problem2.\n",
    "Make an agent to buy and sell stocks in python. For this problem, you need the\n",
    "FBA_agent.ipynb source code file."
   ]
  },
  {
   "cell_type": "code",
   "execution_count": 17,
   "id": "8842751d",
   "metadata": {},
   "outputs": [],
   "source": [
    "class Holdings(dict):\n",
    "    def __str__(self):\n",
    "        return str([[key] + value for key, value in self.items()])\n",
    "    \n",
    "    \n",
    "    def __add__(self, other):\n",
    "        for key in other.keys():\n",
    "            if key in self.keys():\n",
    "                adj_quantity = self[key][1] + other[key][1]\n",
    "                adj_price = ((self[key][0] * self[key][1]) + (other[key][0] * other[key][1])) / adj_quantity\n",
    "                self[key] = [adj_price, adj_quantity]\n",
    "            else:\n",
    "                self[key] = other[key]\n",
    "        return self\n",
    "\n",
    "    \n",
    "    def __sub__(self, other):\n",
    "        for key in other.keys():\n",
    "            if key in self.keys():\n",
    "                adj_quantity = self[key][1] - other[key][1]\n",
    "                adj_price = self[key][0]\n",
    "                self[key] = [adj_price, adj_quantity]\n",
    "            else:\n",
    "                print(\"error: You don't own the stock.\")\n",
    "        return self\n",
    "\n",
    "\n",
    "class Agent:\n",
    "    def __init__(self):\n",
    "        self.credit = 1000\n",
    "        self.holdings = Holdings()\n",
    "        print('The agent is created.')\n",
    "\n",
    "        \n",
    "    def check(self):\n",
    "        print(f'credit : {self.credit}')\n",
    "        print(f'holding : {self.holdings}')\n",
    "        \n",
    "    \n",
    "    def buy(self, ticker, price, quantity):\n",
    "        total_amount = price * quantity\n",
    "        if total_amount > self.credit:\n",
    "            print(\"The agent can't buy.\")\n",
    "        else:\n",
    "            self.credit -= total_amount\n",
    "            self.holdings += {ticker: [price, quantity]}\n",
    "            print(f'The agent buys {quantity} {ticker} for {price}.')\n",
    "            \n",
    "            \n",
    "    def sell(self, ticker, price, quantity):\n",
    "        total_amount = price * quantity\n",
    "        if (ticker not in self.holdings.keys()) or (quantity > self.holdings[ticker][1]):\n",
    "            print(self.holdings[ticker][1])\n",
    "            print(\"The agent can't sell\")\n",
    "        else:\n",
    "            self.credit += total_amount\n",
    "            self.holdings -= {ticker: [price, quantity]}\n",
    "            if self.holdings[ticker][1] == 0:\n",
    "                self.holdings.pop(ticker)\n",
    "            print(f'The agent sells {quantity} {ticker} for {price}.')"
   ]
  },
  {
   "cell_type": "code",
   "execution_count": 18,
   "id": "4e7bbbb0",
   "metadata": {},
   "outputs": [
    {
     "name": "stdout",
     "output_type": "stream",
     "text": [
      "The agent is created.\n"
     ]
    }
   ],
   "source": [
    "FBA_agent = Agent()"
   ]
  },
  {
   "cell_type": "code",
   "execution_count": 19,
   "id": "9e9f63b8",
   "metadata": {},
   "outputs": [
    {
     "name": "stdout",
     "output_type": "stream",
     "text": [
      "The agent buys 5 AAPL for 135.\n"
     ]
    }
   ],
   "source": [
    "FBA_agent.buy('AAPL', 135, 5)"
   ]
  },
  {
   "cell_type": "code",
   "execution_count": 20,
   "id": "3662ed7f",
   "metadata": {},
   "outputs": [
    {
     "name": "stdout",
     "output_type": "stream",
     "text": [
      "credit : 325\n",
      "holding : [['AAPL', 135, 5]]\n"
     ]
    }
   ],
   "source": [
    "FBA_agent.check()"
   ]
  },
  {
   "cell_type": "code",
   "execution_count": 21,
   "id": "28eee4ec",
   "metadata": {},
   "outputs": [
    {
     "name": "stdout",
     "output_type": "stream",
     "text": [
      "The agent can't buy.\n"
     ]
    }
   ],
   "source": [
    "FBA_agent.buy('GOOGL', 2300, 1)"
   ]
  },
  {
   "cell_type": "code",
   "execution_count": 22,
   "id": "aa2c295b",
   "metadata": {},
   "outputs": [
    {
     "name": "stdout",
     "output_type": "stream",
     "text": [
      "The agent sells 3 AAPL for 140.\n"
     ]
    }
   ],
   "source": [
    "FBA_agent.sell('AAPL', 140, 3)"
   ]
  },
  {
   "cell_type": "code",
   "execution_count": 23,
   "id": "6b05b8e0",
   "metadata": {},
   "outputs": [
    {
     "name": "stdout",
     "output_type": "stream",
     "text": [
      "credit : 745\n",
      "holding : [['AAPL', 135, 2]]\n"
     ]
    }
   ],
   "source": [
    "FBA_agent.check()"
   ]
  },
  {
   "cell_type": "markdown",
   "id": "30b9093b",
   "metadata": {},
   "source": [
    "---"
   ]
  },
  {
   "cell_type": "code",
   "execution_count": 24,
   "id": "acdd391d",
   "metadata": {},
   "outputs": [
    {
     "name": "stdout",
     "output_type": "stream",
     "text": [
      "The agent buys 10 NNOX for 10.\n"
     ]
    }
   ],
   "source": [
    "FBA_agent.buy('NNOX', 10, 10)"
   ]
  },
  {
   "cell_type": "code",
   "execution_count": 25,
   "id": "6e7c4036",
   "metadata": {},
   "outputs": [
    {
     "name": "stdout",
     "output_type": "stream",
     "text": [
      "credit : 645\n",
      "holding : [['AAPL', 135, 2], ['NNOX', 10, 10]]\n"
     ]
    }
   ],
   "source": [
    "FBA_agent.check()"
   ]
  },
  {
   "cell_type": "code",
   "execution_count": 26,
   "id": "c28ba34b",
   "metadata": {},
   "outputs": [
    {
     "name": "stdout",
     "output_type": "stream",
     "text": [
      "The agent buys 2 AAPL for 165.\n"
     ]
    }
   ],
   "source": [
    "FBA_agent.buy('AAPL', 165, 2)"
   ]
  },
  {
   "cell_type": "code",
   "execution_count": 27,
   "id": "02e4a792",
   "metadata": {},
   "outputs": [
    {
     "name": "stdout",
     "output_type": "stream",
     "text": [
      "credit : 315\n",
      "holding : [['AAPL', 150.0, 4], ['NNOX', 10, 10]]\n"
     ]
    }
   ],
   "source": [
    "FBA_agent.check()"
   ]
  },
  {
   "cell_type": "code",
   "execution_count": 28,
   "id": "7e6357ae",
   "metadata": {},
   "outputs": [
    {
     "name": "stdout",
     "output_type": "stream",
     "text": [
      "The agent sells 4 AAPL for 200.\n"
     ]
    }
   ],
   "source": [
    "FBA_agent.sell('AAPL', 200, 4)"
   ]
  },
  {
   "cell_type": "code",
   "execution_count": 29,
   "id": "42fdda90",
   "metadata": {},
   "outputs": [
    {
     "name": "stdout",
     "output_type": "stream",
     "text": [
      "credit : 1115\n",
      "holding : [['NNOX', 10, 10]]\n"
     ]
    }
   ],
   "source": [
    "FBA_agent.check()"
   ]
  }
 ],
 "metadata": {
  "kernelspec": {
   "display_name": "Python 3 (ipykernel)",
   "language": "python",
   "name": "python3"
  },
  "language_info": {
   "codemirror_mode": {
    "name": "ipython",
    "version": 3
   },
   "file_extension": ".py",
   "mimetype": "text/x-python",
   "name": "python",
   "nbconvert_exporter": "python",
   "pygments_lexer": "ipython3",
   "version": "3.9.7"
  },
  "toc": {
   "base_numbering": 1,
   "nav_menu": {},
   "number_sections": false,
   "sideBar": true,
   "skip_h1_title": false,
   "title_cell": "Table of Contents",
   "title_sidebar": "Contents",
   "toc_cell": false,
   "toc_position": {},
   "toc_section_display": true,
   "toc_window_display": false
  }
 },
 "nbformat": 4,
 "nbformat_minor": 5
}
