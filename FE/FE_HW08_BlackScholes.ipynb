{
 "cells": [
  {
   "cell_type": "markdown",
   "id": "299e3799",
   "metadata": {},
   "source": [
    "# FE Homework 8\n",
    "**FBA Quant 이의형**"
   ]
  },
  {
   "cell_type": "markdown",
   "id": "1bbc32ec",
   "metadata": {},
   "source": [
    "---"
   ]
  },
  {
   "cell_type": "markdown",
   "id": "4e36d658",
   "metadata": {},
   "source": [
    "## Problem 1."
   ]
  },
  {
   "cell_type": "markdown",
   "id": "3679bf7c",
   "metadata": {},
   "source": [
    "Suppose you are a portfolio manager and you are going to use derivatives to construct certain portfolio.  \n",
    "The current stock price for AAPL is \\\\$171.01 per share, at 10 am, March 8, 2019.  \n",
    "You want to sell 1 unit of European Call on AAPL, with strike of \\\\$180 and maturity of 1 year.  \n",
    "Suppose the annualized interest rate is 3%, the annualized drift for AAPL is 5%, no dividend, and the annualized volatility is 10%.  \n",
    "In order to hedge the potential risk of your option, you are going to calculate several Greeks based on Black-Merton-Scholes model."
   ]
  },
  {
   "cell_type": "markdown",
   "id": "93faa55c",
   "metadata": {},
   "source": [
    "**(a)**  Calculate the Call option price, at 10 am, March 8, 2019."
   ]
  },
  {
   "cell_type": "code",
   "execution_count": 1,
   "id": "f993e859",
   "metadata": {},
   "outputs": [],
   "source": [
    "import numpy as np\n",
    "from scipy.stats import norm\n",
    "\n",
    "def black_scholes_equation(S, K, T, r, sigma, type_):\n",
    "    d1 = (np.log(S/K) + (r + 0.5 * sigma**2) * T) / (sigma * np.sqrt(T))\n",
    "    d2 = d1 - (sigma * np.sqrt(T))\n",
    "\n",
    "    if type_ == 'call':\n",
    "        option_price = S * norm.cdf(d1) - K * np.exp(-r * T) * norm.cdf(d2)\n",
    "    elif type_ == 'put':\n",
    "        option_price = K * np.exp(-r * T) * norm.cdf(-d2) - S * norm.cdf(-d1)\n",
    "    \n",
    "    return option_price"
   ]
  },
  {
   "cell_type": "code",
   "execution_count": 2,
   "id": "01c945c5",
   "metadata": {},
   "outputs": [
    {
     "name": "stdout",
     "output_type": "stream",
     "text": [
      "call option price: 5.2122\n"
     ]
    }
   ],
   "source": [
    "cond = dict(S = 171.01,\n",
    "              K = 180,\n",
    "              T = 1,\n",
    "              r = 0.03,\n",
    "              sigma = 0.10,\n",
    "              type_ = 'call')\n",
    "\n",
    "call_price = black_scholes_equation(**cond)\n",
    "\n",
    "print(f'call option price: {call_price:.4f}')"
   ]
  },
  {
   "cell_type": "markdown",
   "id": "d864d031",
   "metadata": {},
   "source": [
    "**(b)** Calculate the Delta, Gamma, Vega, Theta at 10 am, March 8, 2019. Also, give your thoughts about why Delta is positive or negative."
   ]
  },
  {
   "cell_type": "code",
   "execution_count": 3,
   "id": "0421bd57",
   "metadata": {},
   "outputs": [],
   "source": [
    "def get_delta(S, K, T, r, sigma):\n",
    "    d1 = (np.log(S/K) + (r + 0.5 * sigma**2) * T) / (sigma * np.sqrt(T))\n",
    "    delta = norm.cdf(d1)\n",
    "    return delta\n",
    "\n",
    "def get_gamma(S, K, r, T, sigma):\n",
    "    d1 = (np.log(S/K) + (r + 0.5 * sigma**2) * T) / (sigma * np.sqrt(T))\n",
    "    gamma = norm.pdf(d1) / (S * sigma * np.sqrt(T))\n",
    "    return gamma\n",
    "\n",
    "def get_vega(S, K, r, T, sigma):\n",
    "    d1 = (np.log(S / K) + (r + 0.5 * sigma**2) * T) / (sigma * np.sqrt(T))\n",
    "    vega = S * norm.pdf(d1) * np.sqrt(T)\n",
    "    return vega\n",
    "\n",
    "def get_theta(S, K, r, T, sigma):\n",
    "    d1 = (np.log(S/K) + (r + 0.5 * sigma**2) * T) / (sigma * np.sqrt(T))\n",
    "    d2 = d1 - (sigma * np.sqrt(T))\n",
    "    theta = - (S * norm.pdf(d1) * sigma) / (2 * np.sqrt(T)) - r * K * np.exp(-r * T) * norm.cdf(d2)\n",
    "    return theta"
   ]
  },
  {
   "cell_type": "code",
   "execution_count": 4,
   "id": "eab2c945",
   "metadata": {},
   "outputs": [
    {
     "name": "stdout",
     "output_type": "stream",
     "text": [
      "Delta: 0.4355\n",
      "Gamma: 0.0230\n",
      "Vega: 67.3299\n",
      "Theta: -5.4445\n"
     ]
    }
   ],
   "source": [
    "cond = dict(S = 171.01,\n",
    "              K = 180,\n",
    "              T = 1,\n",
    "              r = 0.03,\n",
    "              sigma = 0.10)\n",
    "\n",
    "print(f'Delta: {get_delta(**cond):.4f}')\n",
    "print(f'Gamma: {get_gamma(**cond):.4f}')\n",
    "print(f'Vega: {get_vega(**cond):.4f}')\n",
    "print(f'Theta: {get_theta(**cond):.4f}')"
   ]
  },
  {
   "cell_type": "markdown",
   "id": "16379418",
   "metadata": {},
   "source": [
    "기초자산 가격이 상승할수록 콜옵션의 가치가 높아지기 때문에 Delta는 양수이다."
   ]
  },
  {
   "cell_type": "markdown",
   "id": "b0a17f53",
   "metadata": {},
   "source": [
    "**(c)** Suppose you are doing a monthly Delta-Hedge, that is, you re-hedge per month. After one month, at 10 am, April 8, 2019, the stock price is \\\\$180.2, and you want to re-hedge right now. Calculate the additional amount of shares of AAPL you should buy (positive for buying, negative for selling) at 10 am, April 8, 2019, in order to re-hedge. Also, give your thoughts about why you are selling or buying stocks when the stock price goes up from the meaning of Delta Hedging."
   ]
  },
  {
   "cell_type": "code",
   "execution_count": 5,
   "id": "d951da9f",
   "metadata": {},
   "outputs": [
    {
     "name": "stdout",
     "output_type": "stream",
     "text": [
      "Initial Delta: 0.4355\n",
      "Delta after 1 month: 0.6356\n",
      "\n",
      "Additional amount of shares of AAPL: 0.2001\n"
     ]
    }
   ],
   "source": [
    "cond_init = dict(S = 171.01,\n",
    "              K = 180,\n",
    "              T = 1,\n",
    "              r = 0.03,\n",
    "              sigma = 0.10)\n",
    "\n",
    "initial_delta = get_delta(**cond_init)\n",
    "print(f'Initial Delta: {initial_delta:.4f}')\n",
    "\n",
    "cond_1m = dict(S = 180.2,\n",
    "              K = 180,\n",
    "              T = 11/12,\n",
    "              r = 0.03,\n",
    "              sigma = 0.10)\n",
    "\n",
    "delta_1m = get_delta(**cond_1m)\n",
    "print(f'Delta after 1 month: {delta_1m:.4f}')\n",
    "print()\n",
    "print(f'Additional amount of shares of AAPL: {delta_1m - initial_delta:.4f}')"
   ]
  },
  {
   "cell_type": "markdown",
   "id": "ba3535d2",
   "metadata": {},
   "source": [
    "델타는 기초자산 가격에 따른 옵션 가격의 민감도이므로 콜옵션을 매도한 경우에는 기초자산을 매입하여 헷지한다.  \n",
    "초기 델타는 0.4355로 1단위당 0.4355만큼 기초자산을 매수하면 포트폴리오의 델타는 0이다.  \n",
    "1달 뒤 델타는 0.6356으로 1단위당 0.6356만큼 보유해야하므로 0.2001만큼 더 매입해야한다."
   ]
  },
  {
   "cell_type": "markdown",
   "id": "90612ab4",
   "metadata": {},
   "source": [
    "**(d)** Calculate the change of your portfolio value (i.e. the net cashflow). Note that your answer should be in $ with new portfolio value minus previous value, in present value at 10 am, April 8, 2019."
   ]
  },
  {
   "cell_type": "code",
   "execution_count": 6,
   "id": "66d2f980",
   "metadata": {},
   "outputs": [
    {
     "name": "stdout",
     "output_type": "stream",
     "text": [
      "Change of portfolio value: -0.41 \n"
     ]
    }
   ],
   "source": [
    "option_weight = -1\n",
    "underlying_weight = 0.4355\n",
    "\n",
    "cond_init = dict(S = 171.01,\n",
    "              K = 180,\n",
    "              T = 1,\n",
    "              r = 0.03,\n",
    "              sigma = 0.10,\n",
    "              type_ = 'call')\n",
    "\n",
    "init_portfolio_value = black_scholes_equation(**cond_init) * option_weight + cond_init['S'] * underlying_weight\n",
    "\n",
    "cond_1m = dict(S = 180.2,\n",
    "              K = 180,\n",
    "              T = 11/12,\n",
    "              r = 0.03,\n",
    "              sigma = 0.10,\n",
    "              type_ = 'call')\n",
    "\n",
    "new_portfolio_value = black_scholes_equation(**cond_1m) * option_weight + cond_1m['S'] * underlying_weight\n",
    "\n",
    "print(f'Change of portfolio value: {new_portfolio_value - init_portfolio_value:.2f} ')"
   ]
  },
  {
   "cell_type": "markdown",
   "id": "a07dfac5",
   "metadata": {},
   "source": [
    "---"
   ]
  },
  {
   "cell_type": "markdown",
   "id": "9e462859",
   "metadata": {},
   "source": [
    "## Problem 2.\n",
    "\n",
    "Assume the same situation as Problem 1.  \n",
    "Back to at 10 am, March 8, 2019. Suppose you are constructing another portfolio by buying a European Call on AAPL with strike 180 and selling the European Call on AAPL with strike 185."
   ]
  },
  {
   "cell_type": "markdown",
   "id": "6e8c0d88",
   "metadata": {},
   "source": [
    "**(a)** Without volatility skew, that is, volatility is always 10% for different strikes. Calculate your portfolio value V, at 10 am, March 8, 2019."
   ]
  },
  {
   "cell_type": "code",
   "execution_count": 7,
   "id": "f3952647",
   "metadata": {},
   "outputs": [
    {
     "name": "stdout",
     "output_type": "stream",
     "text": [
      "call option price: 5.2122\n",
      "put option price: 3.5380\n"
     ]
    }
   ],
   "source": [
    "call_cond = dict(S = 171.01,\n",
    "              K = 180,\n",
    "              T = 1,\n",
    "              r = 0.03,\n",
    "              sigma = 0.10,\n",
    "              type_ = 'call')\n",
    "\n",
    "put_cond = dict(S = 171.01,\n",
    "              K = 185,\n",
    "              T = 1,\n",
    "              r = 0.03,\n",
    "              sigma = 0.10,\n",
    "              type_ = 'call')\n",
    "\n",
    "call_price = black_scholes_equation(**call_cond)\n",
    "put_price = black_scholes_equation(**put_cond)\n",
    "\n",
    "print(f'call option price: {call_price:.4f}')\n",
    "print(f'put option price: {put_price:.4f}')"
   ]
  },
  {
   "cell_type": "markdown",
   "id": "8cc10105",
   "metadata": {},
   "source": [
    "---"
   ]
  },
  {
   "cell_type": "markdown",
   "id": "69db7fd1",
   "metadata": {},
   "source": [
    "## Problem 3.\n",
    "\n",
    "Solve the corresponding leetcode problem below and register the solution on GitHub."
   ]
  },
  {
   "cell_type": "markdown",
   "id": "32788f60",
   "metadata": {},
   "source": [
    "**Increasing Triplet Subsequence**  \n",
    "\n",
    "Given an integer array nums, return true if there exists a triple of indices (i, j, k) such that i < j < k and nums[i] < nums[j] < nums[k].  \n",
    "\n",
    "If no such indices exists, return false."
   ]
  },
  {
   "cell_type": "code",
   "execution_count": 8,
   "id": "c36f9406",
   "metadata": {},
   "outputs": [
    {
     "data": {
      "text/plain": [
       "[2, 1, 5, 0, 4, 6]"
      ]
     },
     "execution_count": 8,
     "metadata": {},
     "output_type": "execute_result"
    }
   ],
   "source": [
    "nums = [2,1,5,0,4,6]\n",
    "nums"
   ]
  },
  {
   "cell_type": "code",
   "execution_count": 9,
   "id": "df3e2433",
   "metadata": {},
   "outputs": [],
   "source": [
    "class Solution1:\n",
    "    def increasingTriplet(self, nums: list[int]) -> bool:\n",
    "        if len(set(nums)) < 3:\n",
    "            return False\n",
    "        for i in range(len(nums)):\n",
    "            for j in range(i+1, len(nums)):\n",
    "                if nums[i] < nums[j]:\n",
    "                    for k in range(j+1, len(nums)):\n",
    "                        if nums[j] < nums[k]:\n",
    "                            return True\n",
    "        return False"
   ]
  },
  {
   "cell_type": "code",
   "execution_count": 10,
   "id": "54c309fe",
   "metadata": {},
   "outputs": [
    {
     "data": {
      "text/plain": [
       "True"
      ]
     },
     "execution_count": 10,
     "metadata": {},
     "output_type": "execute_result"
    }
   ],
   "source": [
    "Solution1().increasingTriplet(nums)"
   ]
  },
  {
   "cell_type": "markdown",
   "id": "9532e842",
   "metadata": {},
   "source": [
    "---"
   ]
  },
  {
   "cell_type": "markdown",
   "id": "2ee4afb2",
   "metadata": {},
   "source": [
    "## Problem 4.\n",
    "\n",
    "Solve the corresponding leetcode problem below and register the solution on GitHub."
   ]
  },
  {
   "cell_type": "markdown",
   "id": "85b29a57",
   "metadata": {},
   "source": [
    "**Factorial Trailing Zeroes**\n",
    "\n",
    "Given an integer n, return the number of trailing zeroes in n!.\n",
    "\n",
    "Note that n! = n * (n - 1) * (n - 2) * ... * 3 * 2 * 1."
   ]
  },
  {
   "cell_type": "code",
   "execution_count": 11,
   "id": "c8f197ef",
   "metadata": {},
   "outputs": [
    {
     "data": {
      "text/plain": [
       "1574"
      ]
     },
     "execution_count": 11,
     "metadata": {},
     "output_type": "execute_result"
    }
   ],
   "source": [
    "n = 1574\n",
    "n"
   ]
  },
  {
   "cell_type": "code",
   "execution_count": 12,
   "id": "c12302b6",
   "metadata": {},
   "outputs": [],
   "source": [
    "#import sys\n",
    "#sys.set_int_max_str_digits(1000000)\n",
    "\n",
    "class Solution2:\n",
    "    \n",
    "    def factorial(self, n):\n",
    "        if n == 1 or n == 0:\n",
    "            return 1\n",
    "        return n * self.factorial(n-1)\n",
    "\n",
    "    def trailingZeroes(self, n: int) -> int:\n",
    "        if n == 0:\n",
    "            return 0\n",
    "\n",
    "        num_str = str(self.factorial(n))\n",
    "        \n",
    "        cnt = 0\n",
    "        for s in num_str[::-1]:\n",
    "            if s == '0':\n",
    "                cnt += 1\n",
    "            else:\n",
    "                break\n",
    "        return cnt"
   ]
  },
  {
   "cell_type": "code",
   "execution_count": 13,
   "id": "884d4531",
   "metadata": {},
   "outputs": [
    {
     "data": {
      "text/plain": [
       "390"
      ]
     },
     "execution_count": 13,
     "metadata": {},
     "output_type": "execute_result"
    }
   ],
   "source": [
    "Solution2().trailingZeroes(n)"
   ]
  },
  {
   "cell_type": "code",
   "execution_count": 14,
   "id": "5b788870",
   "metadata": {},
   "outputs": [
    {
     "data": {
      "text/plain": [
       "3188178904997082852944650454632395301153145851710579075577260277436892987792132454851290897622630757496881047982666970491275190394610323955167148670284138804895063048077754932736591461024136450237039466678836275630270598439363731003794005174085668288980520323496300164846450035056889785488645246665061673734646773878326658717701257166260268833795004483022225370958194194189291862067211191278836319072871566931764904401277867354283903636613871064066005640971339927918002707704296892576634962996562372764100204268471121214163727192698274358253671993215938544513135750089055193551561366203853779337301310167590473723689011522172361202976908563821664883671818897338197173703799121144226188137635105666601031713128424896488552724930921904449307412881218343153894866621375583743315082284313091736089466723752457653203851126299066882920468251697206796168774038328015626940375265179909112604784822142674498847426999578135944041852535391162781497018640580422389008747018864637398019980679979615526992931886298455924253730953396997846527745994651330135742027658515675201891557046679493321310548140855191965590116585848667213261666633460233043360598850113784653571028740963110925600331289747268910396170525662248951165823176699145070225173587203961456906990131760165219290160836658701973054492542368941119740956546493527454271037526617058145241271000924611069372894196097999005279208101933646696580676995515970606141600367970159054395690253595254901608969655595844429165591294805370946369307628403279413437979816187226563910117630130540765306143593572238053846578147042951571389014297120265929796913188413018028989715494370366202789773117653046209262256983156298485316369663787407824952932294157525317324951937327867997756724801605166100911421074283341662920940126033374486795886979072075375723759045447722120457982908197601694047973952830983904159904477783199612543226034415155570779324787072304795266053338609839648292524188869829441210359208755755030292615012410783796110119254573860858744139904384299204970807233355500727733044064220102097129267285202718978057379229861018563179671130915395521951449719966062863297397529907094722292795554341263612532247469838930238945376156635378113965209002667512383477447798228902957680237904599896928782081632505242198883114648688317409882342649283085265246713997352919700732106456709028569446168524019751735657292351745849604770121434748021994474127084449647904833249067637421982385850111564360081147493176356737009225126883805163540473510093894551717482282925246636463886129179485840193465188585579004682972187539725699143475483126121748810959160731651890447862727673574562830339048922705822750944028278159665299528247764235903885140237646712228206851769059540802288719818980407067562083225300979198490380859465336708126270800139771879601003301420736179273066174625475060712388526487058220740717992846600321597031759718359296667087707952500510778006316378459211718823999253558175676083625710017091331856254545726887649830785303469937110117282742248041865801606266134695724921214676461491264769577422373991665364423327980342754168168865918185655850797982499844969193016921232973328755934208346415208998304076164743905165324548635649259653245000406806255054979688931101950799835513670943806177630236469768424452262176419941400118872329873170225493939827675684489273872562409142291854743220109093635021385741353849772144446085324811051183446442694493554461529096832796665607771276484471429056213975460533681431283360218909902415267079173305910263179275381602007747177927631012184758330168402305478727708402929918409205033898100008678979013000731352094948286499213185704923749728292201847268074869899321412730510962532852887669423187569084943959756907268087939557720747612520605214111993997921892662130337383227891289124173724137525214498583715475432365729800186184036740950022064694247489600351695688956434124870053577326588833368847753575765989690516592670914066384723150967360370058476895448874022942986846386537971732403980337152000000000000000000000000000000000000000000000000000000000000000000000000000000000000000000000000000000000000000000000000000000000000000000000000000000000000000000000000000000000000000000000000000000000000000000000000000000000000000000000000000000000000000000000000000000000000000000000000000000000000000000000000000000000000000000000000000000000000000000000000000000000000000000000000000000"
      ]
     },
     "execution_count": 14,
     "metadata": {},
     "output_type": "execute_result"
    }
   ],
   "source": [
    "Solution2().factorial(1574)"
   ]
  },
  {
   "cell_type": "code",
   "execution_count": 15,
   "id": "ca8bfa46",
   "metadata": {},
   "outputs": [
    {
     "data": {
      "text/plain": [
       "'2000000000000000000000000000000000000000000000000000000000000000000000000000000000000000000000000000000000000000000000000000000000000000000000000000000000000000000000000000000000000000000000000000000000000000000000000000000000000000000000000000000000000000000000000000000000000000000000000000000000000000000000000000000000000000000000000000000000000000000000000000000000000000000000000000000'"
      ]
     },
     "execution_count": 15,
     "metadata": {},
     "output_type": "execute_result"
    }
   ],
   "source": [
    "str(Solution2().factorial(1574))[-391:]"
   ]
  },
  {
   "cell_type": "markdown",
   "id": "90dec80d",
   "metadata": {},
   "source": [
    "---"
   ]
  }
 ],
 "metadata": {
  "kernelspec": {
   "display_name": "Python 3 (ipykernel)",
   "language": "python",
   "name": "python3"
  },
  "language_info": {
   "codemirror_mode": {
    "name": "ipython",
    "version": 3
   },
   "file_extension": ".py",
   "mimetype": "text/x-python",
   "name": "python",
   "nbconvert_exporter": "python",
   "pygments_lexer": "ipython3",
   "version": "3.9.7"
  },
  "toc": {
   "base_numbering": 1,
   "nav_menu": {},
   "number_sections": false,
   "sideBar": true,
   "skip_h1_title": false,
   "title_cell": "Table of Contents",
   "title_sidebar": "Contents",
   "toc_cell": false,
   "toc_position": {},
   "toc_section_display": true,
   "toc_window_display": false
  }
 },
 "nbformat": 4,
 "nbformat_minor": 5
}
