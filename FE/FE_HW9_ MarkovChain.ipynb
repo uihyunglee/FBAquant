{
 "cells": [
  {
   "cell_type": "markdown",
   "id": "299e3799",
   "metadata": {},
   "source": [
    "# FE Homework 9\n",
    "**FBA Quant 이의형**"
   ]
  },
  {
   "cell_type": "markdown",
   "id": "1bbc32ec",
   "metadata": {},
   "source": [
    "---"
   ]
  },
  {
   "cell_type": "markdown",
   "id": "3679bf7c",
   "metadata": {},
   "source": [
    "## Problem 1.\n",
    "\n",
    "Player M has \\\\$1 and player N has \\\\$2. Each game gives the winner $1 from the other.  \n",
    "As a better player, M wins 2/3 of the games. They play until one of them is bankrupt.  \n",
    "What is the probability that M wins?"
   ]
  },
  {
   "cell_type": "markdown",
   "id": "a1ce2776",
   "metadata": {},
   "source": [
    "$a_i$가 $i$달러를 가지고 있을 때, $a_3$까지 갈 확률이라고 하면"
   ]
  },
  {
   "cell_type": "markdown",
   "id": "03931675",
   "metadata": {},
   "source": [
    "$$ a_3 = 1,\n",
    "\\\\ a_0 = 0, \n",
    "\\\\ a_1 = \\sum^3_{j=0} p_{1,j} a_j = \\frac 1 3 * 0 + \\frac 2 3 * a_2,\n",
    "\\\\ a_2 = \\sum^3_{j=0} p_{2,j} a_j = \\frac 1 3 * a_1 + \\frac 2 3 * 1$$"
   ]
  },
  {
   "cell_type": "markdown",
   "id": "b14fb315",
   "metadata": {},
   "source": [
    "따라서 $\\displaystyle a_1 = \\frac 4 7, a_2 = \\frac 6 7$이 되어 Player M이 1달러를 가진 상태에서 이길 확률은 $\\displaystyle \\frac 4 7$이다."
   ]
  },
  {
   "cell_type": "markdown",
   "id": "a07dfac5",
   "metadata": {},
   "source": [
    "---"
   ]
  },
  {
   "cell_type": "markdown",
   "id": "9e462859",
   "metadata": {},
   "source": [
    "## Problem 2.\n",
    "\n",
    "A box contains n balls of n different colors.  \n",
    "Each time, you randomly select a pair of balls, repaint the first to match the second, and put the pair back into the box.  \n",
    "What is the expected number of steps until all balls in the box are of the same color?"
   ]
  },
  {
   "cell_type": "markdown",
   "id": "d627a453",
   "metadata": {},
   "source": [
    "$N_n$을 $n$개의 공을 같은 색으로 만드는 스텝 개수라 하고, $F_i$를 마지막에 모든 공이 색 $i$가 되는 사건이라 하면,\n",
    "\n",
    "the law of total expectation에 의해 $E[N_n] = E[N_n|F_1]P[F_1] + E[N_n|F_2]P[F_2] + ... + E[N_n|F_n]P[F_n]$을 가진다.\n",
    "\n",
    "모든 공은 1개씩 들어있으므로 어떤 한 색으로 끝날 확률은 모두 동일($1/n$)하기 때문에 $E[N_n]=E[N_n|F_1]=E[N_n|F_2]P[F_2]=E[N_n|F_n]$이 성립한다.  "
   ]
  },
  {
   "cell_type": "markdown",
   "id": "8bfaf3af",
   "metadata": {},
   "source": [
    "따라서 $E[N_n|F_1]$에 대해 풀이하여 $E[N_n]$을 구한다.\n",
    "\n",
    "$E[N_i|F_1] = 1 + E[N_{i-1}|F_1]*P_{i,i-1}|F_1 + E[N_{i}|F_1]*P_{i,i}|F_1 + E[N_{i+1}|F_1]*P_{i,i+1}|F_1$ (Equations for the expected time to absorption)"
   ]
  },
  {
   "cell_type": "markdown",
   "id": "ab1c30a6",
   "metadata": {},
   "source": [
    "---"
   ]
  },
  {
   "cell_type": "markdown",
   "id": "69db7fd1",
   "metadata": {},
   "source": [
    "## Problem 3.\n",
    "\n",
    "Solve the corresponding leetcode problem below and register the solution on GitHub."
   ]
  },
  {
   "cell_type": "markdown",
   "id": "32788f60",
   "metadata": {},
   "source": [
    "**Group Anagrams**  \n",
    "\n",
    "Given an array of strings 'strs', group the anagrams together. You can return the answer in any order.  \n",
    "\n",
    "An Anagram is a word or phrase formed by rearranging the letters of a different word or phrase, typically using all the original letters exactly once."
   ]
  },
  {
   "cell_type": "code",
   "execution_count": 28,
   "id": "c36f9406",
   "metadata": {},
   "outputs": [
    {
     "data": {
      "text/plain": [
       "['eat', 'tea', 'tan', 'ate', 'nat', 'bat']"
      ]
     },
     "execution_count": 28,
     "metadata": {},
     "output_type": "execute_result"
    }
   ],
   "source": [
    "strs = [\"eat\",\"tea\",\"tan\",\"ate\",\"nat\",\"bat\"]\n",
    "strs"
   ]
  },
  {
   "cell_type": "code",
   "execution_count": 88,
   "id": "b2be4023",
   "metadata": {},
   "outputs": [],
   "source": [
    "class Solution1:\n",
    "    def groupAnagrams(self, strs: list[str]) -> list[list[str]]:\n",
    "        sorted_strs = list(map(sorted, strs))\n",
    "\n",
    "        answer = []\n",
    "        previous_words = []\n",
    "        match_list = []\n",
    "\n",
    "        for i in range(len(sorted_strs)):\n",
    "            continue_switch = False\n",
    "            for j in range(len(previous_words)):\n",
    "                if sorted_strs[i] == previous_words[j]:\n",
    "                    match_list[j].append(strs[i])\n",
    "                    continue_switch = True\n",
    "                    break\n",
    "            if continue_switch:\n",
    "                continue\n",
    "            match_list.append([strs[i]])\n",
    "            previous_words.append(sorted_strs[i])\n",
    "        \n",
    "        return match_list"
   ]
  },
  {
   "cell_type": "code",
   "execution_count": 89,
   "id": "54c309fe",
   "metadata": {},
   "outputs": [
    {
     "data": {
      "text/plain": [
       "[['eat', 'tea', 'ate'], ['tan', 'nat'], ['bat']]"
      ]
     },
     "execution_count": 89,
     "metadata": {},
     "output_type": "execute_result"
    }
   ],
   "source": [
    "Solution1().groupAnagrams(strs)"
   ]
  },
  {
   "cell_type": "markdown",
   "id": "9532e842",
   "metadata": {},
   "source": [
    "---"
   ]
  },
  {
   "cell_type": "markdown",
   "id": "2ee4afb2",
   "metadata": {},
   "source": [
    "## Problem 4.\n",
    "\n",
    "Solve the corresponding leetcode problem below and register the solution on GitHub."
   ]
  },
  {
   "cell_type": "markdown",
   "id": "85b29a57",
   "metadata": {},
   "source": [
    "**Excel Sheet Column Number**\n",
    "\n",
    "Given a string columnTitle that represents the column title as appears in an Excel sheet, return its corresponding column number."
   ]
  },
  {
   "cell_type": "code",
   "execution_count": 223,
   "id": "c8f197ef",
   "metadata": {},
   "outputs": [
    {
     "data": {
      "text/plain": [
       "'ZY'"
      ]
     },
     "execution_count": 223,
     "metadata": {},
     "output_type": "execute_result"
    }
   ],
   "source": [
    "columnTitle = 'ZY'\n",
    "columnTitle"
   ]
  },
  {
   "cell_type": "code",
   "execution_count": 224,
   "id": "c12302b6",
   "metadata": {},
   "outputs": [],
   "source": [
    "class Solution2:\n",
    "    def titleToNumber(self, columnTitle: str) -> int:\n",
    "        split_num = list(map(lambda x: ord(x)-64, list(columnTitle)))\n",
    "        for i in range(m:=len(split_num)):\n",
    "            split_num[i] *= 26**(m-i-1)\n",
    "        return sum(split_num)"
   ]
  },
  {
   "cell_type": "code",
   "execution_count": 225,
   "id": "884d4531",
   "metadata": {},
   "outputs": [
    {
     "data": {
      "text/plain": [
       "701"
      ]
     },
     "execution_count": 225,
     "metadata": {},
     "output_type": "execute_result"
    }
   ],
   "source": [
    "Solution2().titleToNumber(columnTitle)"
   ]
  },
  {
   "cell_type": "markdown",
   "id": "90dec80d",
   "metadata": {},
   "source": [
    "---"
   ]
  }
 ],
 "metadata": {
  "kernelspec": {
   "display_name": "Python 3 (ipykernel)",
   "language": "python",
   "name": "python3"
  },
  "language_info": {
   "codemirror_mode": {
    "name": "ipython",
    "version": 3
   },
   "file_extension": ".py",
   "mimetype": "text/x-python",
   "name": "python",
   "nbconvert_exporter": "python",
   "pygments_lexer": "ipython3",
   "version": "3.9.7"
  },
  "toc": {
   "base_numbering": 1,
   "nav_menu": {},
   "number_sections": false,
   "sideBar": true,
   "skip_h1_title": false,
   "title_cell": "Table of Contents",
   "title_sidebar": "Contents",
   "toc_cell": false,
   "toc_position": {},
   "toc_section_display": true,
   "toc_window_display": false
  }
 },
 "nbformat": 4,
 "nbformat_minor": 5
}
