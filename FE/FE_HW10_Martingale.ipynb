{
 "cells": [
  {
   "cell_type": "markdown",
   "id": "299e3799",
   "metadata": {},
   "source": [
    "# FE Homework 10\n",
    "**FBA Quant 이의형**"
   ]
  },
  {
   "cell_type": "markdown",
   "id": "1bbc32ec",
   "metadata": {},
   "source": [
    "---"
   ]
  },
  {
   "cell_type": "markdown",
   "id": "3679bf7c",
   "metadata": {},
   "source": [
    "## Problem 1. \n",
    "\n",
    "A drunk man is at the 17th meter of a 100-meter-long bridge. He has a 50% probability of staggering forward or backward one meter each step.  \n",
    "\n",
    "What is the probability that he will make it to the end of the bridge (the 100th meter) before the beginning (the 0th meter)?  \n",
    "\n",
    "What is the expected number of steps he takes to reach either the beginning or the end of the bridge?"
   ]
  },
  {
   "cell_type": "markdown",
   "id": "29bc4fc2",
   "metadata": {},
   "source": [
    "---"
   ]
  },
  {
   "cell_type": "markdown",
   "id": "cca3c65a",
   "metadata": {},
   "source": [
    "Martingale Process에서 $E[S_m; \\; m > n \\;|\\; S_n = s_n, S_{n-1} = s_{n-1}, ..., S_1 = s_1] = s_n$이다.  \n",
    "\n",
    "즉, $S_m$의 조건부 기댓값과 어느 시점의 $S_n$값은 같다.  \n",
    "\n",
    "또한, $E[S^2_{n+1} - (n+1)] = \\displaystyle \\frac {1} {2} [(S_n+1)^2 + (S_n-1)^2] - (n+1) = S_n^2 - n$를 만족하며, 이 또한 Martingale Process이다.\n",
    "\n",
    "주어진 문제는 Symmetric random walk로서 Martingale Process이다.  \n",
    "\n",
    "따라서 17번째인 현재 위치를 0으로 조정하고\n",
    "- $S_N$이 두 경우 중 어딘가에 멈춰 종료되는 경우\n",
    "- $p_{\\alpha}$를 83번째에 도착할 확률\n",
    "- $p_{\\beta}$를 -17번째에 도착할 확률  \n",
    "\n",
    "이라 하면,  \n",
    "\n",
    "$$E[S_N] = p_{\\alpha} * 83 + (1-p_{\\alpha})*(-17) = S_0 = 0, \\quad p_{\\alpha} = 0.17$$\n",
    "\n",
    "$$E[S_N^2 - N] = E[p_{\\alpha} * 83^2 + (1-p_{\\alpha})*(17^2)] - E[N] = S_0^2 - 0 = 0, \\quad E[N] = 1411$$\n",
    "\n",
    "100에 도착할 확률은 17%, 끝나는데까지 걸리는 기대횟수는 1411번이다.\n",
    "\n"
   ]
  },
  {
   "cell_type": "markdown",
   "id": "a07dfac5",
   "metadata": {},
   "source": [
    "---"
   ]
  },
  {
   "cell_type": "markdown",
   "id": "9e462859",
   "metadata": {},
   "source": [
    "## Problem 2.\n",
    "\n",
    "You can roll a 6-side dice up to 3 times.  \n",
    "\n",
    "After the first or the second roll, if you get a number x, you can decide either to get x dollars or to choose to continue rolling.  \n",
    "\n",
    "But once you decide to continue, you forgot the number you just rolled If you get to the third roll, you'll just get x dollars if the third number is x and the game stops.  \n",
    "\n",
    "What is the game worth and what is your strategy?\n"
   ]
  },
  {
   "cell_type": "markdown",
   "id": "4ae52cb2",
   "metadata": {},
   "source": [
    "---"
   ]
  },
  {
   "cell_type": "markdown",
   "id": "76623812",
   "metadata": {},
   "source": [
    "마지막(세번째) 주사위를 굴려 얻을 수 있는 기댓값은 $\\frac {1+2+3+4+5+6} {6} = 3.5$이다.\n",
    "\n",
    "따라서 두번째 주사위를 굴릴 때 $1,2,3$이 나온다면 주사위를 다시 굴리고 $4,5,6$이 나온다면 멈추는 선택을 할 수 있다.  \n",
    "\n",
    "그렇다면 두번째 주사위를 굴려 얻을 수 있는 기댓값은 1,2,3이 나온 경우의 $\\frac {3} {6} * 3.5$에 4,5,6이 나온 경우의 $\\frac {1}{6}(4 + 5 + 6)$을 더한 $4.25$이다.  \n",
    "\n",
    "마찬가지로 첫번째 주사위를 굴리는 경우를 생각해보면 $1,2,3,4$일 때 다시 주사위를 던지고, $5,6$일 때 멈추는 선택을 할 것이다.  \n",
    "\n",
    "따라서 이 게임은 해당 전략으로 $\\frac {4}{6} * 4.25 + \\frac {1}{6} (5+6) = \\frac {3}{14}$, 약 4.67$ 수익을 기대할 수 있다."
   ]
  },
  {
   "cell_type": "markdown",
   "id": "f8dbd013",
   "metadata": {},
   "source": [
    "---"
   ]
  },
  {
   "cell_type": "markdown",
   "id": "7b0db907",
   "metadata": {},
   "source": [
    "## Problem 3. \n",
    "\n",
    "A casino comes up with a fancy dice game.  \n",
    "\n",
    "It allows you to roll a dice as many times as you want unless a 6 appears.  \n",
    "\n",
    "After each roll, if 1 appears, you will win \\\\$1; if 2 appears, you will win \\\\$2; …; if 5 appears, you win \\\\$5;  \n",
    "\n",
    "but if 6 appears all the moneys you have won in the game is lost and the game stops.  \n",
    "\n",
    "After each roll, if the dice number is 1-5, you can decide whether to keep the money or keep on rolling.  \n",
    "\n",
    "How much are you willing to pay to play the game(if you are risk neutral)?"
   ]
  },
  {
   "cell_type": "markdown",
   "id": "dd842624",
   "metadata": {},
   "source": [
    "---"
   ]
  },
  {
   "cell_type": "markdown",
   "id": "59aa03e4",
   "metadata": {},
   "source": [
    "주사위 게임으로 \\\\$$n$ 수익을 얻었다고 할 때, 다음 게임에서 얻을 수 있는 보상의 기댓값은 아래와 같다.\n",
    "\n",
    "$$\\frac {1}{6}(n + 1) + \\frac {1}{6}(n + 2) + \\frac {1}{6}(n + 3) + \\frac {1}{6}(n + 4) + \\frac {1}{6}(n + 5) +\\frac {1}{6} * 0 = \\frac {5}{6}n + 2.5$$  \n",
    "\n",
    "따라서 현재 \\\\$$n$보다 높은 보상을 얻는 경우는 $\\frac {5}{6}n + 2.5 > n$인 경우이고, $n = 14$까지는 현재까지 수익보다 더 높은 보상을 기대할 수 있다.  \n",
    "\n"
   ]
  },
  {
   "cell_type": "markdown",
   "id": "c60f2d7e",
   "metadata": {},
   "source": [
    "$E[f(n)]$을 수익 \\\\$$n$인 상황에서 얻을 수 있는 기대 보상이라 할 때,  \n",
    "$$E[f(n)\\; |\\; n \\ge 15] = n$$\n",
    "$$E[f(n)\\; |\\; n \\le 14] = \\frac {1}{6} \\displaystyle \\sum ^5_{i=1} E[f(n+i)]$$"
   ]
  },
  {
   "cell_type": "code",
   "execution_count": 1,
   "id": "b3990f20",
   "metadata": {},
   "outputs": [],
   "source": [
    "def dice_payoff(n: int):\n",
    "    if n >= 15:\n",
    "        return n\n",
    "    expected_value = sum([ dice_payoff(n+i) for i in range(1,6) ]) / 6\n",
    "    return round(expected_value, 2)"
   ]
  },
  {
   "cell_type": "code",
   "execution_count": 2,
   "id": "5b4dddd5",
   "metadata": {},
   "outputs": [
    {
     "data": {
      "text/plain": [
       "6.15"
      ]
     },
     "execution_count": 2,
     "metadata": {},
     "output_type": "execute_result"
    }
   ],
   "source": [
    "dice_payoff(0)"
   ]
  },
  {
   "cell_type": "markdown",
   "id": "ab1c30a6",
   "metadata": {},
   "source": [
    "---"
   ]
  },
  {
   "cell_type": "markdown",
   "id": "69db7fd1",
   "metadata": {},
   "source": [
    "## Problem 4.\n",
    "\n",
    "Solve the corresponding leetcode problem below and register the solution on GitHub."
   ]
  },
  {
   "cell_type": "markdown",
   "id": "32788f60",
   "metadata": {},
   "source": [
    "**Longest Substring Without Repeating Characters**  \n",
    "\n",
    "Given a string **s**, find the length of the **longest substring** without repeating characters."
   ]
  },
  {
   "cell_type": "code",
   "execution_count": 3,
   "id": "8489f35b",
   "metadata": {},
   "outputs": [
    {
     "data": {
      "text/plain": [
       "'dvde'"
      ]
     },
     "execution_count": 3,
     "metadata": {},
     "output_type": "execute_result"
    }
   ],
   "source": [
    "s = \"dvde\"\n",
    "s"
   ]
  },
  {
   "cell_type": "code",
   "execution_count": 4,
   "id": "b2be4023",
   "metadata": {},
   "outputs": [],
   "source": [
    "class Solution1:\n",
    "    def lengthOfLongestSubstring(self, s: str) -> int:\n",
    "        previous_alphabet = []\n",
    "        len_lst = []\n",
    "        for alphabet in s:\n",
    "            if alphabet in previous_alphabet:\n",
    "                len_lst.append(len(previous_alphabet))\n",
    "                cut_idx = previous_alphabet.index(alphabet)\n",
    "                previous_alphabet = previous_alphabet[cut_idx+1:]\n",
    "                previous_alphabet.append(alphabet)\n",
    "            else:\n",
    "                previous_alphabet.append(alphabet)\n",
    "        len_lst.append(len(previous_alphabet))\n",
    "        return max(len_lst)"
   ]
  },
  {
   "cell_type": "code",
   "execution_count": 5,
   "id": "54c309fe",
   "metadata": {},
   "outputs": [
    {
     "data": {
      "text/plain": [
       "3"
      ]
     },
     "execution_count": 5,
     "metadata": {},
     "output_type": "execute_result"
    }
   ],
   "source": [
    "Solution1().lengthOfLongestSubstring(s)"
   ]
  },
  {
   "cell_type": "markdown",
   "id": "9532e842",
   "metadata": {},
   "source": [
    "---"
   ]
  },
  {
   "cell_type": "markdown",
   "id": "2ee4afb2",
   "metadata": {},
   "source": [
    "## Problem 5.\n",
    "\n",
    "Solve the corresponding leetcode problem below and register the solution on GitHub."
   ]
  },
  {
   "cell_type": "markdown",
   "id": "85b29a57",
   "metadata": {},
   "source": [
    "**Pow(x, n)**\n",
    "\n",
    "Implement **pow(x, n)**, which calculates **x** raised to the power **n** (i.e., **$x^n$**)."
   ]
  },
  {
   "cell_type": "code",
   "execution_count": 6,
   "id": "c8f197ef",
   "metadata": {},
   "outputs": [
    {
     "data": {
      "text/plain": [
       "(2, 10)"
      ]
     },
     "execution_count": 6,
     "metadata": {},
     "output_type": "execute_result"
    }
   ],
   "source": [
    "x = 2\n",
    "n = 10\n",
    "x, n"
   ]
  },
  {
   "cell_type": "code",
   "execution_count": 7,
   "id": "a44327bc",
   "metadata": {},
   "outputs": [],
   "source": [
    "class Solution2:\n",
    "    def myPow(self, x: float, n: int) -> float:\n",
    "        def basePow(x: float, n: int) -> float:\n",
    "            n = abs(n)\n",
    "            if n == 0:\n",
    "                return 1\n",
    "            elif n % 2 == 0:\n",
    "                return basePow(x * x, n // 2)\n",
    "            else:\n",
    "                return x * basePow(x * x, (n-1) // 2)\n",
    "        \n",
    "        if n > 0:\n",
    "            return basePow(x, n)\n",
    "        else:\n",
    "            return 1 / basePow(x, n)"
   ]
  },
  {
   "cell_type": "code",
   "execution_count": 8,
   "id": "884d4531",
   "metadata": {},
   "outputs": [
    {
     "data": {
      "text/plain": [
       "1024"
      ]
     },
     "execution_count": 8,
     "metadata": {},
     "output_type": "execute_result"
    }
   ],
   "source": [
    "Solution2().myPow(x, n)"
   ]
  },
  {
   "cell_type": "markdown",
   "id": "90dec80d",
   "metadata": {},
   "source": [
    "---"
   ]
  }
 ],
 "metadata": {
  "kernelspec": {
   "display_name": "Python 3 (ipykernel)",
   "language": "python",
   "name": "python3"
  },
  "language_info": {
   "codemirror_mode": {
    "name": "ipython",
    "version": 3
   },
   "file_extension": ".py",
   "mimetype": "text/x-python",
   "name": "python",
   "nbconvert_exporter": "python",
   "pygments_lexer": "ipython3",
   "version": "3.9.7"
  },
  "toc": {
   "base_numbering": 1,
   "nav_menu": {},
   "number_sections": false,
   "sideBar": true,
   "skip_h1_title": false,
   "title_cell": "Table of Contents",
   "title_sidebar": "Contents",
   "toc_cell": false,
   "toc_position": {},
   "toc_section_display": true,
   "toc_window_display": false
  }
 },
 "nbformat": 4,
 "nbformat_minor": 5
}
