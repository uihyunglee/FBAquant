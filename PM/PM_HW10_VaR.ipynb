{
 "cells": [
  {
   "cell_type": "markdown",
   "id": "de75f31f",
   "metadata": {},
   "source": [
    "# PM Homework 10\n",
    "\n",
    "**FBA Quant 이의형**"
   ]
  },
  {
   "cell_type": "markdown",
   "id": "5ad2f80b",
   "metadata": {},
   "source": [
    "---"
   ]
  },
  {
   "cell_type": "markdown",
   "id": "d570b5f0",
   "metadata": {},
   "source": [
    "## Assignment 1. Summarize Text Book\n",
    "\n",
    "- [Investment Science] Chap 10. Risk Measures"
   ]
  },
  {
   "cell_type": "markdown",
   "id": "da778e78",
   "metadata": {},
   "source": [
    "### Chap 10.1 Value at Risk"
   ]
  },
  {
   "cell_type": "markdown",
   "id": "03d1d515",
   "metadata": {},
   "source": [
    "$X$:$T$ 시점에 포지션 가치의 변화 (위험 관점에서 $-X$에 집중)  \n",
    "$h$: loss tolerance  \n",
    "confidence level: $1 - h$  \n",
    "\n",
    "$\\text {VaR}_h(X) = \\text {min}_h \\{ V:P[-X > V] \\le h]\\}$ \n",
    "\n",
    "$\\text {VaR}_h(X) = \\text {min}_h \\{ V:P[-X  \\le V] > 1-h]\\}$  \n",
    "\n",
    "(-X보다 더 큰 손실 V가 날 가능성은 h보다 작다.)  \n",
    "\n",
    "cumulative prebability distribution: $F_X(x) = P[X \\le x]$  \n",
    "\n",
    "inverse function $x = F^{-1}_X(h)$  \n",
    "\n",
    "$\\text {VaR}_h(X) = -F_X^{-1}(h)$"
   ]
  },
  {
   "cell_type": "markdown",
   "id": "4de590b0",
   "metadata": {},
   "source": [
    "**Property**  \n",
    "- VaR은 쉽게 이해 가능하며, 잠재적 손실을 직관적으로 반영  \n",
    "- VaR은 left tail에만 의존하므로 이익 예측 없이 손실에만 집중  \n",
    "- AA, A 등 광범위한 범주로 정의하지 않고 모든 가정을 확률로 반환  "
   ]
  },
  {
   "cell_type": "markdown",
   "id": "67e8f8ee",
   "metadata": {},
   "source": [
    "### Chap 10.2 Computation of Value at Risk"
   ]
  },
  {
   "cell_type": "markdown",
   "id": "22663d58",
   "metadata": {},
   "source": [
    "VaR을 결정하려면 포지션 X의 확률 분포에 대한 정보가 필요하다.  \n",
    "\n",
    "일반적으로 포트폴리오 내 개별 자산의 리스크는 정규 분포를 근사적으로 따른다는 가정이 존재한다.  \n",
    "가정을 적용했을 때, 평균 $\\mu$와 분산 $\\sigma^2$이 주어지면 다음 정리를 사용할 수 있다.  \n",
    "\n",
    "$\\text {VaR}_h(X) = - \\sigma F_N^{-1} (h) - \\mu$ ($F_N$은 표준 정규 분포의 누적 확률 분포)  \n",
    "\n",
    "일반적으로 $\\mu$가 매우 작을 경우, 변동성만을 고려한다. (보통 평균 0으로 가정)  "
   ]
  },
  {
   "cell_type": "markdown",
   "id": "5b9d0ddd",
   "metadata": {},
   "source": [
    "예시) 10 mil의 포지션 $X$의 h=0.05 10일 VaR 계산 (일별 변동성 2% (연환산 약 30%)) \n",
    "- $\\sigma = 0.02 * \\sqrt (10) = 0.0632$  \n",
    "- $\\text {VaR}_{0.05}(X) = \\text {10 mil} * -0.0632 * F_N^{-1} (0.05) \\text {(=1.65)}$\n",
    "\n",
    "만약 다른 포지션을 추가한다면 correlation으로 전체 변동성을 구해서 계산한다.  \n",
    "\n",
    "$\\sigma_{A+B} < \\sigma_A + \\sigma_B$ 이기 때문에, $\\text {VaR}_h(X_{A+B}) \\le \\text {VaR}_h(X_A) + \\text {VaR}_h(X_B)$\n",
    "\n",
    "주의: 정규 분포 가정은 현실적이지 않을 수 있다. -> fat tail risk  \n",
    "\n",
    "**이산 분포**  \n",
    "\n",
    "$X$가 이산 분포이면 $X$값을 정렬하여 누적 합계를 만든 뒤, $h$보다 클 때의 $X$를 VaR로 설정 (같으면 손실이 작은 쪽으로 한 단계 더)"
   ]
  },
  {
   "cell_type": "markdown",
   "id": "0a45ab86",
   "metadata": {},
   "source": [
    "### Chap 10.3 Criticisms of VaR"
   ]
  },
  {
   "cell_type": "markdown",
   "id": "a2c61be3",
   "metadata": {},
   "source": [
    "**Diversification Failure**  \n",
    "\n",
    "정규 분포가 아닌 경우, 포지션 분산의 장점이 VaR에 반영되지 않을 수 있다.  \n",
    "\n",
    "(Problem 2)  \n",
    "\n",
    "**Poor Assessment of Risk**  \n",
    "\n",
    "일부 손실이 VaR보다 훨씬 클 수도 있다.  \n",
    "\n",
    "최악의 경우에서 최소 손실을 알 수 있을 뿐, 진짜 최악의 상황에서는 어떻게 될지 모른다.  \n",
    "\n",
    "**Discontinuous Value**  \n",
    "\n",
    "$h$에 민감할 수 있으며, 이산 값의 경우 더욱 더 민감해진다."
   ]
  },
  {
   "cell_type": "markdown",
   "id": "abfb69ff",
   "metadata": {},
   "source": [
    "### Chap 10.4 Coherent Risk Measures"
   ]
  },
  {
   "cell_type": "markdown",
   "id": "20609121",
   "metadata": {},
   "source": [
    "Risk Measure가 이상적으로 갖춰야 할 성질을 정확히 명시한다.  \n",
    "\n",
    "- Translation Invariance: $RM(L+x)=RM(L)+x$  \n",
    "- Sub-additivity: $RM(L_1 + L_2) \\le RM(L_1) + RM(L_2)$\n",
    "- Positive Homogeneity: $RM(tL) = tRM(L) \\quad(t > 0)$  \n",
    "- Monotonicity: almost surely $RM(L_1) \\ge RM(L_2) \\quad (L_1 \\ge L_2)$"
   ]
  },
  {
   "cell_type": "markdown",
   "id": "59545f5c",
   "metadata": {},
   "source": [
    "### Chap 10.5 Conditional Value at Risk"
   ]
  },
  {
   "cell_type": "markdown",
   "id": "c9e4a443",
   "metadata": {},
   "source": [
    "VaR로 측정한 손실보다 더 심한 손실 패턴을 설명할 수 있는 대안  \n",
    "- 최악의 상황에서 최소 손실을 구하는 것이 아닌 전체 예상 손실을 구한다.(손실 구간 평균)  \n",
    "\n",
    "$\\text {CVaR}_h(X) = E[-X | X \\le -\\text {VaR}_h(X)]$  \n",
    "\n",
    "$\\text {CVaR}_h(X) \\ge \\text {VaR}_h(X)$"
   ]
  },
  {
   "cell_type": "markdown",
   "id": "6ec8c123",
   "metadata": {},
   "source": [
    "CVaR은 tail value at risk (TVaR), expected shortfall, conditional tail expectation (CTE)라고도 불린다."
   ]
  },
  {
   "cell_type": "markdown",
   "id": "c2c1a92c",
   "metadata": {},
   "source": [
    "---"
   ]
  },
  {
   "cell_type": "markdown",
   "id": "931b6a4e",
   "metadata": {},
   "source": [
    "## Assignment 2. Python Implement\n",
    "\n",
    "The codes within‘VaR.ipynb’are the process of calculating VaR (Value at Risk).  \n",
    "Adjust the desired parameters (Tickers, start, end, weights, initial_cap, confidence_level) and  Calculate the Portfolio's Value at Risk.  \n",
    "\n",
    "질문 드릴 것이 있어 파라미터 수정 없이 제출"
   ]
  },
  {
   "cell_type": "code",
   "execution_count": 26,
   "id": "3f2131c2",
   "metadata": {},
   "outputs": [],
   "source": [
    "import pandas as pd\n",
    "import numpy as np\n",
    "import matplotlib.pyplot as plt\n",
    "import yfinance as yf\n",
    "from scipy.stats import norm\n",
    "\n",
    "# Load Libraries and Set Parameters\n",
    "tickers = ['AAPL' ,'MSFT' ,'AMZN' ,'GOOGL','TSLA'] \n",
    "start ='2010-12-31'\n",
    "end ='2020-12-31'\n",
    "\n",
    "weights =np.array([0.2,0.2,0.2,0.2,0.2])\n",
    "initial_cap = 1000000\n",
    "\n",
    "confidence_level = 0.05"
   ]
  },
  {
   "cell_type": "code",
   "execution_count": 27,
   "id": "bfc1a5af",
   "metadata": {},
   "outputs": [
    {
     "name": "stdout",
     "output_type": "stream",
     "text": [
      "[*********************100%***********************]  5 of 5 completed\n"
     ]
    },
    {
     "data": {
      "text/html": [
       "<div>\n",
       "<style scoped>\n",
       "    .dataframe tbody tr th:only-of-type {\n",
       "        vertical-align: middle;\n",
       "    }\n",
       "\n",
       "    .dataframe tbody tr th {\n",
       "        vertical-align: top;\n",
       "    }\n",
       "\n",
       "    .dataframe thead th {\n",
       "        text-align: right;\n",
       "    }\n",
       "</style>\n",
       "<table border=\"1\" class=\"dataframe\">\n",
       "  <thead>\n",
       "    <tr style=\"text-align: right;\">\n",
       "      <th></th>\n",
       "      <th>AAPL</th>\n",
       "      <th>AMZN</th>\n",
       "      <th>GOOGL</th>\n",
       "      <th>MSFT</th>\n",
       "      <th>TSLA</th>\n",
       "    </tr>\n",
       "    <tr>\n",
       "      <th>Date</th>\n",
       "      <th></th>\n",
       "      <th></th>\n",
       "      <th></th>\n",
       "      <th></th>\n",
       "      <th></th>\n",
       "    </tr>\n",
       "  </thead>\n",
       "  <tbody>\n",
       "    <tr>\n",
       "      <th>2010-12-31</th>\n",
       "      <td>-0.003399</td>\n",
       "      <td>-0.015048</td>\n",
       "      <td>-0.008166</td>\n",
       "      <td>0.002154</td>\n",
       "      <td>0.004905</td>\n",
       "    </tr>\n",
       "    <tr>\n",
       "      <th>2011-01-03</th>\n",
       "      <td>0.021732</td>\n",
       "      <td>0.023444</td>\n",
       "      <td>0.017476</td>\n",
       "      <td>0.002508</td>\n",
       "      <td>-0.000375</td>\n",
       "    </tr>\n",
       "    <tr>\n",
       "      <th>2011-01-04</th>\n",
       "      <td>0.005219</td>\n",
       "      <td>0.004288</td>\n",
       "      <td>-0.003690</td>\n",
       "      <td>0.003931</td>\n",
       "      <td>0.001878</td>\n",
       "    </tr>\n",
       "    <tr>\n",
       "      <th>2011-01-05</th>\n",
       "      <td>0.008180</td>\n",
       "      <td>0.013026</td>\n",
       "      <td>0.011543</td>\n",
       "      <td>-0.003204</td>\n",
       "      <td>0.005999</td>\n",
       "    </tr>\n",
       "    <tr>\n",
       "      <th>2011-01-06</th>\n",
       "      <td>-0.000808</td>\n",
       "      <td>-0.008324</td>\n",
       "      <td>0.007273</td>\n",
       "      <td>0.029286</td>\n",
       "      <td>0.039135</td>\n",
       "    </tr>\n",
       "    <tr>\n",
       "      <th>...</th>\n",
       "      <td>...</td>\n",
       "      <td>...</td>\n",
       "      <td>...</td>\n",
       "      <td>...</td>\n",
       "      <td>...</td>\n",
       "    </tr>\n",
       "    <tr>\n",
       "      <th>2020-12-23</th>\n",
       "      <td>-0.006976</td>\n",
       "      <td>-0.006627</td>\n",
       "      <td>0.004656</td>\n",
       "      <td>-0.013039</td>\n",
       "      <td>0.008808</td>\n",
       "    </tr>\n",
       "    <tr>\n",
       "      <th>2020-12-24</th>\n",
       "      <td>0.007712</td>\n",
       "      <td>-0.003949</td>\n",
       "      <td>0.003431</td>\n",
       "      <td>0.007827</td>\n",
       "      <td>0.024443</td>\n",
       "    </tr>\n",
       "    <tr>\n",
       "      <th>2020-12-28</th>\n",
       "      <td>0.035766</td>\n",
       "      <td>0.035071</td>\n",
       "      <td>0.022951</td>\n",
       "      <td>0.009921</td>\n",
       "      <td>0.002901</td>\n",
       "    </tr>\n",
       "    <tr>\n",
       "      <th>2020-12-29</th>\n",
       "      <td>-0.013315</td>\n",
       "      <td>0.011584</td>\n",
       "      <td>-0.009132</td>\n",
       "      <td>-0.003601</td>\n",
       "      <td>0.003466</td>\n",
       "    </tr>\n",
       "    <tr>\n",
       "      <th>2020-12-30</th>\n",
       "      <td>-0.008527</td>\n",
       "      <td>-0.010882</td>\n",
       "      <td>-0.012237</td>\n",
       "      <td>-0.011019</td>\n",
       "      <td>0.043229</td>\n",
       "    </tr>\n",
       "  </tbody>\n",
       "</table>\n",
       "<p>2517 rows × 5 columns</p>\n",
       "</div>"
      ],
      "text/plain": [
       "                AAPL      AMZN     GOOGL      MSFT      TSLA\n",
       "Date                                                        \n",
       "2010-12-31 -0.003399 -0.015048 -0.008166  0.002154  0.004905\n",
       "2011-01-03  0.021732  0.023444  0.017476  0.002508 -0.000375\n",
       "2011-01-04  0.005219  0.004288 -0.003690  0.003931  0.001878\n",
       "2011-01-05  0.008180  0.013026  0.011543 -0.003204  0.005999\n",
       "2011-01-06 -0.000808 -0.008324  0.007273  0.029286  0.039135\n",
       "...              ...       ...       ...       ...       ...\n",
       "2020-12-23 -0.006976 -0.006627  0.004656 -0.013039  0.008808\n",
       "2020-12-24  0.007712 -0.003949  0.003431  0.007827  0.024443\n",
       "2020-12-28  0.035766  0.035071  0.022951  0.009921  0.002901\n",
       "2020-12-29 -0.013315  0.011584 -0.009132 -0.003601  0.003466\n",
       "2020-12-30 -0.008527 -0.010882 -0.012237 -0.011019  0.043229\n",
       "\n",
       "[2517 rows x 5 columns]"
      ]
     },
     "execution_count": 27,
     "metadata": {},
     "output_type": "execute_result"
    }
   ],
   "source": [
    "# Calculate Daily Return\n",
    "daily_return = yf.download(tickers, start, end)['Close'].pct_change()[1:]\n",
    "daily_return"
   ]
  },
  {
   "cell_type": "code",
   "execution_count": 28,
   "id": "a7da02f3",
   "metadata": {},
   "outputs": [
    {
     "data": {
      "text/html": [
       "<div>\n",
       "<style scoped>\n",
       "    .dataframe tbody tr th:only-of-type {\n",
       "        vertical-align: middle;\n",
       "    }\n",
       "\n",
       "    .dataframe tbody tr th {\n",
       "        vertical-align: top;\n",
       "    }\n",
       "\n",
       "    .dataframe thead th {\n",
       "        text-align: right;\n",
       "    }\n",
       "</style>\n",
       "<table border=\"1\" class=\"dataframe\">\n",
       "  <thead>\n",
       "    <tr style=\"text-align: right;\">\n",
       "      <th></th>\n",
       "      <th>AAPL</th>\n",
       "      <th>AMZN</th>\n",
       "      <th>GOOGL</th>\n",
       "      <th>MSFT</th>\n",
       "      <th>TSLA</th>\n",
       "    </tr>\n",
       "  </thead>\n",
       "  <tbody>\n",
       "    <tr>\n",
       "      <th>AAPL</th>\n",
       "      <td>0.000322</td>\n",
       "      <td>0.000158</td>\n",
       "      <td>0.000152</td>\n",
       "      <td>0.000161</td>\n",
       "      <td>0.000198</td>\n",
       "    </tr>\n",
       "    <tr>\n",
       "      <th>AMZN</th>\n",
       "      <td>0.000158</td>\n",
       "      <td>0.000397</td>\n",
       "      <td>0.000185</td>\n",
       "      <td>0.000172</td>\n",
       "      <td>0.000225</td>\n",
       "    </tr>\n",
       "    <tr>\n",
       "      <th>GOOGL</th>\n",
       "      <td>0.000152</td>\n",
       "      <td>0.000185</td>\n",
       "      <td>0.000263</td>\n",
       "      <td>0.000163</td>\n",
       "      <td>0.000183</td>\n",
       "    </tr>\n",
       "    <tr>\n",
       "      <th>MSFT</th>\n",
       "      <td>0.000161</td>\n",
       "      <td>0.000172</td>\n",
       "      <td>0.000163</td>\n",
       "      <td>0.000263</td>\n",
       "      <td>0.000190</td>\n",
       "    </tr>\n",
       "    <tr>\n",
       "      <th>TSLA</th>\n",
       "      <td>0.000198</td>\n",
       "      <td>0.000225</td>\n",
       "      <td>0.000183</td>\n",
       "      <td>0.000190</td>\n",
       "      <td>0.001216</td>\n",
       "    </tr>\n",
       "  </tbody>\n",
       "</table>\n",
       "</div>"
      ],
      "text/plain": [
       "           AAPL      AMZN     GOOGL      MSFT      TSLA\n",
       "AAPL   0.000322  0.000158  0.000152  0.000161  0.000198\n",
       "AMZN   0.000158  0.000397  0.000185  0.000172  0.000225\n",
       "GOOGL  0.000152  0.000185  0.000263  0.000163  0.000183\n",
       "MSFT   0.000161  0.000172  0.000163  0.000263  0.000190\n",
       "TSLA   0.000198  0.000225  0.000183  0.000190  0.001216"
      ]
     },
     "execution_count": 28,
     "metadata": {},
     "output_type": "execute_result"
    }
   ],
   "source": [
    "# Create the Variance-Covariance Matrix\n",
    "cov_matrix = daily_return.cov()\n",
    "cov_matrix"
   ]
  },
  {
   "cell_type": "code",
   "execution_count": 29,
   "id": "63d7859b",
   "metadata": {},
   "outputs": [
    {
     "name": "stdout",
     "output_type": "stream",
     "text": [
      "0.0014\n",
      "0.0155\n",
      "$1001362\n",
      "$15538\n"
     ]
    }
   ],
   "source": [
    "# Calculate Portfolio Mean and Standard devidation\n",
    "avg_return = daily_return.mean()\n",
    "portfolio_mean = avg_return.dot(weights)\n",
    "portfolio_std = np.sqrt(weights.T.dot(cov_matrix).dot(weights))\n",
    "print(f'{portfolio_mean:.4f}')\n",
    "print(f'{portfolio_std:.4f}')\n",
    "\n",
    "# calculate after 10 years of values\n",
    "mean_cap = (1+ portfolio_mean) * initial_cap\n",
    "std_cap = portfolio_std * initial_cap\n",
    "print(f'${mean_cap:.0f}')\n",
    "print(f'${std_cap:.0f}')"
   ]
  },
  {
   "cell_type": "code",
   "execution_count": 30,
   "id": "13ee376b",
   "metadata": {},
   "outputs": [
    {
     "name": "stdout",
     "output_type": "stream",
     "text": [
      "$975804\n"
     ]
    }
   ],
   "source": [
    "# Find 'Z-score' using Inverse of the normal distribution culmulative function\n",
    "z_alpha = norm.ppf(confidence_level, mean_cap, std_cap)\n",
    "print(f'${z_alpha:.0f}')"
   ]
  },
  {
   "cell_type": "code",
   "execution_count": 31,
   "id": "a2b8e006",
   "metadata": {},
   "outputs": [
    {
     "name": "stdout",
     "output_type": "stream",
     "text": [
      "$24196\n",
      "We have a level of 95% confidence to say that $1 million portfolio will not lose more than $24196 in a day\n"
     ]
    }
   ],
   "source": [
    "# Calculate Value at Risk\n",
    "Value_at_Risk = initial_cap - z_alpha\n",
    "print(f'${Value_at_Risk:.0f}')\n",
    "print(f'We have a level of 95% confidence to say that $1 million portfolio will not lose more than ${Value_at_Risk:.0f} in a day')"
   ]
  },
  {
   "cell_type": "code",
   "execution_count": 32,
   "id": "7c696aad",
   "metadata": {},
   "outputs": [
    {
     "data": {
      "image/png": "[encoded data removed]",
      "text/plain": [
       "<Figure size 432x288 with 1 Axes>"
      ]
     },
     "metadata": {
      "needs_background": "light"
     },
     "output_type": "display_data"
    },
    {
     "name": "stdout",
     "output_type": "stream",
     "text": [
      "VaR of 10 days ['24196', '34219', '41909', '48393', '54105', '59269', '64017', '68437', '72589', '76515']\n",
      "We have 95% confidence to say that $1 million portfolio willl not lose morew than $76515 within 10 days\n"
     ]
    }
   ],
   "source": [
    "# 10-day VaR\n",
    "VaRs = []\n",
    "n_day = 10\n",
    "\n",
    "for n in range(n_day):\n",
    "    VaRs.append(f'{Value_at_Risk * np.sqrt(n+1):.0f}')\n",
    "\n",
    "plt.title('Max Portfolio Loss(VaR) over 10-day')\n",
    "plt.xlabel('Day')\n",
    "plt.ylabel('Max Portfolio Loss($)')\n",
    "plt.plot(VaRs,'r')\n",
    "plt.show()\n",
    "print(f'VaR of 10 days {VaRs}')\n",
    "print(f'We have 95% confidence to say that $1 million portfolio willl not lose morew than ${VaRs[-1]} within 10 days')"
   ]
  },
  {
   "cell_type": "code",
   "execution_count": 33,
   "id": "8fcedbb4",
   "metadata": {},
   "outputs": [
    {
     "data": {
      "image/png": "[encoded data removed]",
      "text/plain": [
       "<Figure size 432x288 with 1 Axes>"
      ]
     },
     "metadata": {
      "needs_background": "light"
     },
     "output_type": "display_data"
    },
    {
     "data": {
      "image/png": "[encoded data removed]",
      "text/plain": [
       "<Figure size 432x288 with 1 Axes>"
      ]
     },
     "metadata": {
      "needs_background": "light"
     },
     "output_type": "display_data"
    },
    {
     "data": {
      "image/png": "[encoded data removed]",
      "text/plain": [
       "<Figure size 432x288 with 1 Axes>"
      ]
     },
     "metadata": {
      "needs_background": "light"
     },
     "output_type": "display_data"
    },
    {
     "data": {
      "image/png": "[encoded data removed]",
      "text/plain": [
       "<Figure size 432x288 with 1 Axes>"
      ]
     },
     "metadata": {
      "needs_background": "light"
     },
     "output_type": "display_data"
    },
    {
     "data": {
      "image/png": "[encoded data removed]",
      "text/plain": [
       "<Figure size 432x288 with 1 Axes>"
      ]
     },
     "metadata": {
      "needs_background": "light"
     },
     "output_type": "display_data"
    }
   ],
   "source": [
    "import seaborn as sns\n",
    "for c in tickers:\n",
    "    fig = plt.figure()\n",
    "    daily_return[c].hist(bins=40, histtype='stepfilled', alpha=0.5)\n",
    "    x = np.linspace(portfolio_mean - 3 * portfolio_std, portfolio_mean + 3 * portfolio_std, 100)\n",
    "    plt.plot(x, norm.pdf(x, portfolio_mean, portfolio_std),'r')"
   ]
  },
  {
   "cell_type": "markdown",
   "id": "4340b452",
   "metadata": {},
   "source": [
    "## Assignment 3. Problems"
   ]
  },
  {
   "cell_type": "markdown",
   "id": "33656fa1",
   "metadata": {},
   "source": [
    "### Problem. 1\n",
    "\n",
    "A pension fund invests its endowment of \\\\$10 million in a position $X_A$, $X_B$ that follow a normal distribution.  \n",
    "$X_A$, $X_B$ have volatility of 2%, 3% per day each and suppose that the returns on different days are independent."
   ]
  },
  {
   "cell_type": "markdown",
   "id": "87896903",
   "metadata": {},
   "source": [
    "**(a)** Find the the10-day VaR of this position $X_A$, $X_B$ at a confidence level of 95% each."
   ]
  },
  {
   "cell_type": "code",
   "execution_count": 21,
   "id": "0ff40577",
   "metadata": {},
   "outputs": [
    {
     "name": "stdout",
     "output_type": "stream",
     "text": [
      "A: 1.0403\n",
      "B: 1.5604\n"
     ]
    }
   ],
   "source": [
    "import numpy as np\n",
    "from scipy.stats import norm\n",
    "\n",
    "invest = 10\n",
    "vol_a = 0.02\n",
    "vol_b = 0.03\n",
    "days = 10\n",
    "h = 0.05\n",
    "F_invs = -norm.ppf(1-h)\n",
    "\n",
    "VaR_a = invest * -1 * vol_a * np.sqrt(days) * F_invs\n",
    "VaR_b = invest * -1 * vol_b * np.sqrt(days) * F_invs\n",
    "\n",
    "print(f'A: {VaR_a:.4f}')\n",
    "print(f'B: {VaR_b:.4f}')"
   ]
  },
  {
   "cell_type": "markdown",
   "id": "21d6178a",
   "metadata": {},
   "source": [
    "**(b)** If two positions are correlated with a correlation coefficient of ρ = 0.5.  \n",
    "Find the the10-day overall($X_A+X_B$) VaR at a confidence level of 95%."
   ]
  },
  {
   "cell_type": "code",
   "execution_count": 23,
   "id": "97d18782",
   "metadata": {},
   "outputs": [
    {
     "name": "stdout",
     "output_type": "stream",
     "text": [
      "AB: 2.2673\n"
     ]
    }
   ],
   "source": [
    "rho = 0.5\n",
    "\n",
    "vol_ab = np.sqrt(vol_a**2 + 2*rho*vol_a*vol_b + vol_b**2)\n",
    "VaR_ab = invest * -1 * vol_ab * np.sqrt(days) * F_invs\n",
    "\n",
    "print(f'AB: {VaR_ab:.4f}')"
   ]
  },
  {
   "cell_type": "markdown",
   "id": "65892fa4",
   "metadata": {},
   "source": [
    "**(c)** Demonstrate the reduction in risk of a sum compared to the sum of the risks.  \n",
    "Is diversifying a pension fund's position effective in reducing risk?"
   ]
  },
  {
   "cell_type": "code",
   "execution_count": 25,
   "id": "6c9133eb",
   "metadata": {},
   "outputs": [
    {
     "data": {
      "text/plain": [
       "True"
      ]
     },
     "execution_count": 25,
     "metadata": {},
     "output_type": "execute_result"
    }
   ],
   "source": [
    "VaR_ab <= VaR_a + VaR_b"
   ]
  },
  {
   "cell_type": "markdown",
   "id": "afdf17d1",
   "metadata": {},
   "source": [
    "### Problem. 2\n",
    "\n",
    "Consider the position at a confidence level of 95%"
   ]
  },
  {
   "cell_type": "markdown",
   "id": "d131a7a9",
   "metadata": {},
   "source": [
    "$X_1 = X_2 = \\begin{cases}\n",
    "  1  & \\text{with prob 1/2} \\\\\n",
    "  -1 & \\text{with prob 1/2}\n",
    "\\end{cases}$  \n",
    "\n",
    "$X = \\frac {X_1 + X_2} 2 = \\begin{cases}\n",
    "  1  & \\text{with prob 1/4} \\\\\n",
    "  0 & \\text{with prob 1/2} \\\\\n",
    "  -1 & \\text{with prob 1/4} \\\\\n",
    "\\end{cases}$"
   ]
  },
  {
   "cell_type": "markdown",
   "id": "944eb9f6",
   "metadata": {},
   "source": [
    "**(a)** Using the shortcut method, Find the VaR each positions."
   ]
  },
  {
   "cell_type": "markdown",
   "id": "056d661d",
   "metadata": {},
   "source": [
    "$\\text {VaR}_{0.05}(X_1) = 1$  \n",
    "\n",
    "$\\text {VaR}_{0.05}(X_2) = 1$  \n",
    "\n",
    "$\\text {VaR}_{0.05}(X) = 0$"
   ]
  },
  {
   "cell_type": "markdown",
   "id": "142c77f7",
   "metadata": {},
   "source": [
    "**(b)** Is the diversified position safe?"
   ]
  },
  {
   "cell_type": "markdown",
   "id": "a0b5df5c",
   "metadata": {},
   "source": [
    "$\\text {VaR}_h(X) \\le \\text {VaR}_h(X_A) + \\text {VaR}_h(X_B)$  \n",
    "\n",
    "해당 경우에는 분산으로 인한 보상이 유효하지만, confidence level이 낮아지면 유효하지 않은 경우도 생긴다.\n",
    "\n",
    "**cf. confidence level: 50%**\n",
    "\n",
    "$\\text {VaR}_h(X) > \\text {VaR}_h(X_1) + \\text {VaR}_h(X_2)$"
   ]
  },
  {
   "cell_type": "markdown",
   "id": "77d430ba",
   "metadata": {},
   "source": [
    "**(c)** At a confidence level of 50%, show that CVaR rewards diversification."
   ]
  },
  {
   "cell_type": "markdown",
   "id": "e9011e44",
   "metadata": {},
   "source": [
    "$\\text {VaR}_{0.5}(X_1) = -1$  \n",
    "\n",
    "$\\text {VaR}_{0.5}(X_2) = -1$  \n",
    "\n",
    "$\\text {VaR}_{0.5}(X) = 0$"
   ]
  },
  {
   "cell_type": "markdown",
   "id": "69d4755c",
   "metadata": {},
   "source": [
    "$\\text {CVaR}_{0.5}(X_1) = 1$  \n",
    "\n",
    "$\\text {CVaR}_{0.5}(X_2) = 1$  \n",
    "\n",
    "$\\text {CVaR}_{0.5}(X) = \\frac 1 2 * 0 + \\frac 1 2 * 1 = 0.5$  "
   ]
  },
  {
   "cell_type": "markdown",
   "id": "a1702373",
   "metadata": {},
   "source": [
    "$\\text {CVaR}_h(X) \\le \\text {CVaR}_h(X_A) + \\text {CVaR}_h(X_B)$  "
   ]
  },
  {
   "cell_type": "markdown",
   "id": "ee4a977f",
   "metadata": {},
   "source": [
    "---"
   ]
  }
 ],
 "metadata": {
  "kernelspec": {
   "display_name": "Python 3 (ipykernel)",
   "language": "python",
   "name": "python3"
  },
  "language_info": {
   "codemirror_mode": {
    "name": "ipython",
    "version": 3
   },
   "file_extension": ".py",
   "mimetype": "text/x-python",
   "name": "python",
   "nbconvert_exporter": "python",
   "pygments_lexer": "ipython3",
   "version": "3.9.7"
  },
  "toc": {
   "base_numbering": 1,
   "nav_menu": {},
   "number_sections": false,
   "sideBar": true,
   "skip_h1_title": false,
   "title_cell": "Table of Contents",
   "title_sidebar": "Contents",
   "toc_cell": false,
   "toc_position": {},
   "toc_section_display": true,
   "toc_window_display": false
  }
 },
 "nbformat": 4,
 "nbformat_minor": 5
}
