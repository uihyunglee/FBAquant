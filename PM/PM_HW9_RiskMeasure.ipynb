{
 "cells": [
  {
   "cell_type": "markdown",
   "id": "de75f31f",
   "metadata": {},
   "source": [
    "# PM Homework 9\n",
    "\n",
    "**FBA Quant 이의형**"
   ]
  },
  {
   "cell_type": "markdown",
   "id": "5ad2f80b",
   "metadata": {},
   "source": [
    "---"
   ]
  },
  {
   "cell_type": "markdown",
   "id": "d570b5f0",
   "metadata": {},
   "source": [
    "## Assignment 1. Summarize Text Book\n",
    "\n",
    "- [Quantitative Portfolio Mangement] Chap 7. The Conventional Theory if Performance Evaluation"
   ]
  },
  {
   "cell_type": "markdown",
   "id": "da778e78",
   "metadata": {},
   "source": [
    "### 7.1 Definition of a Risk Measure"
   ]
  },
  {
   "cell_type": "markdown",
   "id": "5c40464d",
   "metadata": {},
   "source": [
    "$RM(·)$: random variable의 집합에 대한 연산자  \n",
    "\n",
    "random variable $L$: 활동이 발생시킬 수 있는 손실  \n",
    "\n",
    "$RM(L)$: 이 활동을 수행하고 잠재적 손실을 충분한 확률로 줄일 수 있는 것에 필요한 자본  \n",
    "\n",
    "**Definition 7.1.1**  \n",
    "\n",
    "$L$이 실수 값을 갖는 random variable의 공간이면, 임의의 연산자 $RM$: $L$ -> $R$은 $L$에 대한 risk measure라 한다.  \n",
    "\n",
    "Convention: $L$이 양수이면 loss, $L$이 음수이면 gain  \n",
    "- ex) $L = 10$ -> loss:10, $L = -10$ -> gain:10  \n",
    "\n",
    "RM이 일반적으로 만족해야하는 4개의 feature -> 이러한 feature를 만족하는 RM: coherent\n",
    "- Translation Invariance: 확정 손실 $x$에 대하여 $RM(L+x)=RM(L)+x$  \n",
    "- Sub-additivity: $RM(L_1 + L_2) \\le RM(L_1) + RM(L_2)$ (여러 사업을 하나의 사업으로 운영하는 것이 더 이득) \n",
    "- Positive Homogeneity: $RM(tL) = tRM(L) \\quad(t > 0)$  \n",
    "- Monotonicity: almost surely $RM(L_1) \\ge RM(L_2) \\quad (L_1 \\ge L_2)$\n"
   ]
  },
  {
   "cell_type": "markdown",
   "id": "37b1f105",
   "metadata": {},
   "source": [
    "### 7.2 Risk Measure in the Markowitz Framework"
   ]
  },
  {
   "cell_type": "markdown",
   "id": "98e95e05",
   "metadata": {},
   "source": [
    "#### 7.2.1 The Markowitz Risk Measure"
   ]
  },
  {
   "cell_type": "markdown",
   "id": "3ecc9d87",
   "metadata": {},
   "source": [
    "**Definition 7.2.1 (Loss function)**  \n",
    "\n",
    "$L_{\\pi} = -\\pi'(R-r_01_d)$\n",
    "- $-L_{\\pi}$는 위험 배분 $\\pi$의 self-financing portfolio 수익률 (혹은 investment portfolio의 초과수익률)  \n",
    "\n",
    "**Definition 7.2.2 (Markowitz Risk Measure)**  \n",
    "\n",
    "$RM_\\lambda (L_\\pi) = -E(L_\\pi) + \\lambda + \\sigma (L_\\pi)$  \n",
    "- $RL_\\lambda (\\pi) = RM_\\lambda (\\pi)$\n",
    "\n",
    "**Definition 7.2.3 (Positive Definiteness and Parameter Range)**  \n",
    "\n",
    "필요충분조건 $\\forall \\pi \\in R \\; \\text{\\\\} {0}, RL_\\lambda (\\pi) > 0$를 만족할 때, $RM_\\lambda (·)$는 positive definite하다고 한다.\n"
   ]
  },
  {
   "cell_type": "markdown",
   "id": "d4b783dd",
   "metadata": {},
   "source": [
    "#### 7.2.2 Value at Risk"
   ]
  },
  {
   "cell_type": "markdown",
   "id": "8358fd6e",
   "metadata": {},
   "source": [
    "$\\Phi$: 정규 변수 $Z ~ N(0,1)$에 대한 누적 분포 함수  \n",
    "$\\phi$: $\\Phi$의 미분 (밀도 함수)  \n",
    "\n",
    "**Definition 7.2.4 (Value at Risk)**  \n",
    "\n",
    "$VaR_\\alpha(L_\\pi) = \\text {inf}[{x \\in R, P(L_\\pi \\le x) \\ge \\alpha}], \\quad (\\alpha \\in ]0,1[)$"
   ]
  },
  {
   "cell_type": "markdown",
   "id": "81da9dc6",
   "metadata": {},
   "source": [
    "#### 7.2.3 Expected Shortfall"
   ]
  },
  {
   "cell_type": "markdown",
   "id": "2d43744e",
   "metadata": {},
   "source": [
    "**Definition 7.2.5 (Expected Shortfall)**\n",
    "\n",
    "$E_\\alpha(L_\\pi) = E(L_\\pi|L_\\pi \\ge VaR_\\alpha(L_\\pi)), \\quad (\\alpha \\in ]0,1[)$"
   ]
  },
  {
   "cell_type": "markdown",
   "id": "2acd3b06",
   "metadata": {},
   "source": [
    "### 7.3 Euler’s Formula and Capital Allocation"
   ]
  },
  {
   "cell_type": "markdown",
   "id": "6dc8f655",
   "metadata": {},
   "source": [
    "$\\pi \\in R^d$에 대하여, $\\pi = \\displaystyle \\sum^d_{i=1} \\pi_ie_i$  \n",
    "\n",
    "$\\forall \\pi \\in R^d, RL_\\lambda(\\pi) \\le \\displaystyle \\sum^d_{i=1} RL_\\lambda(\\pi^ie_i)$ (diversification effect) \n",
    "\n",
    "$\\forall \\pi \\in R^d, RL_\\lambda(\\pi) \\le \\displaystyle \\sum^d_{i=1} \\pi^i \\frac {\\partial RL_\\lambda} {\\partial e_i} (\\pi)$ (Euler's formula) "
   ]
  },
  {
   "cell_type": "markdown",
   "id": "c2c1a92c",
   "metadata": {},
   "source": [
    "---"
   ]
  },
  {
   "cell_type": "markdown",
   "id": "806805b4",
   "metadata": {},
   "source": [
    "## Example"
   ]
  },
  {
   "cell_type": "code",
   "execution_count": 1,
   "id": "c5851e8e",
   "metadata": {},
   "outputs": [
    {
     "name": "stdout",
     "output_type": "stream",
     "text": [
      "[*********************100%***********************]  5 of 5 completed\n",
      "[-0.07129927 -0.06948054]\n",
      "The Var 99% is: -0.06948053644008555\n"
     ]
    },
    {
     "data": {
      "image/png": "[encoded data removed]",
      "text/plain": [
       "<Figure size 432x288 with 1 Axes>"
      ]
     },
     "metadata": {
      "needs_background": "light"
     },
     "output_type": "display_data"
    }
   ],
   "source": [
    "import numpy as np\n",
    "import matplotlib.pyplot as plt\n",
    "import yfinance as yf\n",
    "\n",
    "tickers = ['DHL.DE' ,'ALV.DE' ,'BMW.DE' ,'BAS.DE' ,'FME.DE'] \n",
    "start ='2017-01-01'\n",
    "end ='2017-12-31'\n",
    "\n",
    "R = yf.download(tickers, start, end)['Close'].pct_change()[1:]\n",
    "\n",
    "# BHS VaR calculation for the portfolio\n",
    "d = len(tickers)\n",
    "p = 10 # number of daily returns considered in each bootstrap simulation\n",
    "s = 10000 # number of bootstrap simulations\n",
    "w = np.zeros(d) # defines the shape of the vector of allocation\n",
    "w = np.full(d, 1.0/d) # arbitrary choice of constant weights for the portfolio in this example\n",
    "n = len(R.index) # number of vector of returns from the sample\n",
    "\n",
    "perf = np.zeros(s)\n",
    "for  i in range(s):\n",
    "    idx = np.random.choice(n,p) # select with replacement p vectors of returns amongst n\n",
    "    RB = R.iloc[idx]\n",
    "    RBP = np.prod(1+RB)-1 # calculate culmulative returns over p days for each stock\n",
    "    perf[i] = RBP.dot(w) # calculate the portfolio return over p days\n",
    "\n",
    "print (np.percentile(perf, [0, 0.01]))\n",
    "print (\"The Var 99% is:\", np.percentile(perf , [0, 0.01])[1])\n",
    "\n",
    "plt.hist(perf, 30) # histogram for the portfolio return with 30 buckets\n",
    "plt.grid(True)\n",
    "plt.show()"
   ]
  },
  {
   "cell_type": "markdown",
   "id": "ee4a977f",
   "metadata": {},
   "source": [
    "---"
   ]
  }
 ],
 "metadata": {
  "kernelspec": {
   "display_name": "Python 3 (ipykernel)",
   "language": "python",
   "name": "python3"
  },
  "language_info": {
   "codemirror_mode": {
    "name": "ipython",
    "version": 3
   },
   "file_extension": ".py",
   "mimetype": "text/x-python",
   "name": "python",
   "nbconvert_exporter": "python",
   "pygments_lexer": "ipython3",
   "version": "3.9.7"
  },
  "toc": {
   "base_numbering": 1,
   "nav_menu": {},
   "number_sections": false,
   "sideBar": true,
   "skip_h1_title": false,
   "title_cell": "Table of Contents",
   "title_sidebar": "Contents",
   "toc_cell": false,
   "toc_position": {},
   "toc_section_display": true,
   "toc_window_display": false
  }
 },
 "nbformat": 4,
 "nbformat_minor": 5
}
