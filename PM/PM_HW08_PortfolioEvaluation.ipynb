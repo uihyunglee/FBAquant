{
 "cells": [
  {
   "cell_type": "markdown",
   "id": "de75f31f",
   "metadata": {},
   "source": [
    "# PM Homework 8\n",
    "\n",
    "**FBA Quant 이의형**"
   ]
  },
  {
   "cell_type": "markdown",
   "id": "5ad2f80b",
   "metadata": {},
   "source": [
    "---"
   ]
  },
  {
   "cell_type": "markdown",
   "id": "d570b5f0",
   "metadata": {},
   "source": [
    "## Assignment 1. Summarize Text Book\n",
    "\n",
    "- [Investments] Chap 24.1 The Conventional Theory if Performance Evaluation"
   ]
  },
  {
   "cell_type": "markdown",
   "id": "da778e78",
   "metadata": {},
   "source": [
    "### Chap 24.1 The Conventional Theory if Performance Evaluation"
   ]
  },
  {
   "cell_type": "markdown",
   "id": "bfb83de8",
   "metadata": {},
   "source": [
    "**시간 가중 평균 수익률**\n",
    "\n",
    "기하(time-weighted) 수익률 :$r_G = [(1+r_1)(1+r_2)...(1+r_n)]^{1/n} - 1$  \n",
    "\n",
    "**금액 가중 평균 수익률**  \n",
    "\n",
    "dollar-weighted: 현금의 유입과 출입의 현재 가치를 동등하게 만다는 할인율 **r**을 도출\n",
    "- 더 많은 금액을 투자한 기간의 수익률이 상대적으로 크게 반영  \n",
    "\n",
    "**리스크에 대한 수익률 조정**\n",
    "\n",
    "1. Sharpe Ratio: 변동성 대비 보상 비율\n",
    "- $(\\bar r_P - \\bar r_f) / \\sigma_P$\n",
    "2. Treynor Measure: 총 리스크가 아닌 체계적 리스크 대비 보상 비율  \n",
    "- $(\\bar r_P - \\bar r_f) / \\beta_P$\n",
    "3. Jensen's Alpha: CAPM에 의해 추정되는 수익률의 초과 보상을 측정  \n",
    "- $\\alpha_P = \\bar r_P - [\\bar r_f + \\beta_P(\\bar r_M - \\bar r_f)]$\n",
    "4. Information Ratio: 시장 포트폴리오를 보유함으로써 제거할 수 있는 리스크 한 단위에 대한 알파를 측정\n",
    "- $\\alpha_P/\\sigma(e_P)$\n",
    "\n",
    "각 척도는 장단점 존재하며, 적용되는 리스크가 다르기 때문에 포트폴리오 실적을 일관되게 평가하지 않는다.  \n",
    "\n",
    "**$M^2$ 지수**\n",
    "\n",
    "Sharpe는 순위를 매기는 것에 유용하지만, 수치가 주는 의미를 해석하기 쉽지 않다.  \n",
    "- ex) 포트폴리오 Sharpe 0.69, 시장 Sharpe는 0.73일 때, 시장이 우세했다는건 알겠지만 0.04 차이의 의미는 무엇인가?  \n",
    "\n",
    "위 예시를 이해하기 위해 포트폴리오와 T-bill을 혼합하여 시장 지수의 변동성과 정확히 일치하는 포트폴리오를 만들어 수익률을 비교  \n",
    "\n",
    "$M^2_P = r_{P*} - r_M$  \n",
    "\n",
    "**Sharpe Ratio는 종합 포트폴리오의 평가 기준**\n",
    "\n",
    "전통적 성과 측정은 일정한 평균, 분산, 공분산이 필요한 비현실적 가정이 필요  \n",
    "\n",
    "포트폴리오 P는 우월한가? 증권선택을 잘 하였는가?  \n",
    "- 우월한 선택이란 어떤 대안에 대해서인가?\n",
    "- 두 가지 대안 간의 선택에서 실적평가의 적절한 기준은 무엇인가?  \n",
    "- 두 가지 대안과 평가 기준이 확정되었다고 할 때, 우월한 관리능력과 단순한 운에 의한 결과를 구분하는 기준은 있는가?  \n",
    "\n",
    "**두 가지 시나리오에 적합한 성과 척도**\n",
    "\n",
    "포트폴리오가 투자자의 유일한 투자 수단인지, 아니라면 보완할 수 있는 다른 포트폴리오가 무엇인지 파악 필요  \n",
    "\n",
    "대상 포트폴리오가 리스크 투자의 전체인 경우  \n",
    "- 이러한 간단한 경우에는 가장 높은 Sharpe를 달성하는지 여부만 파악 ($M^2$)\n",
    "\n",
    "여러 포트폴리오 중 하나인 경우 (한 기관에서 여러 포트폴리오를 운용하는 경우)  \n",
    "- 여러 매니저가 있는 경우, 비체계적 리스크는 대부분 분산되어 사라질 것이기에 체계적 리스크가 적합한 척도 (Treynor Measure)  \n",
    "- SML 좌표계에 포트폴리오 P와 Q가 있다고 한다면, 두 포트폴리오의 기울기(Treynor Measure)가 큰 것과 알파가 큰 것은 다를 수 있다.  \n",
    "- 이때, T-bill을 조합하여 여러 포트폴리오를 만들 수 있는데, 이를 통해 알파의 우위가 바뀔 수 있다.  \n",
    "- 따라서 베타를 평준화 시켜서 확인한다. ($T^2$)"
   ]
  },
  {
   "cell_type": "markdown",
   "id": "c2c1a92c",
   "metadata": {},
   "source": [
    "---"
   ]
  },
  {
   "cell_type": "markdown",
   "id": "931b6a4e",
   "metadata": {},
   "source": [
    "## Assignment 2. Solve Problems"
   ]
  },
  {
   "cell_type": "markdown",
   "id": "b9d7f5bb",
   "metadata": {},
   "source": [
    "### Problem. 1\n",
    "\n",
    "Consider the rate of return of stocks ABC and XYZ.\n",
    "\n",
    "| Year | r_ABC | r_XYZ |\n",
    "|---|---|---|\n",
    "| 1 | 20% | 30% |\n",
    "| 2 | 12% | 12% |\n",
    "| 3 | 14% | 18% |\n",
    "| 4 | 3% | 0% |\n",
    "| 5 | 1% | -10% |"
   ]
  },
  {
   "cell_type": "markdown",
   "id": "cddad027",
   "metadata": {},
   "source": [
    "**(a)** Calculate the arithmetic average return on these stocks over the sample period."
   ]
  },
  {
   "cell_type": "markdown",
   "id": "e77be075",
   "metadata": {},
   "source": [
    "ABC: $\\frac {20 + 12 + 14 + 3 + 1} {5} = 10\\%$  \n",
    "\n",
    "XYZ: $\\frac {30 + 12 + 18 + 0 - 10} {5} = 10\\%$"
   ]
  },
  {
   "cell_type": "markdown",
   "id": "7b099ce2",
   "metadata": {},
   "source": [
    "**(b)** Which stock has greater dispersion around the mean return?\n",
    "\n"
   ]
  },
  {
   "cell_type": "code",
   "execution_count": 1,
   "id": "f5bb00ad",
   "metadata": {},
   "outputs": [
    {
     "name": "stdout",
     "output_type": "stream",
     "text": [
      "ABC variance: 0.005\n",
      "XYZ variance: 0.01936\n"
     ]
    }
   ],
   "source": [
    "import numpy as np\n",
    "\n",
    "abc_rtn = np.array([0.2, 0.12, 0.14, 0.03, 0.01])\n",
    "xyz_rtn = np.array([0.3, 0.12, 0.18, 0.00, -0.10])\n",
    "\n",
    "abc_var = abc_rtn.var()\n",
    "xyz_var = xyz_rtn.var()\n",
    "\n",
    "print(f'ABC variance: {abc_var}')\n",
    "print(f'XYZ variance: {xyz_var}')"
   ]
  },
  {
   "cell_type": "markdown",
   "id": "4a923111",
   "metadata": {},
   "source": [
    "XYZ가 더 큰 분산을 가지고 있다."
   ]
  },
  {
   "cell_type": "markdown",
   "id": "51bc48be",
   "metadata": {},
   "source": [
    "**(c)** Calculate the geometric average returns of each stock. What do you conclude?\n"
   ]
  },
  {
   "cell_type": "code",
   "execution_count": 2,
   "id": "7fb93b8d",
   "metadata": {},
   "outputs": [
    {
     "name": "stdout",
     "output_type": "stream",
     "text": [
      "ABC geometric average return: 0.09772244359428583\n",
      "XYZ geometric average return: 0.09108146546707507\n"
     ]
    }
   ],
   "source": [
    "abc_geo_rtn = (abc_rtn+1).prod() ** (1/abc_rtn.shape[0])- 1\n",
    "xyz_geo_rtn = (xyz_rtn+1).prod() ** (1/abc_rtn.shape[0]) - 1\n",
    "\n",
    "print(f'ABC geometric average return: {abc_geo_rtn}')\n",
    "print(f'XYZ geometric average return: {xyz_geo_rtn}') "
   ]
  },
  {
   "cell_type": "markdown",
   "id": "990b640e",
   "metadata": {},
   "source": [
    "ABC가 더 높은 수익률을 가지고 있다.  \n",
    "\n",
    "XYZ는 자산이 적은 상태인 초반에 큰 수익을 보고, 자산이 커진 상태인 후반에 큰 손실이 났기 때문이다."
   ]
  },
  {
   "cell_type": "markdown",
   "id": "399a2f53",
   "metadata": {},
   "source": [
    "**(d)** If you were equally likely to earn a return of 20%, 12%, 14%, 3%, or 1% in each year (these are the five annual returns for stock ABC), what would be your expected rate of return?\n"
   ]
  },
  {
   "cell_type": "markdown",
   "id": "68703738",
   "metadata": {},
   "source": [
    "각각의 확률이 동일하다면 기대수익률은 10%이다."
   ]
  },
  {
   "cell_type": "markdown",
   "id": "509db898",
   "metadata": {},
   "source": [
    "**(e)** What if the five possible outcomes were those of stock XYZ?\n"
   ]
  },
  {
   "cell_type": "markdown",
   "id": "27d39a7d",
   "metadata": {},
   "source": [
    "마찬가지로 10%이다."
   ]
  },
  {
   "cell_type": "markdown",
   "id": "a25d7b93",
   "metadata": {},
   "source": [
    "**(f)** given your answers to parts (d) and (e), which measure of average return, arithmetic or geometric, appears more useful for predicting future performance?"
   ]
  },
  {
   "cell_type": "markdown",
   "id": "62c8fe4c",
   "metadata": {},
   "source": [
    "장기 투자에서 시간 경과에 대한 가중을 보기 위해서는 기하평균을 이용하는 것이 더 유용해보인다.  \n",
    "\n",
    "자산의 투자를 장기적으로 이어가는 경우에는 기하평균을 적용하고, 같은 금액으로 여러번 투자하는 전략에서는 산술평균을 적용할 수 있다."
   ]
  },
  {
   "cell_type": "markdown",
   "id": "afdf17d1",
   "metadata": {},
   "source": [
    "### Problem. 2\n",
    "\n",
    "Based on current dividend yields and expected capital gains, the expected rates of return on portfolios A and B are 12% and 16%, respectively.  \n",
    "The beta of A is 0.7, while that of B is 1.4. The T-bill rate is currently 5%, whereas the expected rate of return of the S&P 500 index is 13%.  \n",
    "The standard deviation of portfolio A is 12% annually, that of B is 31%, and that of the S&P 500 index is 18%."
   ]
  },
  {
   "cell_type": "markdown",
   "id": "944eb9f6",
   "metadata": {},
   "source": [
    "**(a)** If you currently hold a market-index portfolio, would you choose to add either of these portfolios to your holdings? Explain."
   ]
  },
  {
   "cell_type": "code",
   "execution_count": 3,
   "id": "7161bb75",
   "metadata": {},
   "outputs": [
    {
     "name": "stdout",
     "output_type": "stream",
     "text": [
      "A's T-squared: 0.0200\n",
      "B's T-squared: -0.0014\n"
     ]
    }
   ],
   "source": [
    "r_A, r_B, r_M, r_f = 0.12, 0.16, 0.13, 0.05\n",
    "s_A, s_B, s_M = 0.12, 0.31, 0.18\n",
    "b_A, b_B = 0.7, 1.4\n",
    "\n",
    "w_A = 1 / b_A\n",
    "w_B = 1 / b_B\n",
    "\n",
    "r_A_star = (w_A*r_A) + (1-w_A)*r_f\n",
    "r_B_star = (w_B*r_B) + (1-w_B)*r_f\n",
    "\n",
    "T_sq_A = r_A_star - r_M\n",
    "T_sq_B = r_B_star - r_M\n",
    "\n",
    "print(f\"A's T-squared: {T_sq_A:.4f}\")\n",
    "print(f\"B's T-squared: {T_sq_B:.4f}\")"
   ]
  },
  {
   "cell_type": "markdown",
   "id": "f0f1ece9",
   "metadata": {},
   "source": [
    "시장 포트폴리오와 동일한 체계적 위험을 가질 때, 수익률이 더 우수한 A의 편입을 생각해볼 수 있다."
   ]
  },
  {
   "cell_type": "markdown",
   "id": "f138092c",
   "metadata": {},
   "source": [
    "**(b)** If instead you could invest only in T-bills and one of these portfolios, which would you choose?"
   ]
  },
  {
   "cell_type": "code",
   "execution_count": 4,
   "id": "d952b77f",
   "metadata": {},
   "outputs": [
    {
     "name": "stdout",
     "output_type": "stream",
     "text": [
      "A's M-squared: 0.0250\n",
      "B's M-squared: -0.0161\n"
     ]
    }
   ],
   "source": [
    "r_A, r_B, r_M, r_f = 0.12, 0.16, 0.13, 0.05\n",
    "s_A, s_B, s_M = 0.12, 0.31, 0.18\n",
    "b_A, b_B = 0.7, 1.4\n",
    "\n",
    "w_A = s_M / s_A\n",
    "w_B = s_M / s_B\n",
    "\n",
    "r_A_star = (w_A*r_A) + (1-w_A)*r_f\n",
    "r_B_star = (w_B*r_B) + (1-w_B)*r_f\n",
    "\n",
    "M_sq_A = r_A_star - r_M\n",
    "M_sq_B = r_B_star - r_M\n",
    "\n",
    "print(f\"A's M-squared: {M_sq_A:.4f}\")\n",
    "print(f\"B's M-squared: {M_sq_B:.4f}\")"
   ]
  },
  {
   "cell_type": "markdown",
   "id": "74502795",
   "metadata": {},
   "source": [
    "하나의 포트폴리오를 소유할 때에도 마찬가지로 A를 선택한다."
   ]
  },
  {
   "cell_type": "markdown",
   "id": "7966cd8d",
   "metadata": {},
   "source": [
    "### Problem. 3 \n",
    "\n",
    "Consider the two (excess return) index-model regression results for stocks A and B.  \n",
    "The risk-free rate over the period was 6%, and the markets average return was 14%.  \n",
    "Performance is measured using an index model regression on excess returns.\n",
    "\n",
    "|  | Stock A | Stock B |\n",
    "|-------|-------|-------|\n",
    "| Index model regression estimates | 1% + 1.2($r_M$ - $r_f$) | 2% + 0.8($r_M$ - $r_f$) |\n",
    "| $R^2$ | 0.576 | 0.436 |\n",
    "| Residual standard deviation, σ(e) | 10.3% | 19.1% |\n",
    "| Standard deviation of excess returns | 21.6% | 24.9% |"
   ]
  },
  {
   "cell_type": "markdown",
   "id": "0356ef98",
   "metadata": {},
   "source": [
    "**(a)** Calculate the following statistics for each stock:  \n",
    "\n",
    "i. Alpha  \n",
    "ii. Information ratio  \n",
    "iii. Sharpe ratio  \n",
    "iv. Treynor measure  "
   ]
  },
  {
   "cell_type": "code",
   "execution_count": 5,
   "id": "35dd9ce7",
   "metadata": {},
   "outputs": [
    {
     "name": "stdout",
     "output_type": "stream",
     "text": [
      "- alpha -\n",
      "A: 0.0100\n",
      "B: 0.0200\n",
      "\n",
      "- ir -\n",
      "A: 0.0971\n",
      "B: 0.1047\n",
      "\n",
      "- sr -\n",
      "A: 0.4907\n",
      "B: 0.3373\n",
      "\n",
      "- tm -\n",
      "A: 0.0883\n",
      "B: 0.1050\n",
      "\n"
     ]
    }
   ],
   "source": [
    "# Alpha\n",
    "alpha_A = 0.01\n",
    "alpha_B = 0.02\n",
    "\n",
    "# Information ratio\n",
    "s_e_A, s_e_B = 0.103, 0.191\n",
    "ir_A = alpha_A / s_e_A\n",
    "ir_B = alpha_B / s_e_B\n",
    "\n",
    "# Sharpe ratio\n",
    "r_f, r_M = 0.06, 0.14\n",
    "s_A, s_B = 0.216, 0.249\n",
    "b_A, b_B = 1.2, 0.8\n",
    "exc_r_A = alpha_A + b_A*(r_M-r_f)\n",
    "exc_r_B = alpha_B + b_B*(r_M-r_f)\n",
    "sr_A = exc_r_A / s_A\n",
    "sr_B = exc_r_B / s_B\n",
    "\n",
    "# Treynor measure\n",
    "tm_A = exc_r_A / b_A\n",
    "tm_B = exc_r_B / b_B\n",
    "\n",
    "statistics = ['alpha', 'ir', 'sr', 'tm']\n",
    "for s in statistics:\n",
    "    print(f'- {s} -')\n",
    "    exec(f\"print('A:', '%.4f'%{s}_A)\")\n",
    "    exec(f\"print('B:', '%.4f'%{s}_B)\")\n",
    "    print()"
   ]
  },
  {
   "cell_type": "markdown",
   "id": "4b300c0f",
   "metadata": {},
   "source": [
    "**(b)** Which stock is the best choice under the following circumstances?  \n",
    "\n",
    "i. This is the only risky asset to be held by the investor.  \n",
    "ii. This stock will be mixed with the rest of the investor’s portfolio, currently composed solely of holdings in the market-index fund.  \n",
    "iii. This is one of many stocks that the investor is analyzing to form an actively managed stock portfolio.  "
   ]
  },
  {
   "cell_type": "markdown",
   "id": "14dc5e82",
   "metadata": {},
   "source": [
    "i. A: Sharpe Ratio가 높은 것을 선택한다.  \n",
    "ii. B: Treynor Measure가 높은 것을 선택한다.  \n",
    "iii. B: Information Ratio가 높은 것을 선택한다."
   ]
  },
  {
   "cell_type": "markdown",
   "id": "ee4a977f",
   "metadata": {},
   "source": [
    "---"
   ]
  }
 ],
 "metadata": {
  "kernelspec": {
   "display_name": "Python 3 (ipykernel)",
   "language": "python",
   "name": "python3"
  },
  "language_info": {
   "codemirror_mode": {
    "name": "ipython",
    "version": 3
   },
   "file_extension": ".py",
   "mimetype": "text/x-python",
   "name": "python",
   "nbconvert_exporter": "python",
   "pygments_lexer": "ipython3",
   "version": "3.9.7"
  },
  "toc": {
   "base_numbering": 1,
   "nav_menu": {},
   "number_sections": false,
   "sideBar": true,
   "skip_h1_title": false,
   "title_cell": "Table of Contents",
   "title_sidebar": "Contents",
   "toc_cell": false,
   "toc_position": {},
   "toc_section_display": true,
   "toc_window_display": false
  }
 },
 "nbformat": 4,
 "nbformat_minor": 5
}
