{
 "cells": [
  {
   "cell_type": "markdown",
   "id": "de75f31f",
   "metadata": {},
   "source": [
    "# PM Homework 5\n",
    "\n",
    "**FBA Quant 이의형**"
   ]
  },
  {
   "cell_type": "markdown",
   "id": "5ad2f80b",
   "metadata": {},
   "source": [
    "---"
   ]
  },
  {
   "cell_type": "markdown",
   "id": "d570b5f0",
   "metadata": {},
   "source": [
    "## Assignment 1. Summarize Text Book"
   ]
  },
  {
   "cell_type": "markdown",
   "id": "da778e78",
   "metadata": {},
   "source": [
    "- [Quantitative Portfolio Management in Python] Chap 3. The Markowitz Framework\n",
    "\n",
    "## Chap 3. The Markowitz Framework"
   ]
  },
  {
   "cell_type": "markdown",
   "id": "fa3a4ded",
   "metadata": {},
   "source": [
    "### 3.1 Investment and Self-Fainancing Portfolios"
   ]
  },
  {
   "cell_type": "markdown",
   "id": "c5b1144a",
   "metadata": {},
   "source": [
    "**3.1.1 Notations and Definitions**  \n",
    "\n",
    "$d$: 위험 자산 개수  \n",
    "$\\pi$: 자산 비중  \n",
    "$x_0$: 초기 자산    \n",
    "\n",
    "$S_t^i$: 시간 $t$에서 자산 $i$의 가치 (시간은 일단 0과 $T$만 고려)  \n",
    "$q_i$: 시간 0에서 들고 있는 주식 수 (음수면 숏)  \n",
    "$R_T^i$: 시간 0~$T$ 사이 자산 $i$의 수익률  \n",
    "$R_T$: 자산들의 수익률 벡터  \n",
    "$M$: 자산들의 기대 수익률 벡터 ($E(R_T)$)  \n",
    "$\\Sigma$: 공분산 행렬  \n",
    "\n",
    "**포트폴리오 타입**\n",
    "- self-financing portfolio: 롱 포지션의 비용을 숏 포지션에서 확보 (초기 자본 필요 없음)\n",
    "- investment portfolio: 롱과 숏 모두 하더라도 포트폴리오 생성 비용 필요  \n",
    "\n",
    "숏 포지션 시 주식 빌려 바로 매도 후 현금 창출 -> 시점 T에서 시장 가격으로 매입하여 상환 (이 경우, 순현금흐름은 $S_0^i-S_T^i$)\n"
   ]
  },
  {
   "cell_type": "markdown",
   "id": "bf05e2ab",
   "metadata": {},
   "source": [
    "**3.1.2 Representations of the Portfolios**\n",
    "\n",
    "$$\\text {investment portfolio}: \\sum_{i=1}^{i=d} q_i S_0^i > 0$$\n",
    "\n",
    "$$\\text {self-financing portfolio}: \\sum_{i=1}^{i=d} q_i S_0^i = 0$$\n",
    "\n",
    "property 3.1.1, 3.1.2의 성질들로\n",
    "- investment portfolio: $\\displaystyle \\sum_{i=1}^{i=d} \\pi_i = 1$\n",
    "- self-financing portfolio: $\\displaystyle \\sum_{i=1}^{i=d} \\pi_i = 0$\n",
    "\n",
    "시점 0의 포트폴리오 가치: $W_0(x_0, \\pi)$  \n",
    "시점 0의 포트폴리오 가치: $W_T(x_T, \\pi)$  \n",
    "\n",
    "self-financing portfolio $(x_0, \\pi_1, ..., \\pi_d)$에 대하여 $x_0$는 notional이라 불린다."
   ]
  },
  {
   "cell_type": "markdown",
   "id": "880ee7c2",
   "metadata": {},
   "source": [
    "**3.1.3 Returns of a Portfolio**\n",
    "\n",
    "$$R_T(\\pi) = \\frac {W_T(x_0, \\pi) - W_0(x_0, \\pi)} {x_0} \\quad (\\text {self-financing의 경우 $W_0$ 텀은 없어도 됨.}) \\;\\;  = \\sum_{i=1}^{i=d} \\pi_i R_T^i$$\n",
    "\n",
    "- $ R_T(\\pi) = \\pi'R_T$  \n",
    "- $ E(R_T(\\pi)) = E(\\pi'R_T)$  \n",
    "- $\\text {Cov} (R_T(\\pi_P), R_T(\\pi_Q)) = \\pi'_P \\text {Cov} (R_T, R_T) \\pi_Q$ (2개의 포트폴리오 $\\pi_P$와 $\\pi_Q$를 고려할 때) (??)  \n",
    "　  \n",
    "\n",
    "$\\sigma_\\pi = \\sigma(R_T(\\pi))$: 전략 $\\pi$의 수익률의 표준편차  \n",
    "$m_\\pi = E(R_T(\\pi))$: 전략 $\\pi$의 기대 수익률\n"
   ]
  },
  {
   "cell_type": "markdown",
   "id": "19b077fe",
   "metadata": {},
   "source": [
    "### 3.2 Absence of Arbitrage Opportunuties (AAO)"
   ]
  },
  {
   "cell_type": "markdown",
   "id": "2e6515d7",
   "metadata": {},
   "source": [
    "차익거래 기회의 부재 조건을 정의\n",
    "- 위험자산 공분산 행렬의 invertibility를 의미  \n",
    "\n",
    "**AAO 조건**\n",
    "- 두 무위험 투자 전략이 존재하는 경우, 수익률은 동일하다. (경제에서 두 개의 명백한 무위험 이자율이 존재하는 것은 불가능)\n",
    "- self-financing 전략의 리스크가 없다면, 수익률은 0이다. (무에서 유를 창조하는 것은 불가능)\n",
    "\n",
    "**$\\Sigma$가 가역이면**\n",
    "- 위험 자산으로 구성된 경제에 대해 AAO 조건 충족 (det?)\n",
    "- 수익률 $r_0$ 무위험 자산이 추가되어도 AAO 조건 충족\n",
    "\n",
    "$\\Sigma$가 가역이 아니면 리스크 없는 포트폴리오를 구성할 수 있다.  \n",
    "\n",
    "모델은 항상 $\\Sigma$가 가역이라는 가설을 세우며, 이 경우 AAO 조건이 충족된다.  \n",
    "\n",
    "우리는 무위험 자산이 없는 경제와 있는 경제 두 가지를 살펴볼 것"
   ]
  },
  {
   "cell_type": "markdown",
   "id": "92ea2de8",
   "metadata": {},
   "source": [
    "### 3.3 Multidimensional Estimations"
   ]
  },
  {
   "cell_type": "markdown",
   "id": "e99aa772",
   "metadata": {},
   "source": [
    "**Wishart Distribution**\n",
    "\n",
    "$X_i \\; \\text ~ \\; N(0,\\; \\sum_d) i.i.d$이면 $\\displaystyle \\sum_{i=1}^{i=n} X_i X_i'$는 $n$의 자유도를 가진 Wishart Distribution\n",
    "\n",
    "$\\sum_{i=1}^{i=n} X_i X_i' \\; \\text ~ \\; W(n,\\;\\sum_d)$  \n",
    "\n",
    "$d=1$일 때, Wishart 분포는 카이제곱 분포와 일치 (Wishart 분포는 카이제곱 분포를 행렬 공간으로 일반화)"
   ]
  },
  {
   "cell_type": "markdown",
   "id": "cb5b48ce",
   "metadata": {},
   "source": [
    "**Hotelling's $T^2$ Distribution**  \n",
    "\n",
    "$nX'W^{-1}X \\text ~ T^2_d(n)$"
   ]
  },
  {
   "cell_type": "markdown",
   "id": "0db0bf64",
   "metadata": {},
   "source": [
    "**Fisher-Snedecor Distributions**  \n",
    "\n",
    "$\\displaystyle \\frac {\\chi_1/d_1} {\\chi_2/d_2}$"
   ]
  },
  {
   "cell_type": "markdown",
   "id": "a1ecb1a3",
   "metadata": {},
   "source": [
    "---"
   ]
  },
  {
   "cell_type": "markdown",
   "id": "931b6a4e",
   "metadata": {},
   "source": [
    "## Assignment 2. Implementing in Python"
   ]
  },
  {
   "cell_type": "markdown",
   "id": "ee4a977f",
   "metadata": {},
   "source": [
    "---"
   ]
  },
  {
   "cell_type": "markdown",
   "id": "e38ecee1",
   "metadata": {},
   "source": [
    "### Problem 1.\n",
    "\n",
    "Clone (or Refactoring) the code from '3.4 Market Data with Python' and try running it to see the actual output.  \n",
    "(When loading the data, use the yfinance library and select the tickers  ['DHL.DE', 'ALV.DE'].)  "
   ]
  },
  {
   "cell_type": "code",
   "execution_count": 1,
   "id": "b16cfdeb",
   "metadata": {},
   "outputs": [
    {
     "name": "stdout",
     "output_type": "stream",
     "text": [
      "[*********************100%***********************]  1 of 1 completed\n",
      "[*********************100%***********************]  1 of 1 completed\n"
     ]
    },
    {
     "data": {
      "text/html": [
       "<div>\n",
       "<style scoped>\n",
       "    .dataframe tbody tr th:only-of-type {\n",
       "        vertical-align: middle;\n",
       "    }\n",
       "\n",
       "    .dataframe tbody tr th {\n",
       "        vertical-align: top;\n",
       "    }\n",
       "\n",
       "    .dataframe thead th {\n",
       "        text-align: right;\n",
       "    }\n",
       "</style>\n",
       "<table border=\"1\" class=\"dataframe\">\n",
       "  <thead>\n",
       "    <tr style=\"text-align: right;\">\n",
       "      <th></th>\n",
       "      <th>DHL.DE</th>\n",
       "      <th>ALV.DE</th>\n",
       "    </tr>\n",
       "    <tr>\n",
       "      <th>Date</th>\n",
       "      <th></th>\n",
       "      <th></th>\n",
       "    </tr>\n",
       "  </thead>\n",
       "  <tbody>\n",
       "    <tr>\n",
       "      <th>2017-01-02</th>\n",
       "      <td>31.400000</td>\n",
       "      <td>157.300003</td>\n",
       "    </tr>\n",
       "    <tr>\n",
       "      <th>2017-01-03</th>\n",
       "      <td>31.500000</td>\n",
       "      <td>159.550003</td>\n",
       "    </tr>\n",
       "    <tr>\n",
       "      <th>2017-01-04</th>\n",
       "      <td>31.325001</td>\n",
       "      <td>160.399994</td>\n",
       "    </tr>\n",
       "    <tr>\n",
       "      <th>2017-01-05</th>\n",
       "      <td>31.855000</td>\n",
       "      <td>160.699997</td>\n",
       "    </tr>\n",
       "    <tr>\n",
       "      <th>2017-01-06</th>\n",
       "      <td>31.870001</td>\n",
       "      <td>161.100006</td>\n",
       "    </tr>\n",
       "    <tr>\n",
       "      <th>...</th>\n",
       "      <td>...</td>\n",
       "      <td>...</td>\n",
       "    </tr>\n",
       "    <tr>\n",
       "      <th>2017-12-21</th>\n",
       "      <td>40.705002</td>\n",
       "      <td>196.250000</td>\n",
       "    </tr>\n",
       "    <tr>\n",
       "      <th>2017-12-22</th>\n",
       "      <td>40.494999</td>\n",
       "      <td>195.250000</td>\n",
       "    </tr>\n",
       "    <tr>\n",
       "      <th>2017-12-27</th>\n",
       "      <td>40.610001</td>\n",
       "      <td>194.100006</td>\n",
       "    </tr>\n",
       "    <tr>\n",
       "      <th>2017-12-28</th>\n",
       "      <td>40.134998</td>\n",
       "      <td>193.250000</td>\n",
       "    </tr>\n",
       "    <tr>\n",
       "      <th>2017-12-29</th>\n",
       "      <td>39.750000</td>\n",
       "      <td>191.500000</td>\n",
       "    </tr>\n",
       "  </tbody>\n",
       "</table>\n",
       "<p>252 rows × 2 columns</p>\n",
       "</div>"
      ],
      "text/plain": [
       "               DHL.DE      ALV.DE\n",
       "Date                             \n",
       "2017-01-02  31.400000  157.300003\n",
       "2017-01-03  31.500000  159.550003\n",
       "2017-01-04  31.325001  160.399994\n",
       "2017-01-05  31.855000  160.699997\n",
       "2017-01-06  31.870001  161.100006\n",
       "...               ...         ...\n",
       "2017-12-21  40.705002  196.250000\n",
       "2017-12-22  40.494999  195.250000\n",
       "2017-12-27  40.610001  194.100006\n",
       "2017-12-28  40.134998  193.250000\n",
       "2017-12-29  39.750000  191.500000\n",
       "\n",
       "[252 rows x 2 columns]"
      ]
     },
     "execution_count": 1,
     "metadata": {},
     "output_type": "execute_result"
    }
   ],
   "source": [
    "import pandas as pd\n",
    "import numpy as np\n",
    "from numpy import linalg as LA\n",
    "import matplotlib.pyplot as plt\n",
    "\n",
    "from scipy import stats\n",
    "import yfinance as yf\n",
    "\n",
    "\n",
    "Tickers = ['DHL.DE', 'ALV.DE']\n",
    "startinput = '2017-01-01'\n",
    "endinput = '2017-12-31'\n",
    "\n",
    "S = pd.DataFrame()\n",
    "for t in Tickers: \n",
    "    S[t] = yf.download(t, start=startinput, end=endinput)['Close']\n",
    "S"
   ]
  },
  {
   "cell_type": "code",
   "execution_count": 2,
   "id": "f4e893a4",
   "metadata": {},
   "outputs": [
    {
     "data": {
      "text/plain": [
       "(DHL.DE    0.000988\n",
       " ALV.DE    0.000817\n",
       " dtype: float64,\n",
       "           DHL.DE    ALV.DE\n",
       " DHL.DE  0.000097  0.000045\n",
       " ALV.DE  0.000045  0.000066)"
      ]
     },
     "execution_count": 2,
     "metadata": {},
     "output_type": "execute_result"
    }
   ],
   "source": [
    "R = S.pct_change()[1:]\n",
    "Mean = R.mean()\n",
    "Covar = R.cov()\n",
    "Mean, Covar"
   ]
  },
  {
   "cell_type": "code",
   "execution_count": 3,
   "id": "8f90f690",
   "metadata": {},
   "outputs": [],
   "source": [
    "n = len(R)\n",
    "d = len(Tickers)\n",
    "alpha_conf = 0.95\n",
    "dist = stats.f(d, n - d)  # F 분포\n",
    "[a, b] = dist.interval(2 * alpha_conf - 1)\n",
    "q = float(d) / float(n - d) * float(b)\n",
    "\n",
    "startdate = pd.to_datetime(startinput).date()\n",
    "enddate = pd.to_datetime(endinput).date()\n",
    "Duration = (enddate - startdate).days\n",
    "m = float(len(R) - 1)\n",
    "delta_t = Duration / 365 * m\n",
    "\n",
    "w, v = LA.eig(Covar)\n",
    "arg = np.linspace(0, 2 * np.pi, 100)\n",
    "x = np.cos(arg) * np.sqrt(q * w[0]) * v.T[0][0] + np.sin(arg) * np.sqrt(q * w[1]) * v.T[1][0] + Mean[0]\n",
    "y = np.cos(arg) * np.sqrt(q * w[0]) * v.T[0][1] + np.sin(arg) * np.sqrt(q * w[1]) * v.T[1][1] + Mean[1]\n",
    "z1 = R['DHL.DE']\n",
    "z2 = R['ALV.DE']"
   ]
  },
  {
   "cell_type": "code",
   "execution_count": 4,
   "id": "824fcbbf",
   "metadata": {},
   "outputs": [
    {
     "data": {
      "image/png": "[encoded data removed]",
      "text/plain": [
       "<Figure size 432x288 with 1 Axes>"
      ]
     },
     "metadata": {
      "needs_background": "light"
     },
     "output_type": "display_data"
    },
    {
     "data": {
      "image/png": "[encoded data removed]",
      "text/plain": [
       "<Figure size 432x288 with 1 Axes>"
      ]
     },
     "metadata": {
      "needs_background": "light"
     },
     "output_type": "display_data"
    }
   ],
   "source": [
    "plt.scatter(z1, z2, marker='+', alpha=0.7)\n",
    "plt.plot(x, y, alpha=0.9, color=\"red\")\n",
    "plt.scatter(Mean[0], Mean[1], color=\"black\", marker='+')\n",
    "plt.xlabel(r'$m_1$')\n",
    "plt.ylabel(r'$m_2$')\n",
    "plt.suptitle('Fig. 3.1 Confidence Domains', size='medium')\n",
    "plt.grid()\n",
    "\n",
    "beta = 0.95\n",
    "distchi = stats.chi2(2)\n",
    "Ea, Eb = dist.interval(2*beta-1)\n",
    "p = Eb\n",
    "Ex = np.cos(arg) * np.sqrt(p * w[0]) * v.T[0][0] + np.sin(arg) * np.sqrt(p * w[1]) * v.T[1][0] + Mean[0]\n",
    "Ey = np.cos(arg) * np.sqrt(p * w[0]) * v.T[0][1] + np.sin(arg) * np.sqrt(p * w[1]) * v.T[1][1] + Mean[1]\n",
    "\n",
    "plt.plot(Ex, Ey, alpha=0.7, color=\"green\")\n",
    "plt.show()\n",
    "\n",
    "plt.plot(x, y, alpha=0.9, color=\"red\")\n",
    "plt.scatter(Mean[0], Mean[1], color=\"black\", marker='+')\n",
    "plt.xlabel(r'$m_1$')\n",
    "plt.ylabel(r'$m_2$')\n",
    "plt.suptitle('Fig. 3.2 95% Confidence Domains for M', size='medium')\n",
    "plt.grid()\n",
    "plt.show()"
   ]
  },
  {
   "cell_type": "markdown",
   "id": "fcbaaa72",
   "metadata": {},
   "source": [
    "---"
   ]
  },
  {
   "cell_type": "markdown",
   "id": "af629298",
   "metadata": {},
   "source": [
    "### Problem 2.\n",
    "\n",
    "Select two desired assets and repeat the same process to generate the output."
   ]
  },
  {
   "cell_type": "code",
   "execution_count": 5,
   "id": "2d497fd6",
   "metadata": {},
   "outputs": [
    {
     "name": "stdout",
     "output_type": "stream",
     "text": [
      "[*********************100%***********************]  1 of 1 completed\n",
      "[*********************100%***********************]  1 of 1 completed\n"
     ]
    },
    {
     "data": {
      "text/html": [
       "<div>\n",
       "<style scoped>\n",
       "    .dataframe tbody tr th:only-of-type {\n",
       "        vertical-align: middle;\n",
       "    }\n",
       "\n",
       "    .dataframe tbody tr th {\n",
       "        vertical-align: top;\n",
       "    }\n",
       "\n",
       "    .dataframe thead th {\n",
       "        text-align: right;\n",
       "    }\n",
       "</style>\n",
       "<table border=\"1\" class=\"dataframe\">\n",
       "  <thead>\n",
       "    <tr style=\"text-align: right;\">\n",
       "      <th></th>\n",
       "      <th>005930.ks</th>\n",
       "      <th>000020.ks</th>\n",
       "    </tr>\n",
       "    <tr>\n",
       "      <th>Date</th>\n",
       "      <th></th>\n",
       "      <th></th>\n",
       "    </tr>\n",
       "  </thead>\n",
       "  <tbody>\n",
       "    <tr>\n",
       "      <th>2017-01-02</th>\n",
       "      <td>36100.0</td>\n",
       "      <td>8110.0</td>\n",
       "    </tr>\n",
       "    <tr>\n",
       "      <th>2017-01-03</th>\n",
       "      <td>36480.0</td>\n",
       "      <td>8110.0</td>\n",
       "    </tr>\n",
       "    <tr>\n",
       "      <th>2017-01-04</th>\n",
       "      <td>36160.0</td>\n",
       "      <td>8150.0</td>\n",
       "    </tr>\n",
       "    <tr>\n",
       "      <th>2017-01-05</th>\n",
       "      <td>35560.0</td>\n",
       "      <td>8210.0</td>\n",
       "    </tr>\n",
       "    <tr>\n",
       "      <th>2017-01-06</th>\n",
       "      <td>36200.0</td>\n",
       "      <td>8160.0</td>\n",
       "    </tr>\n",
       "    <tr>\n",
       "      <th>...</th>\n",
       "      <td>...</td>\n",
       "      <td>...</td>\n",
       "    </tr>\n",
       "    <tr>\n",
       "      <th>2017-12-21</th>\n",
       "      <td>49140.0</td>\n",
       "      <td>9320.0</td>\n",
       "    </tr>\n",
       "    <tr>\n",
       "      <th>2017-12-22</th>\n",
       "      <td>49700.0</td>\n",
       "      <td>9260.0</td>\n",
       "    </tr>\n",
       "    <tr>\n",
       "      <th>2017-12-26</th>\n",
       "      <td>48200.0</td>\n",
       "      <td>9370.0</td>\n",
       "    </tr>\n",
       "    <tr>\n",
       "      <th>2017-12-27</th>\n",
       "      <td>49360.0</td>\n",
       "      <td>9420.0</td>\n",
       "    </tr>\n",
       "    <tr>\n",
       "      <th>2017-12-28</th>\n",
       "      <td>50960.0</td>\n",
       "      <td>9750.0</td>\n",
       "    </tr>\n",
       "  </tbody>\n",
       "</table>\n",
       "<p>241 rows × 2 columns</p>\n",
       "</div>"
      ],
      "text/plain": [
       "            005930.ks  000020.ks\n",
       "Date                            \n",
       "2017-01-02    36100.0     8110.0\n",
       "2017-01-03    36480.0     8110.0\n",
       "2017-01-04    36160.0     8150.0\n",
       "2017-01-05    35560.0     8210.0\n",
       "2017-01-06    36200.0     8160.0\n",
       "...               ...        ...\n",
       "2017-12-21    49140.0     9320.0\n",
       "2017-12-22    49700.0     9260.0\n",
       "2017-12-26    48200.0     9370.0\n",
       "2017-12-27    49360.0     9420.0\n",
       "2017-12-28    50960.0     9750.0\n",
       "\n",
       "[241 rows x 2 columns]"
      ]
     },
     "execution_count": 5,
     "metadata": {},
     "output_type": "execute_result"
    }
   ],
   "source": [
    "import pandas as pd\n",
    "import numpy as np\n",
    "from numpy import linalg as LA\n",
    "import matplotlib.pyplot as plt\n",
    "\n",
    "from scipy import stats\n",
    "import yfinance as yf\n",
    "\n",
    "\n",
    "# Data extraction\n",
    "Tickers = ['005930.ks', '000020.ks']\n",
    "startinput = '2017-01-01'\n",
    "endinput = '2017-12-31'\n",
    "\n",
    "# Load Price Data\n",
    "S = pd.DataFrame()\n",
    "for t in Tickers: \n",
    "    S[t] = yf.download(t, start=startinput, end=endinput)['Close']\n",
    "S"
   ]
  },
  {
   "cell_type": "code",
   "execution_count": 6,
   "id": "2ee1eabf",
   "metadata": {},
   "outputs": [
    {
     "data": {
      "text/plain": [
       "(005930.ks    0.001553\n",
       " 000020.ks    0.000921\n",
       " dtype: float64,\n",
       "            005930.ks  000020.ks\n",
       " 005930.ks   0.000232   0.000015\n",
       " 000020.ks   0.000015   0.000310)"
      ]
     },
     "execution_count": 6,
     "metadata": {},
     "output_type": "execute_result"
    }
   ],
   "source": [
    "R = S.pct_change()[1:]\n",
    "Mean = R.mean()\n",
    "Covar = R.cov()\n",
    "Mean, Covar"
   ]
  },
  {
   "cell_type": "code",
   "execution_count": 7,
   "id": "1866eb31",
   "metadata": {},
   "outputs": [],
   "source": [
    "n = len(R)\n",
    "d = len(Tickers)\n",
    "alpha_conf = 0.95\n",
    "dist = stats.f(d, n - d)  # F 분포\n",
    "[a, b] = dist.interval(2 * alpha_conf - 1)\n",
    "q = float(d) / float(n - d) * float(b)\n",
    "\n",
    "startdate = pd.to_datetime(startinput).date()\n",
    "enddate = pd.to_datetime(endinput).date()\n",
    "Duration = (enddate - startdate).days\n",
    "m = float(len(R) - 1)\n",
    "delta_t = Duration / 365 * m\n",
    "\n",
    "w, v = LA.eig(Covar)\n",
    "arg = np.linspace(0, 2 * np.pi, 100)\n",
    "x = np.cos(arg) * np.sqrt(q * w[0]) * v.T[0][0] + np.sin(arg) * np.sqrt(q * w[1]) * v.T[1][0] + Mean[0]\n",
    "y = np.cos(arg) * np.sqrt(q * w[0]) * v.T[0][1] + np.sin(arg) * np.sqrt(q * w[1]) * v.T[1][1] + Mean[1]\n",
    "z1 = R['005930.ks']\n",
    "z2 = R['000020.ks']"
   ]
  },
  {
   "cell_type": "code",
   "execution_count": 8,
   "id": "d1ec7f26",
   "metadata": {},
   "outputs": [
    {
     "data": {
      "image/png": "[encoded data removed]",
      "text/plain": [
       "<Figure size 432x288 with 1 Axes>"
      ]
     },
     "metadata": {
      "needs_background": "light"
     },
     "output_type": "display_data"
    },
    {
     "data": {
      "image/png": "[encoded data removed]",
      "text/plain": [
       "<Figure size 432x288 with 1 Axes>"
      ]
     },
     "metadata": {
      "needs_background": "light"
     },
     "output_type": "display_data"
    }
   ],
   "source": [
    "plt.scatter(z1, z2, marker='+', alpha=0.7)\n",
    "plt.plot(x, y, alpha=0.9, color=\"red\")\n",
    "plt.scatter(Mean[0], Mean[1], color=\"black\", marker='+')\n",
    "plt.xlabel(r'$m_1$')\n",
    "plt.ylabel(r'$m_2$')\n",
    "plt.suptitle('Fig. 3.1 Confidence Domains', size='medium')\n",
    "plt.grid()\n",
    "\n",
    "beta = 0.95\n",
    "distchi = stats.chi2(2)\n",
    "Ea, Eb = dist.interval(2*beta-1)\n",
    "p = Eb\n",
    "Ex = np.cos(arg) * np.sqrt(p * w[0]) * v.T[0][0] + np.sin(arg) * np.sqrt(p * w[1]) * v.T[1][0] + Mean[0]\n",
    "Ey = np.cos(arg) * np.sqrt(p * w[0]) * v.T[0][1] + np.sin(arg) * np.sqrt(p * w[1]) * v.T[1][1] + Mean[1]\n",
    "\n",
    "plt.plot(Ex, Ey, alpha=0.7, color=\"green\")\n",
    "plt.show()\n",
    "\n",
    "plt.plot(x, y, alpha=0.9, color=\"red\")\n",
    "plt.scatter(Mean[0], Mean[1], color=\"black\", marker='+')\n",
    "plt.xlabel(r'$m_1$')\n",
    "plt.ylabel(r'$m_2$')\n",
    "plt.suptitle('Fig. 3.2 95% Confidence Domains for M', size='medium')\n",
    "plt.grid()\n",
    "plt.show()"
   ]
  },
  {
   "cell_type": "markdown",
   "id": "fa144dd7",
   "metadata": {},
   "source": [
    "---"
   ]
  }
 ],
 "metadata": {
  "kernelspec": {
   "display_name": "Python 3 (ipykernel)",
   "language": "python",
   "name": "python3"
  },
  "language_info": {
   "codemirror_mode": {
    "name": "ipython",
    "version": 3
   },
   "file_extension": ".py",
   "mimetype": "text/x-python",
   "name": "python",
   "nbconvert_exporter": "python",
   "pygments_lexer": "ipython3",
   "version": "3.9.7"
  },
  "toc": {
   "base_numbering": 1,
   "nav_menu": {},
   "number_sections": false,
   "sideBar": true,
   "skip_h1_title": false,
   "title_cell": "Table of Contents",
   "title_sidebar": "Contents",
   "toc_cell": false,
   "toc_position": {},
   "toc_section_display": true,
   "toc_window_display": false
  }
 },
 "nbformat": 4,
 "nbformat_minor": 5
}
